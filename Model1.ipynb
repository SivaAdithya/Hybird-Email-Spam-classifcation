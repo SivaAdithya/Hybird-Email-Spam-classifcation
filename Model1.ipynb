{
 "cells": [
  {
   "cell_type": "code",
   "execution_count": 31,
   "id": "7d81c56e",
   "metadata": {},
   "outputs": [],
   "source": [
    "import pandas as pd\n",
    "import numpy as np\n",
    "import matplotlib.pyplot as plt\n",
    "from sklearn.model_selection import train_test_split\n",
    "from sklearn.preprocessing import StandardScaler\n",
    "from sklearn.metrics import accuracy_score, precision_score, recall_score, f1_score"
   ]
  },
  {
   "cell_type": "code",
   "execution_count": 32,
   "id": "1ef483ae",
   "metadata": {},
   "outputs": [
    {
     "data": {
      "text/html": [
       "<div>\n",
       "<style scoped>\n",
       "    .dataframe tbody tr th:only-of-type {\n",
       "        vertical-align: middle;\n",
       "    }\n",
       "\n",
       "    .dataframe tbody tr th {\n",
       "        vertical-align: top;\n",
       "    }\n",
       "\n",
       "    .dataframe thead th {\n",
       "        text-align: right;\n",
       "    }\n",
       "</style>\n",
       "<table border=\"1\" class=\"dataframe\">\n",
       "  <thead>\n",
       "    <tr style=\"text-align: right;\">\n",
       "      <th></th>\n",
       "      <th>Email No.</th>\n",
       "      <th>the</th>\n",
       "      <th>to</th>\n",
       "      <th>ect</th>\n",
       "      <th>and</th>\n",
       "      <th>for</th>\n",
       "      <th>of</th>\n",
       "      <th>a</th>\n",
       "      <th>you</th>\n",
       "      <th>hou</th>\n",
       "      <th>...</th>\n",
       "      <th>connevey</th>\n",
       "      <th>jay</th>\n",
       "      <th>valued</th>\n",
       "      <th>lay</th>\n",
       "      <th>infrastructure</th>\n",
       "      <th>military</th>\n",
       "      <th>allowing</th>\n",
       "      <th>ff</th>\n",
       "      <th>dry</th>\n",
       "      <th>Prediction</th>\n",
       "    </tr>\n",
       "  </thead>\n",
       "  <tbody>\n",
       "    <tr>\n",
       "      <th>0</th>\n",
       "      <td>Email 1</td>\n",
       "      <td>0</td>\n",
       "      <td>0</td>\n",
       "      <td>1</td>\n",
       "      <td>0</td>\n",
       "      <td>0</td>\n",
       "      <td>0</td>\n",
       "      <td>2</td>\n",
       "      <td>0</td>\n",
       "      <td>0</td>\n",
       "      <td>...</td>\n",
       "      <td>0</td>\n",
       "      <td>0</td>\n",
       "      <td>0</td>\n",
       "      <td>0</td>\n",
       "      <td>0</td>\n",
       "      <td>0</td>\n",
       "      <td>0</td>\n",
       "      <td>0</td>\n",
       "      <td>0</td>\n",
       "      <td>0</td>\n",
       "    </tr>\n",
       "    <tr>\n",
       "      <th>1</th>\n",
       "      <td>Email 2</td>\n",
       "      <td>8</td>\n",
       "      <td>13</td>\n",
       "      <td>24</td>\n",
       "      <td>6</td>\n",
       "      <td>6</td>\n",
       "      <td>2</td>\n",
       "      <td>102</td>\n",
       "      <td>1</td>\n",
       "      <td>27</td>\n",
       "      <td>...</td>\n",
       "      <td>0</td>\n",
       "      <td>0</td>\n",
       "      <td>0</td>\n",
       "      <td>0</td>\n",
       "      <td>0</td>\n",
       "      <td>0</td>\n",
       "      <td>0</td>\n",
       "      <td>1</td>\n",
       "      <td>0</td>\n",
       "      <td>0</td>\n",
       "    </tr>\n",
       "    <tr>\n",
       "      <th>2</th>\n",
       "      <td>Email 3</td>\n",
       "      <td>0</td>\n",
       "      <td>0</td>\n",
       "      <td>1</td>\n",
       "      <td>0</td>\n",
       "      <td>0</td>\n",
       "      <td>0</td>\n",
       "      <td>8</td>\n",
       "      <td>0</td>\n",
       "      <td>0</td>\n",
       "      <td>...</td>\n",
       "      <td>0</td>\n",
       "      <td>0</td>\n",
       "      <td>0</td>\n",
       "      <td>0</td>\n",
       "      <td>0</td>\n",
       "      <td>0</td>\n",
       "      <td>0</td>\n",
       "      <td>0</td>\n",
       "      <td>0</td>\n",
       "      <td>0</td>\n",
       "    </tr>\n",
       "    <tr>\n",
       "      <th>3</th>\n",
       "      <td>Email 4</td>\n",
       "      <td>0</td>\n",
       "      <td>5</td>\n",
       "      <td>22</td>\n",
       "      <td>0</td>\n",
       "      <td>5</td>\n",
       "      <td>1</td>\n",
       "      <td>51</td>\n",
       "      <td>2</td>\n",
       "      <td>10</td>\n",
       "      <td>...</td>\n",
       "      <td>0</td>\n",
       "      <td>0</td>\n",
       "      <td>0</td>\n",
       "      <td>0</td>\n",
       "      <td>0</td>\n",
       "      <td>0</td>\n",
       "      <td>0</td>\n",
       "      <td>0</td>\n",
       "      <td>0</td>\n",
       "      <td>0</td>\n",
       "    </tr>\n",
       "    <tr>\n",
       "      <th>4</th>\n",
       "      <td>Email 5</td>\n",
       "      <td>7</td>\n",
       "      <td>6</td>\n",
       "      <td>17</td>\n",
       "      <td>1</td>\n",
       "      <td>5</td>\n",
       "      <td>2</td>\n",
       "      <td>57</td>\n",
       "      <td>0</td>\n",
       "      <td>9</td>\n",
       "      <td>...</td>\n",
       "      <td>0</td>\n",
       "      <td>0</td>\n",
       "      <td>0</td>\n",
       "      <td>0</td>\n",
       "      <td>0</td>\n",
       "      <td>0</td>\n",
       "      <td>0</td>\n",
       "      <td>1</td>\n",
       "      <td>0</td>\n",
       "      <td>0</td>\n",
       "    </tr>\n",
       "  </tbody>\n",
       "</table>\n",
       "<p>5 rows × 3002 columns</p>\n",
       "</div>"
      ],
      "text/plain": [
       "  Email No.  the  to  ect  and  for  of    a  you  hou  ...  connevey  jay  \\\n",
       "0   Email 1    0   0    1    0    0   0    2    0    0  ...         0    0   \n",
       "1   Email 2    8  13   24    6    6   2  102    1   27  ...         0    0   \n",
       "2   Email 3    0   0    1    0    0   0    8    0    0  ...         0    0   \n",
       "3   Email 4    0   5   22    0    5   1   51    2   10  ...         0    0   \n",
       "4   Email 5    7   6   17    1    5   2   57    0    9  ...         0    0   \n",
       "\n",
       "   valued  lay  infrastructure  military  allowing  ff  dry  Prediction  \n",
       "0       0    0               0         0         0   0    0           0  \n",
       "1       0    0               0         0         0   1    0           0  \n",
       "2       0    0               0         0         0   0    0           0  \n",
       "3       0    0               0         0         0   0    0           0  \n",
       "4       0    0               0         0         0   1    0           0  \n",
       "\n",
       "[5 rows x 3002 columns]"
      ]
     },
     "execution_count": 32,
     "metadata": {},
     "output_type": "execute_result"
    }
   ],
   "source": [
    "data = pd.read_csv('D:\\Study material\\sem6\\AI for CyberSecurity\\Jcomp\\Data\\emails.csv')\n",
    "data.head()"
   ]
  },
  {
   "cell_type": "code",
   "execution_count": 33,
   "id": "a72802c4",
   "metadata": {},
   "outputs": [
    {
     "data": {
      "text/plain": [
       "Email No.     0\n",
       "the           0\n",
       "to            0\n",
       "ect           0\n",
       "and           0\n",
       "             ..\n",
       "military      0\n",
       "allowing      0\n",
       "ff            0\n",
       "dry           0\n",
       "Prediction    0\n",
       "Length: 3002, dtype: int64"
      ]
     },
     "execution_count": 33,
     "metadata": {},
     "output_type": "execute_result"
    }
   ],
   "source": [
    "data.isnull().sum()"
   ]
  },
  {
   "cell_type": "code",
   "execution_count": 34,
   "id": "ee650507",
   "metadata": {},
   "outputs": [
    {
     "data": {
      "text/html": [
       "<div>\n",
       "<style scoped>\n",
       "    .dataframe tbody tr th:only-of-type {\n",
       "        vertical-align: middle;\n",
       "    }\n",
       "\n",
       "    .dataframe tbody tr th {\n",
       "        vertical-align: top;\n",
       "    }\n",
       "\n",
       "    .dataframe thead th {\n",
       "        text-align: right;\n",
       "    }\n",
       "</style>\n",
       "<table border=\"1\" class=\"dataframe\">\n",
       "  <thead>\n",
       "    <tr style=\"text-align: right;\">\n",
       "      <th></th>\n",
       "      <th>the</th>\n",
       "      <th>to</th>\n",
       "      <th>ect</th>\n",
       "      <th>and</th>\n",
       "      <th>for</th>\n",
       "      <th>of</th>\n",
       "      <th>a</th>\n",
       "      <th>you</th>\n",
       "      <th>hou</th>\n",
       "      <th>in</th>\n",
       "      <th>...</th>\n",
       "      <th>connevey</th>\n",
       "      <th>jay</th>\n",
       "      <th>valued</th>\n",
       "      <th>lay</th>\n",
       "      <th>infrastructure</th>\n",
       "      <th>military</th>\n",
       "      <th>allowing</th>\n",
       "      <th>ff</th>\n",
       "      <th>dry</th>\n",
       "      <th>Prediction</th>\n",
       "    </tr>\n",
       "  </thead>\n",
       "  <tbody>\n",
       "    <tr>\n",
       "      <th>0</th>\n",
       "      <td>0</td>\n",
       "      <td>0</td>\n",
       "      <td>1</td>\n",
       "      <td>0</td>\n",
       "      <td>0</td>\n",
       "      <td>0</td>\n",
       "      <td>2</td>\n",
       "      <td>0</td>\n",
       "      <td>0</td>\n",
       "      <td>0</td>\n",
       "      <td>...</td>\n",
       "      <td>0</td>\n",
       "      <td>0</td>\n",
       "      <td>0</td>\n",
       "      <td>0</td>\n",
       "      <td>0</td>\n",
       "      <td>0</td>\n",
       "      <td>0</td>\n",
       "      <td>0</td>\n",
       "      <td>0</td>\n",
       "      <td>0</td>\n",
       "    </tr>\n",
       "    <tr>\n",
       "      <th>1</th>\n",
       "      <td>8</td>\n",
       "      <td>13</td>\n",
       "      <td>24</td>\n",
       "      <td>6</td>\n",
       "      <td>6</td>\n",
       "      <td>2</td>\n",
       "      <td>102</td>\n",
       "      <td>1</td>\n",
       "      <td>27</td>\n",
       "      <td>18</td>\n",
       "      <td>...</td>\n",
       "      <td>0</td>\n",
       "      <td>0</td>\n",
       "      <td>0</td>\n",
       "      <td>0</td>\n",
       "      <td>0</td>\n",
       "      <td>0</td>\n",
       "      <td>0</td>\n",
       "      <td>1</td>\n",
       "      <td>0</td>\n",
       "      <td>0</td>\n",
       "    </tr>\n",
       "    <tr>\n",
       "      <th>2</th>\n",
       "      <td>0</td>\n",
       "      <td>0</td>\n",
       "      <td>1</td>\n",
       "      <td>0</td>\n",
       "      <td>0</td>\n",
       "      <td>0</td>\n",
       "      <td>8</td>\n",
       "      <td>0</td>\n",
       "      <td>0</td>\n",
       "      <td>4</td>\n",
       "      <td>...</td>\n",
       "      <td>0</td>\n",
       "      <td>0</td>\n",
       "      <td>0</td>\n",
       "      <td>0</td>\n",
       "      <td>0</td>\n",
       "      <td>0</td>\n",
       "      <td>0</td>\n",
       "      <td>0</td>\n",
       "      <td>0</td>\n",
       "      <td>0</td>\n",
       "    </tr>\n",
       "    <tr>\n",
       "      <th>3</th>\n",
       "      <td>0</td>\n",
       "      <td>5</td>\n",
       "      <td>22</td>\n",
       "      <td>0</td>\n",
       "      <td>5</td>\n",
       "      <td>1</td>\n",
       "      <td>51</td>\n",
       "      <td>2</td>\n",
       "      <td>10</td>\n",
       "      <td>1</td>\n",
       "      <td>...</td>\n",
       "      <td>0</td>\n",
       "      <td>0</td>\n",
       "      <td>0</td>\n",
       "      <td>0</td>\n",
       "      <td>0</td>\n",
       "      <td>0</td>\n",
       "      <td>0</td>\n",
       "      <td>0</td>\n",
       "      <td>0</td>\n",
       "      <td>0</td>\n",
       "    </tr>\n",
       "    <tr>\n",
       "      <th>4</th>\n",
       "      <td>7</td>\n",
       "      <td>6</td>\n",
       "      <td>17</td>\n",
       "      <td>1</td>\n",
       "      <td>5</td>\n",
       "      <td>2</td>\n",
       "      <td>57</td>\n",
       "      <td>0</td>\n",
       "      <td>9</td>\n",
       "      <td>3</td>\n",
       "      <td>...</td>\n",
       "      <td>0</td>\n",
       "      <td>0</td>\n",
       "      <td>0</td>\n",
       "      <td>0</td>\n",
       "      <td>0</td>\n",
       "      <td>0</td>\n",
       "      <td>0</td>\n",
       "      <td>1</td>\n",
       "      <td>0</td>\n",
       "      <td>0</td>\n",
       "    </tr>\n",
       "  </tbody>\n",
       "</table>\n",
       "<p>5 rows × 3001 columns</p>\n",
       "</div>"
      ],
      "text/plain": [
       "   the  to  ect  and  for  of    a  you  hou  in  ...  connevey  jay  valued  \\\n",
       "0    0   0    1    0    0   0    2    0    0   0  ...         0    0       0   \n",
       "1    8  13   24    6    6   2  102    1   27  18  ...         0    0       0   \n",
       "2    0   0    1    0    0   0    8    0    0   4  ...         0    0       0   \n",
       "3    0   5   22    0    5   1   51    2   10   1  ...         0    0       0   \n",
       "4    7   6   17    1    5   2   57    0    9   3  ...         0    0       0   \n",
       "\n",
       "   lay  infrastructure  military  allowing  ff  dry  Prediction  \n",
       "0    0               0         0         0   0    0           0  \n",
       "1    0               0         0         0   1    0           0  \n",
       "2    0               0         0         0   0    0           0  \n",
       "3    0               0         0         0   0    0           0  \n",
       "4    0               0         0         0   1    0           0  \n",
       "\n",
       "[5 rows x 3001 columns]"
      ]
     },
     "execution_count": 34,
     "metadata": {},
     "output_type": "execute_result"
    }
   ],
   "source": [
    "data = data.drop(columns=['Email No.'], axis = 1)\n",
    "data.head()"
   ]
  },
  {
   "cell_type": "code",
   "execution_count": 35,
   "id": "d16ef297",
   "metadata": {},
   "outputs": [],
   "source": [
    "y = data['Prediction']\n",
    "x = data.drop(columns = ['Prediction'], axis = 1)"
   ]
  },
  {
   "cell_type": "code",
   "execution_count": 36,
   "id": "a78e6c7f",
   "metadata": {},
   "outputs": [
    {
     "name": "stdout",
     "output_type": "stream",
     "text": [
      "   the  to  ect  and  for  of    a  you  hou  in  ...  enhancements  connevey  \\\n",
      "0    0   0    1    0    0   0    2    0    0   0  ...             0         0   \n",
      "1    8  13   24    6    6   2  102    1   27  18  ...             0         0   \n",
      "2    0   0    1    0    0   0    8    0    0   4  ...             0         0   \n",
      "3    0   5   22    0    5   1   51    2   10   1  ...             0         0   \n",
      "4    7   6   17    1    5   2   57    0    9   3  ...             0         0   \n",
      "\n",
      "   jay  valued  lay  infrastructure  military  allowing  ff  dry  \n",
      "0    0       0    0               0         0         0   0    0  \n",
      "1    0       0    0               0         0         0   1    0  \n",
      "2    0       0    0               0         0         0   0    0  \n",
      "3    0       0    0               0         0         0   0    0  \n",
      "4    0       0    0               0         0         0   1    0  \n",
      "\n",
      "[5 rows x 3000 columns] 0    0\n",
      "1    0\n",
      "2    0\n",
      "3    0\n",
      "4    0\n",
      "Name: Prediction, dtype: int64\n"
     ]
    }
   ],
   "source": [
    "print(x.head(),y.head())"
   ]
  },
  {
   "cell_type": "code",
   "execution_count": 37,
   "id": "b6f759bb",
   "metadata": {},
   "outputs": [],
   "source": [
    "sc = StandardScaler()\n",
    "x = sc.fit_transform(x)"
   ]
  },
  {
   "cell_type": "code",
   "execution_count": 38,
   "id": "ab589c69",
   "metadata": {},
   "outputs": [
    {
     "data": {
      "text/plain": [
       "array([[-0.56544926, -0.64908256, -0.2938948 , ..., -0.0562853 ,\n",
       "        -0.32904848, -0.07097072],\n",
       "       [ 0.11575699,  0.71450797,  1.33733653, ..., -0.0562853 ,\n",
       "         0.03067224, -0.07097072],\n",
       "       [-0.56544926, -0.64908256, -0.2938948 , ..., -0.0562853 ,\n",
       "        -0.32904848, -0.07097072],\n",
       "       [-0.56544926, -0.12462466,  1.19549033, ..., -0.0562853 ,\n",
       "        -0.32904848, -0.07097072],\n",
       "       [ 0.03060621, -0.01973308,  0.84087482, ..., -0.0562853 ,\n",
       "         0.03067224, -0.07097072]])"
      ]
     },
     "execution_count": 38,
     "metadata": {},
     "output_type": "execute_result"
    }
   ],
   "source": [
    "x[:5]"
   ]
  },
  {
   "cell_type": "code",
   "execution_count": 39,
   "id": "6f96b523",
   "metadata": {},
   "outputs": [],
   "source": [
    "y = np.array(y)"
   ]
  },
  {
   "cell_type": "code",
   "execution_count": 40,
   "id": "7a046f90",
   "metadata": {},
   "outputs": [
    {
     "data": {
      "text/plain": [
       "array([0, 0, 0, 0, 0], dtype=int64)"
      ]
     },
     "execution_count": 40,
     "metadata": {},
     "output_type": "execute_result"
    }
   ],
   "source": [
    "y[:5]"
   ]
  },
  {
   "cell_type": "code",
   "execution_count": 41,
   "id": "930eca9b",
   "metadata": {},
   "outputs": [],
   "source": [
    "x_train,x_test, y_train,y_test = train_test_split(x,y,test_size = .20)"
   ]
  },
  {
   "cell_type": "code",
   "execution_count": 42,
   "id": "18811e48",
   "metadata": {},
   "outputs": [],
   "source": [
    "res = {}"
   ]
  },
  {
   "cell_type": "code",
   "execution_count": 43,
   "id": "82499207",
   "metadata": {},
   "outputs": [],
   "source": [
    "###############SVM#################"
   ]
  },
  {
   "cell_type": "code",
   "execution_count": 44,
   "id": "fb76d618",
   "metadata": {},
   "outputs": [],
   "source": [
    "from sklearn.svm import SVC"
   ]
  },
  {
   "cell_type": "code",
   "execution_count": 45,
   "id": "89d6bd35",
   "metadata": {},
   "outputs": [
    {
     "name": "stdout",
     "output_type": "stream",
     "text": [
      "0.9381642512077295\n"
     ]
    }
   ],
   "source": [
    "sv = SVC(kernel = 'linear')\n",
    "sv.fit(x_train,y_train)\n",
    "y_pred1 = sv.predict(x_test)\n",
    "accsvm_1 = accuracy_score(y_pred1,y_test)\n",
    "print(accsvm_1)"
   ]
  },
  {
   "cell_type": "code",
   "execution_count": 46,
   "id": "12f92de6",
   "metadata": {},
   "outputs": [
    {
     "name": "stdout",
     "output_type": "stream",
     "text": [
      "0.9091787439613527\n"
     ]
    }
   ],
   "source": [
    "sv = SVC(kernel = 'rbf',degree = 5)\n",
    "sv.fit(x_train,y_train)\n",
    "y_pred2 = sv.predict(x_test)\n",
    "accsvm_2 = accuracy_score(y_pred2,y_test)\n",
    "print(accsvm_2)"
   ]
  },
  {
   "cell_type": "code",
   "execution_count": 47,
   "id": "c2d4ee54",
   "metadata": {},
   "outputs": [
    {
     "name": "stdout",
     "output_type": "stream",
     "text": [
      "0.8705314009661835\n"
     ]
    }
   ],
   "source": [
    "sv = SVC(kernel = 'sigmoid')\n",
    "sv.fit(x_train,y_train)\n",
    "y_pred3 = sv.predict(x_test)\n",
    "accsvm_3 = accuracy_score(y_pred3,y_test)\n",
    "print(accsvm_3)"
   ]
  },
  {
   "cell_type": "code",
   "execution_count": 48,
   "id": "486abf51",
   "metadata": {},
   "outputs": [
    {
     "name": "stdout",
     "output_type": "stream",
     "text": [
      "0.7275362318840579\n"
     ]
    }
   ],
   "source": [
    "sv = SVC(kernel = 'poly')\n",
    "sv.fit(x_train,y_train)\n",
    "y_pred4 = sv.predict(x_test)\n",
    "accsvm_4 = accuracy_score(y_pred4,y_test)\n",
    "print(accsvm_4)"
   ]
  },
  {
   "cell_type": "code",
   "execution_count": 49,
   "id": "d4f19b3d",
   "metadata": {},
   "outputs": [
    {
     "name": "stdout",
     "output_type": "stream",
     "text": [
      "0.9381642512077295\n"
     ]
    }
   ],
   "source": [
    "sv = SVC(kernel = 'linear')\n",
    "sv.fit(x_train,y_train)\n",
    "y_pred1 = sv.predict(x_test)\n",
    "accsvm_1 = accuracy_score(y_pred1,y_test)\n",
    "print(accsvm_1)"
   ]
  },
  {
   "cell_type": "code",
   "execution_count": 50,
   "id": "ab6b0fbd",
   "metadata": {},
   "outputs": [
    {
     "name": "stdout",
     "output_type": "stream",
     "text": [
      "0.9381642512077295 0.9041916167664671 0.9014925373134328 0.9069069069069069\n"
     ]
    }
   ],
   "source": [
    "acc_svm = accsvm_1\n",
    "f1_svm = f1_score(y_test,y_pred1)\n",
    "recall_svm = recall_score(y_test,y_pred1)\n",
    "p_svm = precision_score(y_test,y_pred1)\n",
    "print(acc_svm,f1_svm,recall_svm,p_svm)"
   ]
  },
  {
   "cell_type": "code",
   "execution_count": 51,
   "id": "52d4f79a",
   "metadata": {},
   "outputs": [],
   "source": [
    "res['svm'] = {\"accuracy\": acc_svm, \"precision\": p_svm, \"recall\": recall_svm, \"f1_score\": f1_svm}"
   ]
  },
  {
   "cell_type": "code",
   "execution_count": 52,
   "id": "c1a55d13",
   "metadata": {},
   "outputs": [],
   "source": [
    "from sklearn.linear_model import LogisticRegression"
   ]
  },
  {
   "cell_type": "code",
   "execution_count": 53,
   "id": "3cd34e08",
   "metadata": {},
   "outputs": [
    {
     "data": {
      "image/png": "[encoded data removed]",
      "text/plain": [
       "<Figure size 1000x500 with 1 Axes>"
      ]
     },
     "metadata": {},
     "output_type": "display_data"
    }
   ],
   "source": [
    "plt.figure(figsize=(10,5))\n",
    "plt.bar(res.keys(), [result[\"accuracy\"] for result in res.values()])\n",
    "plt.title(\"Accuracy of Different Models\")\n",
    "plt.xlabel(\"Models\")\n",
    "plt.ylabel(\"Accuracy\")\n",
    "plt.ylim(0, 1)\n",
    "plt.show()"
   ]
  },
  {
   "cell_type": "code",
   "execution_count": 54,
   "id": "15a0a2e6",
   "metadata": {},
   "outputs": [
    {
     "name": "stdout",
     "output_type": "stream",
     "text": [
      "0.9681159420289855\n"
     ]
    },
    {
     "name": "stderr",
     "output_type": "stream",
     "text": [
      "C:\\Users\\Siva\\anaconda3\\lib\\site-packages\\sklearn\\linear_model\\_logistic.py:444: ConvergenceWarning: lbfgs failed to converge (status=1):\n",
      "STOP: TOTAL NO. of ITERATIONS REACHED LIMIT.\n",
      "\n",
      "Increase the number of iterations (max_iter) or scale the data as shown in:\n",
      "    https://scikit-learn.org/stable/modules/preprocessing.html\n",
      "Please also refer to the documentation for alternative solver options:\n",
      "    https://scikit-learn.org/stable/modules/linear_model.html#logistic-regression\n",
      "  n_iter_i = _check_optimize_result(\n"
     ]
    }
   ],
   "source": [
    "lr = LogisticRegression()\n",
    "lr.fit(x_train,y_train)\n",
    "y_predlr1 = lr.predict(x_test)\n",
    "acclr_1 = accuracy_score(y_predlr1,y_test)\n",
    "print(acclr_1)"
   ]
  },
  {
   "cell_type": "code",
   "execution_count": 55,
   "id": "10d589ff",
   "metadata": {},
   "outputs": [
    {
     "name": "stdout",
     "output_type": "stream",
     "text": [
      "0.9681159420289855 0.9506726457399104 0.9492537313432836 0.9520958083832335\n"
     ]
    }
   ],
   "source": [
    "acc_lr = acclr_1\n",
    "f1_lr = f1_score(y_test,y_predlr1)\n",
    "recall_lr = recall_score(y_test,y_predlr1)\n",
    "p_lr = precision_score(y_test,y_predlr1)\n",
    "print(acc_lr,f1_lr,recall_lr,p_lr)"
   ]
  },
  {
   "cell_type": "code",
   "execution_count": 56,
   "id": "ca20e783",
   "metadata": {},
   "outputs": [],
   "source": [
    "res['lr'] = {\"accuracy\": acc_lr, \"precision\": p_lr, \"recall\": recall_lr, \"f1_score\": f1_lr}"
   ]
  },
  {
   "cell_type": "code",
   "execution_count": 57,
   "id": "3aadac0d",
   "metadata": {},
   "outputs": [
    {
     "data": {
      "image/png": "[encoded data removed]",
      "text/plain": [
       "<Figure size 300x300 with 1 Axes>"
      ]
     },
     "metadata": {},
     "output_type": "display_data"
    }
   ],
   "source": [
    "plt.figure(figsize=(3,3))\n",
    "plt.bar(res.keys(), [result[\"accuracy\"] for result in res.values()])\n",
    "plt.title(\"Accuracy of Different Models\")\n",
    "plt.xlabel(\"Models\")\n",
    "plt.ylabel(\"Accuracy\")\n",
    "plt.ylim(0, 1)\n",
    "plt.show()"
   ]
  },
  {
   "cell_type": "code",
   "execution_count": 58,
   "id": "1d962a15",
   "metadata": {},
   "outputs": [
    {
     "data": {
      "image/png": "[encoded data removed]",
      "text/plain": [
       "<Figure size 300x300 with 1 Axes>"
      ]
     },
     "metadata": {},
     "output_type": "display_data"
    }
   ],
   "source": [
    "plt.figure(figsize=(3,3))\n",
    "plt.bar(res.keys(), [result[\"precision\"] for result in res.values()])\n",
    "plt.title(\"Precision of Different Models\")\n",
    "plt.xlabel(\"Models\")\n",
    "plt.ylabel(\"Precision\")\n",
    "plt.ylim(0, 1)\n",
    "plt.show()"
   ]
  },
  {
   "cell_type": "code",
   "execution_count": 59,
   "id": "4c1b9836",
   "metadata": {},
   "outputs": [
    {
     "data": {
      "image/png": "[encoded data removed]",
      "text/plain": [
       "<Figure size 300x300 with 1 Axes>"
      ]
     },
     "metadata": {},
     "output_type": "display_data"
    }
   ],
   "source": [
    "plt.figure(figsize=(3,3))\n",
    "plt.bar(res.keys(), [result[\"f1_score\"] for result in res.values()])\n",
    "plt.title(\"F1 score of Different Models\")\n",
    "plt.xlabel(\"Models\")\n",
    "plt.ylabel(\"F1 score\")\n",
    "plt.ylim(0, 1)\n",
    "plt.show()"
   ]
  },
  {
   "cell_type": "code",
   "execution_count": 60,
   "id": "6de225c6",
   "metadata": {},
   "outputs": [
    {
     "data": {
      "image/png": "[encoded data removed]",
      "text/plain": [
       "<Figure size 300x300 with 1 Axes>"
      ]
     },
     "metadata": {},
     "output_type": "display_data"
    }
   ],
   "source": [
    "plt.figure(figsize=(3,3))\n",
    "plt.bar(res.keys(), [result[\"recall\"] for result in res.values()])\n",
    "plt.title(\"Recall of Different Models\")\n",
    "plt.xlabel(\"Models\")\n",
    "plt.ylabel(\"Recall\")\n",
    "plt.ylim(0, 1)\n",
    "plt.show()"
   ]
  },
  {
   "cell_type": "code",
   "execution_count": 25,
   "id": "9142981c",
   "metadata": {},
   "outputs": [
    {
     "data": {
      "text/html": [
       "<div>\n",
       "<style scoped>\n",
       "    .dataframe tbody tr th:only-of-type {\n",
       "        vertical-align: middle;\n",
       "    }\n",
       "\n",
       "    .dataframe tbody tr th {\n",
       "        vertical-align: top;\n",
       "    }\n",
       "\n",
       "    .dataframe thead th {\n",
       "        text-align: right;\n",
       "    }\n",
       "</style>\n",
       "<table border=\"1\" class=\"dataframe\">\n",
       "  <thead>\n",
       "    <tr style=\"text-align: right;\">\n",
       "      <th></th>\n",
       "      <th>Email No.</th>\n",
       "      <th>the</th>\n",
       "      <th>to</th>\n",
       "      <th>ect</th>\n",
       "      <th>and</th>\n",
       "      <th>for</th>\n",
       "      <th>of</th>\n",
       "      <th>a</th>\n",
       "      <th>you</th>\n",
       "      <th>hou</th>\n",
       "      <th>...</th>\n",
       "      <th>connevey</th>\n",
       "      <th>jay</th>\n",
       "      <th>valued</th>\n",
       "      <th>lay</th>\n",
       "      <th>infrastructure</th>\n",
       "      <th>military</th>\n",
       "      <th>allowing</th>\n",
       "      <th>ff</th>\n",
       "      <th>dry</th>\n",
       "      <th>Prediction</th>\n",
       "    </tr>\n",
       "  </thead>\n",
       "  <tbody>\n",
       "    <tr>\n",
       "      <th>0</th>\n",
       "      <td>Email 1</td>\n",
       "      <td>0</td>\n",
       "      <td>0</td>\n",
       "      <td>1</td>\n",
       "      <td>0</td>\n",
       "      <td>0</td>\n",
       "      <td>0</td>\n",
       "      <td>2</td>\n",
       "      <td>0</td>\n",
       "      <td>0</td>\n",
       "      <td>...</td>\n",
       "      <td>0</td>\n",
       "      <td>0</td>\n",
       "      <td>0</td>\n",
       "      <td>0</td>\n",
       "      <td>0</td>\n",
       "      <td>0</td>\n",
       "      <td>0</td>\n",
       "      <td>0</td>\n",
       "      <td>0</td>\n",
       "      <td>0</td>\n",
       "    </tr>\n",
       "    <tr>\n",
       "      <th>1</th>\n",
       "      <td>Email 2</td>\n",
       "      <td>8</td>\n",
       "      <td>13</td>\n",
       "      <td>24</td>\n",
       "      <td>6</td>\n",
       "      <td>6</td>\n",
       "      <td>2</td>\n",
       "      <td>102</td>\n",
       "      <td>1</td>\n",
       "      <td>27</td>\n",
       "      <td>...</td>\n",
       "      <td>0</td>\n",
       "      <td>0</td>\n",
       "      <td>0</td>\n",
       "      <td>0</td>\n",
       "      <td>0</td>\n",
       "      <td>0</td>\n",
       "      <td>0</td>\n",
       "      <td>1</td>\n",
       "      <td>0</td>\n",
       "      <td>0</td>\n",
       "    </tr>\n",
       "    <tr>\n",
       "      <th>2</th>\n",
       "      <td>Email 3</td>\n",
       "      <td>0</td>\n",
       "      <td>0</td>\n",
       "      <td>1</td>\n",
       "      <td>0</td>\n",
       "      <td>0</td>\n",
       "      <td>0</td>\n",
       "      <td>8</td>\n",
       "      <td>0</td>\n",
       "      <td>0</td>\n",
       "      <td>...</td>\n",
       "      <td>0</td>\n",
       "      <td>0</td>\n",
       "      <td>0</td>\n",
       "      <td>0</td>\n",
       "      <td>0</td>\n",
       "      <td>0</td>\n",
       "      <td>0</td>\n",
       "      <td>0</td>\n",
       "      <td>0</td>\n",
       "      <td>0</td>\n",
       "    </tr>\n",
       "    <tr>\n",
       "      <th>3</th>\n",
       "      <td>Email 4</td>\n",
       "      <td>0</td>\n",
       "      <td>5</td>\n",
       "      <td>22</td>\n",
       "      <td>0</td>\n",
       "      <td>5</td>\n",
       "      <td>1</td>\n",
       "      <td>51</td>\n",
       "      <td>2</td>\n",
       "      <td>10</td>\n",
       "      <td>...</td>\n",
       "      <td>0</td>\n",
       "      <td>0</td>\n",
       "      <td>0</td>\n",
       "      <td>0</td>\n",
       "      <td>0</td>\n",
       "      <td>0</td>\n",
       "      <td>0</td>\n",
       "      <td>0</td>\n",
       "      <td>0</td>\n",
       "      <td>0</td>\n",
       "    </tr>\n",
       "    <tr>\n",
       "      <th>4</th>\n",
       "      <td>Email 5</td>\n",
       "      <td>7</td>\n",
       "      <td>6</td>\n",
       "      <td>17</td>\n",
       "      <td>1</td>\n",
       "      <td>5</td>\n",
       "      <td>2</td>\n",
       "      <td>57</td>\n",
       "      <td>0</td>\n",
       "      <td>9</td>\n",
       "      <td>...</td>\n",
       "      <td>0</td>\n",
       "      <td>0</td>\n",
       "      <td>0</td>\n",
       "      <td>0</td>\n",
       "      <td>0</td>\n",
       "      <td>0</td>\n",
       "      <td>0</td>\n",
       "      <td>1</td>\n",
       "      <td>0</td>\n",
       "      <td>0</td>\n",
       "    </tr>\n",
       "  </tbody>\n",
       "</table>\n",
       "<p>5 rows × 3002 columns</p>\n",
       "</div>"
      ],
      "text/plain": [
       "  Email No.  the  to  ect  and  for  of    a  you  hou  ...  connevey  jay  \\\n",
       "0   Email 1    0   0    1    0    0   0    2    0    0  ...         0    0   \n",
       "1   Email 2    8  13   24    6    6   2  102    1   27  ...         0    0   \n",
       "2   Email 3    0   0    1    0    0   0    8    0    0  ...         0    0   \n",
       "3   Email 4    0   5   22    0    5   1   51    2   10  ...         0    0   \n",
       "4   Email 5    7   6   17    1    5   2   57    0    9  ...         0    0   \n",
       "\n",
       "   valued  lay  infrastructure  military  allowing  ff  dry  Prediction  \n",
       "0       0    0               0         0         0   0    0           0  \n",
       "1       0    0               0         0         0   1    0           0  \n",
       "2       0    0               0         0         0   0    0           0  \n",
       "3       0    0               0         0         0   0    0           0  \n",
       "4       0    0               0         0         0   1    0           0  \n",
       "\n",
       "[5 rows x 3002 columns]"
      ]
     },
     "execution_count": 25,
     "metadata": {},
     "output_type": "execute_result"
    }
   ],
   "source": [
    "import pandas as pd\n",
    "data = pd.read_csv('D:\\Study material\\sem6\\AI for CyberSecurity\\Jcomp\\Data\\emails.csv')\n",
    "data.head()"
   ]
  },
  {
   "cell_type": "code",
   "execution_count": 26,
   "id": "667652b7",
   "metadata": {},
   "outputs": [
    {
     "name": "stdout",
     "output_type": "stream",
     "text": [
      "['the' 'to' 'ect' ... 'ff' 'dry' 'Prediction']\n"
     ]
    }
   ],
   "source": [
    "headings = data.columns.values\n",
    "headings = headings[1:]\n",
    "print(headings)"
   ]
  },
  {
   "cell_type": "code",
   "execution_count": 27,
   "id": "d26d5df5",
   "metadata": {},
   "outputs": [
    {
     "name": "stdout",
     "output_type": "stream",
     "text": [
      "{'the': 0, 'to': 0, 'ect': 0, 'and': 0, 'for': 0, 'of': 0, 'a': 0, 'you': 0, 'hou': 0, 'in': 0, 'on': 0, 'is': 0, 'this': 0, 'enron': 0, 'i': 0, 'be': 0, 'that': 0, 'will': 0, 'have': 0, 'with': 0, 'your': 0, 'at': 0, 'we': 0, 's': 0, 'are': 0, 'it': 0, 'by': 0, 'com': 0, 'as': 0, 'from': 0, 'gas': 0, 'or': 0, 'not': 0, 'me': 0, 'deal': 0, 'if': 0, 'meter': 0, 'hpl': 0, 'please': 0, 're': 0, 'e': 0, 'any': 0, 'our': 0, 'corp': 0, 'can': 0, 'd': 0, 'all': 0, 'has': 0, 'was': 0, 'know': 0, 'need': 0, 'an': 0, 'forwarded': 0, 'new': 0, 't': 0, 'may': 0, 'up': 0, 'j': 0, 'mmbtu': 0, 'should': 0, 'do': 0, 'am': 0, 'get': 0, 'out': 0, 'see': 0, 'no': 0, 'there': 0, 'price': 0, 'daren': 0, 'but': 0, 'been': 0, 'company': 0, 'l': 0, 'these': 0, 'let': 0, 'so': 0, 'would': 0, 'm': 0, 'into': 0, 'xls': 0, 'farmer': 0, 'attached': 0, 'us': 0, 'information': 0, 'they': 0, 'message': 0, 'day': 0, 'time': 0, 'my': 0, 'one': 0, 'what': 0, 'only': 0, 'http': 0, 'th': 0, 'volume': 0, 'mail': 0, 'contract': 0, 'which': 0, 'month': 0, 'more': 0, 'robert': 0, 'sitara': 0, 'about': 0, 'texas': 0, 'nom': 0, 'energy': 0, 'pec': 0, 'questions': 0, 'www': 0, 'deals': 0, 'volumes': 0, 'pm': 0, 'ena': 0, 'now': 0, 'their': 0, 'file': 0, 'some': 0, 'email': 0, 'just': 0, 'also': 0, 'call': 0, 'change': 0, 'other': 0, 'here': 0, 'like': 0, 'b': 0, 'flow': 0, 'net': 0, 'following': 0, 'p': 0, 'production': 0, 'when': 0, 'over': 0, 'back': 0, 'want': 0, 'original': 0, 'them': 0, 'below': 0, 'o': 0, 'ticket': 0, 'c': 0, 'he': 0, 'could': 0, 'make': 0, 'inc': 0, 'report': 0, 'march': 0, 'contact': 0, 'were': 0, 'days': 0, 'list': 0, 'nomination': 0, 'system': 0, 'who': 0, 'april': 0, 'number': 0, 'sale': 0, 'don': 0, 'its': 0, 'first': 0, 'thanks': 0, 'business': 0, 'help': 0, 'per': 0, 'through': 0, 'july': 0, 'forward': 0, 'font': 0, 'free': 0, 'daily': 0, 'use': 0, 'order': 0, 'today': 0, 'r': 0, 'had': 0, 'fw': 0, 'set': 0, 'plant': 0, 'statements': 0, 'go': 0, 'gary': 0, 'oil': 0, 'line': 0, 'sales': 0, 'w': 0, 'effective': 0, 'well': 0, 'tenaska': 0, 'take': 0, 'june': 0, 'x': 0, 'within': 0, 'nbsp': 0, 'she': 0, 'how': 0, 'north': 0, 'america': 0, 'being': 0, 'under': 0, 'next': 0, 'week': 0, 'than': 0, 'january': 0, 'last': 0, 'two': 0, 'service': 0, 'purchase': 0, 'name': 0, 'less': 0, 'height': 0, 'off': 0, 'agreement': 0, 'k': 0, 'work': 0, 'tap': 0, 'group': 0, 'year': 0, 'based': 0, 'transport': 0, 'after': 0, 'think': 0, 'made': 0, 'each': 0, 'available': 0, 'changes': 0, 'due': 0, 'f': 0, 'h': 0, 'services': 0, 'smith': 0, 'send': 0, 'management': 0, 'stock': 0, 'sent': 0, 'll': 0, 'co': 0, 'office': 0, 'needs': 0, 'cotten': 0, 'did': 0, 'actuals': 0, 'u': 0, 'money': 0, 'before': 0, 'looking': 0, 'then': 0, 'pills': 0, 'online': 0, 'request': 0, 'look': 0, 'desk': 0, 'ami': 0, 'his': 0, 'same': 0, 'george': 0, 'chokshi': 0, 'point': 0, 'delivery': 0, 'friday': 0, 'does': 0, 'size': 0, 'august': 0, 'product': 0, 'pat': 0, 'width': 0, 'iv': 0, 'noms': 0, 'address': 0, 'above': 0, 'sure': 0, 'give': 0, 'october': 0, 'future': 0, 'find': 0, 'market': 0, 'n': 0, 'mary': 0, 'vance': 0, 'melissa': 0, 'said': 0, 'internet': 0, 'still': 0, 'account': 0, 'those': 0, 'down': 0, 'link': 0, 'hsc': 0, 'rate': 0, 'people': 0, 'pipeline': 0, 'best': 0, 'actual': 0, 'very': 0, 'end': 0, 'home': 0, 'houston': 0, 'tu': 0, 'high': 0, 'her': 0, 'team': 0, 'products': 0, 'many': 0, 'currently': 0, 'spot': 0, 'receive': 0, 'good': 0, 'such': 0, 'going': 0, 'process': 0, 'feb': 0, 'monday': 0, 'info': 0, 'david': 0, 'lloyd': 0, 'again': 0, 'both': 0, 'click': 0, 'subject': 0, 'jackie': 0, 'december': 0, 'total': 0, 'na': 0, 'lisa': 0, 've': 0, 'september': 0, 'hours': 0, 'until': 0, 'resources': 0, 'because': 0, 'aol': 0, 'february': 0, 'where': 0, 'g': 0, 'investment': 0, 'issue': 0, 'duke': 0, 'since': 0, 'pay': 0, 'show': 0, 'way': 0, 'global': 0, 'computron': 0, 'further': 0, 'most': 0, 'place': 0, 'offer': 0, 'natural': 0, 'activity': 0, 'eastrans': 0, 'graves': 0, 'right': 0, 'prices': 0, 'date': 0, 'john': 0, 'utilities': 0, 'november': 0, 'clynes': 0, 'jan': 0, 'securities': 0, 'meeting': 0, 'susan': 0, 'hplc': 0, 'julie': 0, 'able': 0, 'received': 0, 'align': 0, 'term': 0, 'id': 0, 'revised': 0, 'thursday': 0, 'pg': 0, 'fee': 0, 'hplno': 0, 'trading': 0, 'additional': 0, 'site': 0, 'txu': 0, 'data': 0, 'wellhead': 0, 'reply': 0, 'taylor': 0, 'news': 0, 'unify': 0, 'michael': 0, 'provide': 0, 'note': 0, 'much': 0, 'access': 0, 'lannou': 0, 'every': 0, 'between': 0, 'keep': 0, 'tuesday': 0, 'review': 0, 'great': 0, 'tom': 0, 'put': 0, 'done': 0, 'long': 0, 'save': 0, 'section': 0, 'must': 0, 'v': 0, 'part': 0, 'nd': 0, 'million': 0, 'check': 0, 'trade': 0, 'bob': 0, 'created': 0, 'steve': 0, 'prior': 0, 'copy': 0, 'continue': 0, 'numbers': 0, 'via': 0, 'world': 0, 'demand': 0, 'hanks': 0, 'contracts': 0, 'phone': 0, 'transaction': 0, 'customer': 0, 'possible': 0, 'pefs': 0, 'meyers': 0, 'months': 0, 'special': 0, 'without': 0, 'used': 0, 'regarding': 0, 'software': 0, 'howard': 0, 'support': 0, 'buy': 0, 'young': 0, 'meters': 0, 'thru': 0, 'believe': 0, 'gcs': 0, 'cec': 0, 'entered': 0, 'control': 0, 'dec': 0, 'face': 0, 'create': 0, 'weissman': 0, 'st': 0, 'color': 0, 'come': 0, 'supply': 0, 'brian': 0, 'hplo': 0, 'own': 0, 'correct': 0, 'customers': 0, 'web': 0, 'allocation': 0, 'soon': 0, 'using': 0, 'development': 0, 'mark': 0, 'low': 0, 'power': 0, 'problem': 0, 'once': 0, 'however': 0, 'tickets': 0, 'border': 0, 'performance': 0, 'manager': 0, 'rates': 0, 'center': 0, 'companies': 0, 'risk': 0, 'details': 0, 'needed': 0, 'international': 0, 'field': 0, 'even': 0, 'someone': 0, 'doc': 0, 'fuel': 0, 'lee': 0, 'paid': 0, 'while': 0, 'start': 0, 'index': 0, 'include': 0, 'nominations': 0, 'act': 0, 'pricing': 0, 'scheduled': 0, 'gathering': 0, 'type': 0, 'href': 0, 'during': 0, 'aimee': 0, 'anything': 0, 'feel': 0, 'fuels': 0, 'getting': 0, 'advice': 0, 'why': 0, 'increase': 0, 'path': 0, 'sell': 0, 'works': 0, 'issues': 0, 'three': 0, 'enronxgate': 0, 'camp': 0, 'either': 0, 'form': 0, 'security': 0, 'interest': 0, 'financial': 0, 'family': 0, 'xp': 0, 'plan': 0, 'current': 0, 'top': 0, 'another': 0, 'src': 0, 'spreadsheet': 0, 'allen': 0, 'wednesday': 0, 'read': 0, 'him': 0, 'working': 0, 'wynne': 0, 'add': 0, 'deliveries': 0, 'buyback': 0, 'allocated': 0, 'firm': 0, 'james': 0, 'marketing': 0, 'tx': 0, 'results': 0, 'got': 0, 'stocks': 0, 'calpine': 0, 'might': 0, 'operations': 0, 'position': 0, 'logistics': 0, 'fax': 0, 'cost': 0, 'party': 0, 'zero': 0, 'pops': 0, 'old': 0, 'pt': 0, 'scheduling': 0, 'flowed': 0, 'dollars': 0, 'update': 0, 'gco': 0, 'katy': 0, 'including': 0, 'follow': 0, 'yahoo': 0, 'already': 0, 'suite': 0, 'error': 0, 'past': 0, 'page': 0, 'stop': 0, 'changed': 0, 'book': 0, 'program': 0, 'few': 0, 'better': 0, 'operating': 0, 'equistar': 0, 'move': 0, 'cotton': 0, 'aep': 0, 'y': 0, 'state': 0, 'ees': 0, 'rita': 0, 'provided': 0, 'employees': 0, 'period': 0, 'morning': 0, 'cd': 0, 'hotmail': 0, 'entex': 0, 'swing': 0, 'real': 0, 'exchange': 0, 'tomorrow': 0, 'lst': 0, 'counterparty': 0, 'parker': 0, 'person': 0, 'follows': 0, 'valid': 0, 'visit': 0, 'little': 0, 'professional': 0, 'quality': 0, 'confirm': 0, 'something': 0, 'megan': 0, 'brenda': 0, 'around': 0, 'windows': 0, 'im': 0, 'storage': 0, 'accounting': 0, 'called': 0, 'ranch': 0, 'tax': 0, 'problems': 0, 'case': 0, 'teco': 0, 'fact': 0, 'always': 0, 'too': 0, 'unsubscribe': 0, 'amount': 0, 'coastal': 0, 'never': 0, 'rodriguez': 0, 'love': 0, 'acton': 0, 'shut': 0, 'pipe': 0, 'project': 0, 'hope': 0, 'limited': 0, 'invoice': 0, 'credit': 0, 'full': 0, 'survey': 0, 'ray': 0, 'carlos': 0, 'anyone': 0, 'wanted': 0, 'yet': 0, 'ic': 0, 'scott': 0, 'years': 0, 'charlie': 0, 'soft': 0, 'notice': 0, 'advise': 0, 'addition': 0, 'donald': 0, 'lsk': 0, 'wish': 0, 'katherine': 0, 'website': 0, 'hplnl': 0, 'schumack': 0, 'prescription': 0, 'cover': 0, 'shares': 0, 'cash': 0, 'imbalance': 0, 'united': 0, 'handle': 0, 'big': 0, 'everyone': 0, 'style': 0, 'clear': 0, 'producer': 0, 'weekend': 0, 'city': 0, 'requested': 0, 'stone': 0, 'left': 0, 'payment': 0, 'mobil': 0, 'shows': 0, 'small': 0, 'confirmed': 0, 'technology': 0, 'meet': 0, 'extend': 0, 'life': 0, 'intended': 0, 'sherlyn': 0, 'schedule': 0, 'else': 0, 'letter': 0, 'box': 0, 'bill': 0, 'richard': 0, 'lamphier': 0, 'complete': 0, 'ever': 0, 'release': 0, 'newsletter': 0, 'anita': 0, 'clem': 0, 'having': 0, 'herod': 0, 'beginning': 0, 'papayoti': 0, 'try': 0, 'mike': 0, 'enter': 0, 'estimates': 0, 'location': 0, 'cut': 0, 'question': 0, 'things': 0, 'personal': 0, 'feedback': 0, 'cialis': 0, 'found': 0, 'area': 0, 'dow': 0, 'terms': 0, 'central': 0, 'necessary': 0, 'man': 0, 'run': 0, 'reason': 0, 'third': 0, 'midcon': 0, 'charge': 0, 'president': 0, 'de': 0, 'listed': 0, 'meds': 0, 'thomas': 0, 'thought': 0, 'capital': 0, 'added': 0, 'ask': 0, 'weeks': 0, 'investing': 0, 'commercial': 0, 'star': 0, 'several': 0, 'easy': 0, 'view': 0, 'cannot': 0, 'extended': 0, 'lauri': 0, 'beaumont': 0, 'union': 0, 'times': 0, 'open': 0, 'cause': 0, 'monthly': 0, 'action': 0, 'offers': 0, 'industry': 0, 'states': 0, 'side': 0, 'mailto': 0, 'probably': 0, 'neal': 0, 'second': 0, 'stephanie': 0, 'download': 0, 'flash': 0, 'agree': 0, 'mcf': 0, 'transfer': 0, 'doing': 0, 'important': 0, 'basis': 0, 'different': 0, 'final': 0, 'koch': 0, 'exxon': 0, 'remove': 0, 'microsoft': 0, 'interested': 0, 'application': 0, 'sept': 0, 'mg': 0, 'write': 0, 'lp': 0, 'east': 0, 'requirements': 0, 'code': 0, 'value': 0, 'thank': 0, 'together': 0, 'exploration': 0, 'mid': 0, 'dfarmer': 0, 'everything': 0, 'receipt': 0, 'thu': 0, 'afternoon': 0, 'late': 0, 'enserch': 0, 'coming': 0, 'bank': 0, 'response': 0, 'tell': 0, 'shipping': 0, 'night': 0, 'events': 0, 'cynthia': 0, 'lsp': 0, 'close': 0, 'legal': 0, 'country': 0, 'direct': 0, 'expected': 0, 'ces': 0, 'corporation': 0, 'options': 0, 'really': 0, 'voip': 0, 'nominated': 0, 'etc': 0, 'latest': 0, 'potential': 0, 'priced': 0, 'edward': 0, 'valero': 0, 'material': 0, 'stack': 0, 'victor': 0, 'redeliveries': 0, 'loss': 0, 'remember': 0, 'baumbach': 0, 'option': 0, 'private': 0, 'longer': 0, 'aware': 0, 'included': 0, 'drugs': 0, 'public': 0, 'reinhardt': 0, 'version': 0, 'hesse': 0, 'discuss': 0, 'related': 0, 'asked': 0, 'say': 0, 'viagra': 0, 'revision': 0, 'bgcolor': 0, 'kind': 0, 'pro': 0, 'completed': 0, 'health': 0, 'ready': 0, 'plans': 0, 'registered': 0, 'regards': 0, 'carthage': 0, 'zone': 0, 'fill': 0, 'away': 0, 'computer': 0, 'systems': 0, 'industrial': 0, 'mentioned': 0, 'told': 0, 'therefore': 0, 'growth': 0, 'sold': 0, 'track': 0, 'reports': 0, 'south': 0, 'rd': 0, 'jim': 0, 'costs': 0, 'image': 0, 'expect': 0, 'return': 0, 'physical': 0, 'el': 0, 'browser': 0, 'donna': 0, 'stacey': 0, 'begin': 0, 'china': 0, 'duty': 0, 'approximately': 0, 'showing': 0, 'unit': 0, 'jones': 0, 'hard': 0, 'verify': 0, 'updated': 0, 'eol': 0, 'cs': 0, 'orders': 0, 'talk': 0, 'trying': 0, 'base': 0, 'given': 0, 'server': 0, 'source': 0, 'pathed': 0, 'strong': 0, 'bryan': 0, 'directly': 0, 'risks': 0, 'whole': 0, 'major': 0, 'users': 0, 'purchases': 0, 'oo': 0, 'karen': 0, 'luong': 0, 'level': 0, 'required': 0, 'delivered': 0, 'portfolio': 0, 'riley': 0, 'ali': 0, 'easttexas': 0, 'poorman': 0, 'bellamy': 0, 'assistance': 0, 'nothing': 0, 'gif': 0, 'thing': 0, 'retail': 0, 'didn': 0, 'valley': 0, 'department': 0, 'cleburne': 0, 'allow': 0, 'gpgfin': 0, 'answer': 0, 'items': 0, 'paste': 0, 'avila': 0, 'taken': 0, 'mm': 0, 'nguyen': 0, 'ensure': 0, 'reference': 0, 'hall': 0, 'later': 0, 'lone': 0, 'user': 0, 'methanol': 0, 'facility': 0, 'network': 0, 'spoke': 0, 'though': 0, 'tabs': 0, 'taking': 0, 'status': 0, 'considered': 0, 'purchased': 0, 'says': 0, 'yourself': 0, 'paliourg': 0, 'dy': 0, 'jeff': 0, 'businesses': 0, 'fred': 0, 'transportation': 0, 'apache': 0, 'morris': 0, 'nov': 0, 'ltd': 0, 'brand': 0, 'federal': 0, 'statement': 0, 'oasis': 0, 'reflect': 0, 'assets': 0, 'lamadrid': 0, 'general': 0, 'bridge': 0, 'ability': 0, 'oct': 0, 'play': 0, 'enrononline': 0, 'compliance': 0, 'spam': 0, 'availability': 0, 'king': 0, 'understanding': 0, 'chance': 0, 'quick': 0, 'effort': 0, 'points': 0, 'reliantenergy': 0, 'fixed': 0, 'short': 0, 'hill': 0, 'cheryl': 0, 'aepin': 0, 'key': 0, 'understand': 0, 'valign': 0, 'capacity': 0, 'game': 0, 'took': 0, 'bring': 0, 'guys': 0, 'god': 0, 'green': 0, 'care': 0, 'withers': 0, 'property': 0, 'hub': 0, 'johnson': 0, 'employee': 0, 'wants': 0, 'albrecht': 0, 'meaning': 0, 'expectations': 0, 'mx': 0, 'moved': 0, 'cernosek': 0, 'matter': 0, 'devon': 0, 'calls': 0, 'worldwide': 0, 'records': 0, 'removed': 0, 'lose': 0, 'large': 0, 'referenced': 0, 'walker': 0, 'iferc': 0, 'enw': 0, 'ponton': 0, 'eileen': 0, 'ship': 0, 'upon': 0, 'enerfin': 0, 'jennifer': 0, 'looks': 0, 'staff': 0, 'pc': 0, 'target': 0, 'waha': 0, 'making': 0, 'cp': 0, 'impact': 0, 'partner': 0, 'immediately': 0, 'shall': 0, 'channel': 0, 'takes': 0, 'sat': 0, 'others': 0, 'hear': 0, 'went': 0, 'travel': 0, 'listing': 0, 'approved': 0, 'processing': 0, 'early': 0, 'enough': 0, 'sally': 0, 'starting': 0, 'distribution': 0, 'tejas': 0, 'transactions': 0, 'stay': 0, 'earl': 0, 'superty': 0, 'doesn': 0, 'reserves': 0, 'includes': 0, 'choose': 0, 'adobe': 0, 'publisher': 0, 'paso': 0, 'cornhusker': 0, 'training': 0, 'markets': 0, 'content': 0, 'solution': 0, 'shell': 0, 'jpg': 0, 'print': 0, 'drive': 0, 'pain': 0, 'password': 0, 'half': 0, 'herrera': 0, 'saturday': 0, 'moopid': 0, 'hotlist': 0, 'balance': 0, 'super': 0, 'vacation': 0, 'sex': 0, 'happy': 0, 'excess': 0, 'existing': 0, 'fund': 0, 'stella': 0, 'share': 0, 'sign': 0, 'wells': 0, 'won': 0, 'four': 0, 'text': 0, 'card': 0, 'tisdale': 0, 'fwd': 0, 'appreciate': 0, 'non': 0, 'experience': 0, 'savings': 0, 'settlements': 0, 'draft': 0, 'couple': 0, 'informed': 0, 'biz': 0, 'watch': 0, 'plus': 0, 'sun': 0, 'expense': 0, 'images': 0, 'land': 0, 'occur': 0, 'flowing': 0, 'mar': 0, 'terry': 0, 'darren': 0, 'cheap': 0, 'weight': 0, 'dynegy': 0, 'activities': 0, 'become': 0, 'mr': 0, 'format': 0, 'attention': 0, 'entire': 0, 'photoshop': 0, 'williams': 0, 'instructions': 0, 'neon': 0, 'janet': 0, 'contains': 0, 'ago': 0, 'friends': 0, 'against': 0, 'boas': 0, 'music': 0, 'certain': 0, 'liz': 0, 'svcs': 0, 'record': 0, 'fast': 0, 'dave': 0, 'held': 0, 'mind': 0, 'ua': 0, 'publication': 0, 'differ': 0, 'comments': 0, 'fun': 0, 'rest': 0, 'instant': 0, 'agent': 0, 'communications': 0, 'director': 0, 'partners': 0, 'investors': 0, 'expedia': 0, 'kevin': 0, 'assist': 0, 'safe': 0, 'approval': 0, 'allocate': 0, 'black': 0, 'none': 0, 'intrastate': 0, 'document': 0, 'eric': 0, 'hakemack': 0, 'expired': 0, 'lower': 0, 'active': 0, 'secure': 0, 'cc': 0, 'five': 0, 'determine': 0, 'press': 0, 'colspan': 0, 'missing': 0, 'jill': 0, 'discussion': 0, 'relief': 0, 'respect': 0, 'specific': 0, 'technologies': 0, 'al': 0, 'holmes': 0, 'white': 0, 'yesterday': 0, 'medical': 0, 'pinion': 0, 'sorry': 0, 'men': 0, 'leave': 0, 'pass': 0, 'video': 0, 'gomes': 0, 'doctor': 0, 'projects': 0, 'limit': 0, 'air': 0, 'knle': 0, 'pharmacy': 0, 'confirmation': 0, 'opportunity': 0, 'involve': 0, 'notify': 0, 'gtc': 0, 'class': 0, 'ken': 0, 'started': 0, 'outage': 0, 'confidential': 0, 'room': 0, 'blue': 0, 'estimated': 0, 'officer': 0, 'reach': 0, 'messages': 0, 'database': 0, 'words': 0, 'prc': 0, 'tracked': 0, 'transition': 0, 'light': 0, 'national': 0, 'hot': 0, 'offering': 0, 'gulf': 0, 'provides': 0, 'iit': 0, 'demokritos': 0, 'mckay': 0, 'average': 0, 'wide': 0, 'heard': 0, 'files': 0, 'dan': 0, 'billed': 0, 'mccoy': 0, 'rc': 0, 'exactly': 0, 'middle': 0, 'select': 0, 'bruce': 0, 'louisiana': 0, 'receiving': 0, 'california': 0, 'event': 0, 'roll': 0, 'mops': 0, 'william': 0, 'appear': 0, 'perfect': 0, 'html': 0, 'features': 0, 'join': 0, 'greater': 0, 'sunday': 0, 'pick': 0, 'featured': 0, 'cdnow': 0, 'prize': 0, 'reveffo': 0, 'olsen': 0, 'expects': 0, 'estimate': 0, 'near': 0, 'common': 0, 'package': 0, 'title': 0, 'whether': 0, 'bought': 0, 'evergreen': 0, 'difference': 0, 'elizabeth': 0, 'history': 0, 'monitor': 0, 'advised': 0, 'result': 0, 'sources': 0, 'school': 0, 'unaccounted': 0, 'paragraph': 0, 'turn': 0, 'kimberly': 0, 'increased': 0, 'communication': 0, 'members': 0, 'concerns': 0, 'uncertainties': 0, 'associated': 0, 'reduce': 0, 'committed': 0, 'wi': 0, 'asap': 0, 'goes': 0, 'trader': 0, 'waiting': 0, 'canada': 0, 'worth': 0, 'representative': 0, 'claim': 0, 'ceo': 0, 'london': 0, 'discussions': 0, 'php': 0, 'brazos': 0, 'trevino': 0, 'calling': 0, 'involved': 0, 'la': 0, 'gift': 0, 'southern': 0, 'groups': 0, 'hour': 0, 'tufco': 0, 'previously': 0, 'voice': 0, 'normally': 0, 'resolve': 0, 'efforts': 0, 'nor': 0, 'recent': 0, 'purchasing': 0, 'county': 0, 'ok': 0, 'express': 0, 'generic': 0, 'according': 0, 'respond': 0, 'situation': 0, 'hold': 0, 'lot': 0, 'interconnect': 0, 'word': 0, 'came': 0, 'west': 0, 'role': 0, 'opportunities': 0, 'corporate': 0, 'remain': 0, 'similar': 0, 'readers': 0, 'suggestions': 0, 'subscribers': 0, 'projections': 0, 'lead': 0, 'learn': 0, 'resolved': 0, 'agreed': 0, 'sec': 0, 'head': 0, 'enjoy': 0, 'img': 0, 'rnd': 0, 'responsible': 0, 'outstanding': 0, 'member': 0, 'panenergy': 0, 'american': 0, 'cass': 0, 'register': 0, 'promotions': 0, 'parties': 0, 'winfree': 0, 'selling': 0, 'usage': 0, 'appropriate': 0, 'assignment': 0, 'media': 0, 'believes': 0, 'require': 0, 'submit': 0, 'model': 0, 'spinnaker': 0, 'copano': 0, 'facilities': 0, 'opinion': 0, 'factors': 0, 'identified': 0, 'beverly': 0, 'ews': 0, 'gdp': 0, 'deliver': 0, 'job': 0, 'profile': 0, 'across': 0, 'neuweiler': 0, 'suggest': 0, 'girls': 0, 'manage': 0, 'usa': 0, 'local': 0, 'bad': 0, 'greg': 0, 'vs': 0, 'fees': 0, 'digital': 0, 'cf': 0, 'strangers': 0, 'registration': 0, 'delta': 0, 'rolex': 0, 'goliad': 0, 'hesco': 0, 'success': 0, 'primary': 0, 'quarter': 0, 'course': 0, 'chairman': 0, 'petroleum': 0, 'notes': 0, 'medications': 0, 'ei': 0, 'instead': 0, 'fine': 0, 'lake': 0, 'pre': 0, 'force': 0, 'seek': 0, 'recipient': 0, 'gain': 0, 'placed': 0, 'age': 0, 'least': 0, 'body': 0, 'asking': 0, 'discussed': 0, 'hanson': 0, 'emails': 0, 'nominate': 0, 'ext': 0, 'known': 0, 'ones': 0, 'ed': 0, 'assigned': 0, 'htmlimg': 0, 'means': 0, 'present': 0, 'various': 0, 'invoices': 0, 'gd': 0, 'agency': 0, 'along': 0, 'located': 0, 'reflects': 0, 'solutions': 0, 'ex': 0, 'house': 0, 'cds': 0, 'br': 0, 'owner': 0, 'apr': 0, 'sullivan': 0, 'basin': 0, 'linda': 0, 'worked': 0, 'car': 0, 'seen': 0, 'properties': 0, 'booked': 0, 'higher': 0, 'store': 0, 'est': 0, 'revenue': 0, 'wait': 0, 'women': 0, 'far': 0, 'met': 0, 'wholesale': 0, 'range': 0, 'kcs': 0, 'recorded': 0, 'brown': 0, 'lots': 0, 'match': 0, 'input': 0, 'grant': 0, 'providing': 0, 'huge': 0, 'investor': 0, 'kelly': 0, 'apply': 0, 'paths': 0, 'handling': 0, 'pipes': 0, 'advantage': 0, 'analysis': 0, 'focus': 0, 'draw': 0, 'red': 0, 'origination': 0, 'connection': 0, 'planning': 0, 'wilson': 0, 'golf': 0, 'summary': 0, 'item': 0, 'bankruptcy': 0, 'expenses': 0, 'pgev': 0, 'encina': 0, 'beaty': 0, 'memo': 0, 'initial': 0, 'thousand': 0, 'mills': 0, 'penis': 0, 'friend': 0, 'conversation': 0, 'multiple': 0, 'martin': 0, 'names': 0, 'bit': 0, 'dth': 0, 'talked': 0, 'behalf': 0, 'preliminary': 0, 'button': 0, 'herein': 0, 'gisb': 0, 'coupon': 0, 'sa': 0, 'oi': 0, 'appears': 0, 'door': 0, 'texaco': 0, 'csikos': 0, 'arrangements': 0, 'cpr': 0, 'expires': 0, 'popular': 0, 'sending': 0, 'research': 0, 'conditions': 0, 'gb': 0, 'board': 0, 'ca': 0, 'applications': 0, 'tried': 0, 'paying': 0, 'acquisition': 0, 'reporting': 0, 'normal': 0, 'maintenance': 0, 'resume': 0, 'announced': 0, 'attachment': 0, 'buyer': 0, 'objectives': 0, 'prod': 0, 'represent': 0, 'sandi': 0, 'hplnol': 0, 'government': 0, 'committee': 0, 'running': 0, 'tetco': 0, 'discount': 0, 'jo': 0, 'holding': 0, 'earlier': 0, 'positions': 0, 'happen': 0, 'mailing': 0, 'decided': 0, 'recently': 0, 'chris': 0, 'xanax': 0, 'valium': 0, 'broadband': 0, 'individual': 0, 'station': 0, 'td': 0, 'financing': 0, 'somehow': 0, 'pena': 0, 'critical': 0, 'attend': 0, 'kristen': 0, 'inform': 0, 'highly': 0, 'hl': 0, 'phillips': 0, 'minutes': 0, 'titles': 0, 'affiliate': 0, 'wife': 0, 'lonestar': 0, 'charlotte': 0, 'quickly': 0, 'paper': 0, 'test': 0, 'comes': 0, 'mobile': 0, 'internal': 0, 'privacy': 0, 'ideas': 0, 'live': 0, 'gotten': 0, 'floor': 0, 'benefit': 0, 'percent': 0, 'ms': 0, 'dr': 0, 'ebs': 0, 'msn': 0, 'gave': 0, 'dallas': 0, 'enterprise': 0, 'rx': 0, 'spring': 0, 'ftar': 0, 'ooking': 0, 'hawkins': 0, 'exclusive': 0, 'selected': 0, 'baxter': 0, 'actually': 0, 'single': 0, 'shop': 0, 'nominates': 0, 'guarantee': 0, 'minute': 0, 'correctly': 0, 'unique': 0, 'bid': 0, 'building': 0, 'stated': 0, 'accept': 0, 'assumptions': 0, 'centana': 0, 'senior': 0, 'pill': 0, 'kinsey': 0, 'sap': 0, 'immediate': 0, 'goals': 0, 'category': 0, 'mitchell': 0, 'acceptance': 0, 'termination': 0, 'sweeney': 0, 'facts': 0, 'amazon': 0, 'arrangement': 0, 'josey': 0, 'funds': 0, 'among': 0, 'accuracy': 0, 'mean': 0, 'rather': 0, 'kim': 0, 'egmnom': 0, 'indicate': 0, 'updates': 0, 'extra': 0, 'adjustment': 0, 'accounts': 0, 'lowest': 0, 'gold': 0, 'purposes': 0, 'remaining': 0, 'talking': 0, 'entry': 0, 'road': 0, 'load': 0, 'simply': 0, 'europe': 0, 'lindley': 0, 'understood': 0, 'logos': 0, 'hi': 0, 'speed': 0, 'profit': 0, 'notified': 0, 'jackson': 0, 'z': 0, 'vols': 0, 'serve': 0, 'additionally': 0, 'shipped': 0, 'connor': 0, 'fontfont': 0, 'q': 0, 'kept': 0, 'dollar': 0, 'jr': 0, 'almost': 0, 'fri': 0, 'paul': 0, 'documents': 0, 'analyst': 0, 'crude': 0, 'cap': 0, 'shopping': 0, 'aug': 0, 'clearance': 0, 'schneider': 0, 'ftworth': 0, 'father': 0, 'anticipated': 0, 'resellers': 0, 'congress': 0, 'counterparties': 0, 'epgt': 0, 'buying': 0, 'san': 0, 'invest': 0, 'cartwheel': 0, 'brandywine': 0, 'wrong': 0, 'mtbe': 0, 'split': 0, 'submitted': 0, 'hull': 0, 'gra': 0, 'children': 0, 'leader': 0, 'true': 0, 'baseload': 0, 'mb': 0, 'letters': 0, 'billion': 0, 'rights': 0, 'mtr': 0, 'heidi': 0, 'clean': 0, 'historical': 0, 'asset': 0, 'foreign': 0, 'gr': 0, 'entity': 0, 'developed': 0, 'maybe': 0, 'jeffrey': 0, 'transmission': 0, 'outside': 0, 'lost': 0, 'membership': 0, 'invitation': 0, 'ocean': 0, 'legislation': 0, 'hernandez': 0, 'pep': 0, 'payments': 0, 'wallis': 0, 'rev': 0, 'kenneth': 0, 'seaman': 0, 'annual': 0, 'guess': 0, 'bammel': 0, 'lines': 0, 'guadalupe': 0, 'zivley': 0, 'exception': 0, 'example': 0, 'pathing': 0, 'revisions': 0, 'pipelines': 0, 'equity': 0, 'budget': 0, 'wed': 0, 'dealers': 0, 'window': 0, 'juno': 0, 'claims': 0, 'bottom': 0, 'standard': 0, 'alternative': 0, 'merchant': 0, 'braband': 0, 'topica': 0, 'telephone': 0, 'reliant': 0, 'speculative': 0, 'yes': 0, 'en': 0, 'morgan': 0, 'cable': 0, 'edmondson': 0, 'participate': 0, 'usb': 0, 'throughout': 0, 'checked': 0, 'myself': 0, 'contents': 0, 'fat': 0, 'investments': 0, 'six': 0, 'build': 0, 'giving': 0, 'calendar': 0, 'inherent': 0, 'edition': 0, 'darial': 0, 'hr': 0, 'trip': 0, 'pull': 0, 'moving': 0, 'concern': 0, 'proposed': 0, 'rm': 0, 'deer': 0, 'enquiries': 0, 'alt': 0, 'tammy': 0, 'front': 0, 'reduction': 0, 'evening': 0, 'concerning': 0, 'gets': 0, 'effect': 0, 'isn': 0, 'haven': 0, 'cowboy': 0, 'sea': 0, 'dvd': 0, 'launch': 0, 'minimum': 0, 'changing': 0, 'built': 0, 'avoid': 0, 'chief': 0, 'stephen': 0, 'chad': 0, 'manual': 0, 'finally': 0, 'strategy': 0, 'executive': 0, 'thousands': 0, 'conflict': 0, 'resulting': 0, 'policy': 0, 'commission': 0, 'stand': 0, 'positive': 0, 'quantity': 0, 'programs': 0, 'airmail': 0, 'texoma': 0, 'prepared': 0, 'austin': 0, 'matt': 0, 'intent': 0, 'uae': 0, 'citibank': 0, 'jaquet': 0, 'hol': 0, 'harris': 0, 'min': 0, 'hplr': 0, 'advance': 0, 'weather': 0, 'terminated': 0, 'whom': 0, 'sheet': 0, 'venturatos': 0, 'cellpadding': 0, 'hotel': 0, 'leading': 0, 'guaranteed': 0, 'idea': 0, 'announce': 0, 'pleased': 0, 'award': 0, 'operational': 0, 'prepare': 0, 'schedulers': 0, 'child': 0, 'sum': 0, 'quote': 0, 'adjusted': 0, 'warning': 0, 'issued': 0, 'ga': 0, 'cross': 0, 'detail': 0, 'pertaining': 0, 'tess': 0, 'owe': 0, 'crow': 0, 'availabilities': 0, 'griffin': 0, 'christy': 0, 'crosstex': 0, 'eel': 0, 'itoy': 0, 'heart': 0, 'licensed': 0, 'overnight': 0, 'cal': 0, 'otherwise': 0, 'luck': 0, 'stretch': 0, 'generation': 0, 'broker': 0, 'construed': 0, 'except': 0, 'traders': 0, 'carry': 0, 'column': 0, 'approx': 0, 'main': 0, 'alert': 0, 'charges': 0, 'step': 0, 'revenues': 0, 'games': 0, 'gottlob': 0, 'looked': 0, 'individuals': 0, 'beck': 0, 'stuff': 0, 'welcome': 0, 'port': 0, 'glover': 0, 'description': 0, 'daniel': 0, 'quantities': 0, 'park': 0, 'managing': 0, 'town': 0, 'seller': 0, 'summer': 0, 'tina': 0, 'dates': 0, 'eff': 0, 'dudley': 0, 'ferc': 0, 'robin': 0, 'charles': 0, 'customerservice': 0, 'zonedubai': 0, 'emirates': 0, 'aeor': 0, 'clickathome': 0, 'materia': 0, 'island': 0, 'vaughn': 0, 'sexual': 0, 'eiben': 0, 'forms': 0, 'delete': 0, 'realize': 0, 'tailgate': 0, 'behind': 0, 'villarreal': 0, 'lon': 0, 'benoit': 0, 'simple': 0, 'tech': 0, 'ahead': 0, 'double': 0, 'ordering': 0, 'se': 0, 'miss': 0, 'law': 0, 'eb': 0, 'post': 0, 'outlook': 0, 'equipment': 0, 'leslie': 0, 'reeves': 0, 'org': 0, 'tools': 0, 'cold': 0, 'adjustments': 0, 'contained': 0, 'saw': 0, 'edit': 0, 'deciding': 0, 'finance': 0, 'patti': 0, 'listbot': 0, 'river': 0, 'kathryn': 0, 'holiday': 0, 'successful': 0, 'unable': 0, 'advisor': 0, 'pool': 0, 'bryce': 0, 'outages': 0, 'adjust': 0, 'screen': 0, 'otc': 0, 'brent': 0, 'helps': 0, 'auto': 0, 'foot': 0, 'region': 0, 'links': 0, 'contain': 0, 'knowledge': 0, 'yvette': 0, 'dial': 0, 'pressure': 0, 'detailed': 0, 'indicated': 0, 'charged': 0, 'sites': 0, 'makes': 0, 'female': 0, 'mcmills': 0, 'cook': 0, 'mazowita': 0, 'meredith': 0, 'allocations': 0, 'meetings': 0, 'particular': 0, 'environment': 0, 'drug': 0, 'search': 0, 'mailings': 0, 'designed': 0, 'rock': 0, 'measurement': 0, 'art': 0, 'corrected': 0, 'kids': 0, 'benefits': 0, 'tv': 0, 'seems': 0, 'husband': 0, 'fix': 0, 'grow': 0, 'decision': 0, 'wireless': 0, 'mo': 0, 'conference': 0, 'interview': 0, 'levels': 0, 'copies': 0, 'cindy': 0, 'urgent': 0, 'regular': 0, 'payroll': 0, 'shown': 0, 'consumers': 0, 'reliable': 0, 'tr': 0, 'indicating': 0, 'coast': 0, 'greif': 0, 'severson': 0, 'tri': 0, 'vicodin': 0, 'liquids': 0, 'significant': 0, 'intend': 0, 'usd': 0, 'pager': 0, 'avails': 0, 'spencer': 0, 'ce': 0, 'charset': 0, 'verdana': 0, 'fully': 0, 'flynn': 0, 'da': 0, 'personnel': 0, 'multi': 0, 'closed': 0, 'vice': 0, 'administration': 0, 'gmt': 0, 'midstream': 0, 'eye': 0, 'speckels': 0, 'studio': 0, 'cilco': 0, 'likely': 0, 'managers': 0, 'structure': 0, 'sit': 0, 'parent': 0, 'preparation': 0, 'mix': 0, 'mmbtus': 0, 'timing': 0, 'happening': 0, 'lottery': 0, 'killing': 0, 'acquire': 0, 'mack': 0, 'pcx': 0, 'fares': 0, 'internationa': 0, 'notification': 0, 'swift': 0, 'identify': 0, 'areas': 0, 'separate': 0, 'unless': 0, 'producers': 0, 'allows': 0, 'pretty': 0, 'waste': 0, 'joanie': 0, 'drop': 0, 'taxes': 0, 'premium': 0, 'teams': 0, 'choice': 0, 'largest': 0, 'addressed': 0, 'dolphin': 0, 'ngo': 0, 'self': 0, 'davis': 0, 'htm': 0, 'ad': 0, 'graphics': 0, 'hit': 0, 'competitive': 0, 'thus': 0, 'incorrect': 0, 'ti': 0, 'acts': 0, 'previous': 0, 'edu': 0, 'proven': 0, 'electric': 0, 'pictures': 0, 'charlene': 0, 'benedict': 0, 'chevron': 0, 'treatment': 0, 'lesson': 0, 'player': 0, 'sds': 0, 'wc': 0, 'intraday': 0, 'assurance': 0, 'sdsnom': 0, 'rebecca': 0, 'quit': 0, 'netco': 0, 'intra': 0, 'whatever': 0, 'lyondell': 0, 'reviewed': 0, 'solicitation': 0, 'filings': 0, 'log': 0, 'noon': 0, 'locations': 0, 'joe': 0, 'completely': 0, 'rivers': 0, 'language': 0, 'street': 0, 'automatically': 0, 'ft': 0, 'powerful': 0, 'specials': 0, 'alone': 0, 'fyi': 0, 'properly': 0, 'proper': 0, 'explode': 0, 'decrease': 0, 'medication': 0, 'desks': 0, 'impacted': 0, 'anywhere': 0, 'completion': 0, 'banking': 0, 'consider': 0, 'certificate': 0, 'exercise': 0, 'zeroed': 0, 'websites': 0, 'tonight': 0, 'diligence': 0, 'education': 0, 'club': 0, 'vegas': 0, 'affordable': 0, 'sports': 0, 'predictions': 0, 'billing': 0, 'diamond': 0, 'posted': 0, 'prayer': 0, 'actions': 0, 'nomad': 0, 'resuits': 0, 'jason': 0, 'purpose': 0, 'deposit': 0, 'entertainment': 0, 'materially': 0, 'blank': 0, 'resolution': 0, 'anderson': 0, 'nat': 0, 'rom': 0, 'soma': 0, 'organization': 0, 'aquila': 0, 'solid': 0, 'affected': 0, 'transco': 0, 'spend': 0, 'responsibilities': 0, 'assume': 0, 'header': 0, 'accountant': 0, 'functionality': 0, 'meant': 0, 'killed': 0, 'analysts': 0, 'rick': 0, 'rolled': 0, 'noted': 0, 'discovered': 0, 'offices': 0, 'torch': 0, 'often': 0, 'york': 0, 'joint': 0, 'briley': 0, 'competition': 0, 'guide': 0, 'intercompany': 0, 'son': 0, 'settlement': 0, 'presently': 0, 'cart': 0, 'tim': 0, 'entries': 0, 'russ': 0, 'valadez': 0, 'rules': 0, 'molly': 0, 'apple': 0, 'atleast': 0, 'scheduler': 0, 'pi': 0, 'hector': 0, 'dell': 0, 'opm': 0, 'hottlist': 0, 'yap': 0, 'gone': 0, 'heal': 0, 'llc': 0, 'setting': 0, 'reached': 0, 'proposal': 0, 'hundred': 0, 'trust': 0, 'official': 0, 'table': 0, 'mcgee': 0, 'written': 0, 'operation': 0, 'cellspacing': 0, 'laptop': 0, 'feature': 0, 'ram': 0, 'victoria': 0, 'larry': 0, 'units': 0, 'requests': 0, 'continued': 0, 'external': 0, 'pack': 0, 'couldn': 0, 'lateral': 0, 'strictly': 0, 'resource': 0, 'although': 0, 'sr': 0, 'commodity': 0, 'pulled': 0, 'protocol': 0, 'bed': 0, 'generated': 0, 'redmond': 0, 'girl': 0, 'apparently': 0, 'tool': 0, 'reviews': 0, 'released': 0, 'movies': 0, 'inside': 0, 'shareholder': 0, 'rr': 0, 'compensation': 0, 'beliefs': 0, 'foresee': 0, 'lease': 0, 'rule': 0, 'marta': 0, 'chemical': 0, 'hillary': 0, 'hp': 0, 'tongue': 0, 'adonis': 0, 'advises': 0, 'master': 0, 'eight': 0, 'wasn': 0, 'itself': 0, 'documentation': 0, 'xl': 0, 'humble': 0, 'elsa': 0, 'pics': 0, 'hughes': 0, 'brokered': 0, 'distribute': 0, 'consultation': 0, 'sheri': 0, 'lists': 0, 'cannon': 0, 'treated': 0, 'factor': 0, 'putting': 0, 'verified': 0, 'releases': 0, 'enhanced': 0, 'controls': 0, 'craig': 0, 'worksheet': 0, 'conversion': 0, 'max': 0, 'hrs': 0, 'helpful': 0, 'hand': 0, 'producing': 0, 'dl': 0, 'developing': 0, 'design': 0, 'woman': 0, 'understands': 0, 'standards': 0, 'promotion': 0, 'sarco': 0, 'hospital': 0, 'ffffff': 0, 'respective': 0, 'richmond': 0, 'conoco': 0, 'driver': 0, 'easily': 0, 'sean': 0, 'den': 0, 'gateway': 0, 'holdings': 0, 'brad': 0, 'college': 0, 'gains': 0, 'adult': 0, 'dated': 0, 'em': 0, 'mcloughlin': 0, 'anticipates': 0, 'henderson': 0, 'julia': 0, 'negotiations': 0, 'sofftwaares': 0, 'garrick': 0, 'comstock': 0, 'trochta': 0, 'imceanotes': 0, 'ecom': 0, 'larger': 0, 'nommensen': 0, 'coordinate': 0, 'partnership': 0, 'otcbb': 0, 'announces': 0, 'louis': 0, 'dealer': 0, 'reliance': 0, 'season': 0, 'agua': 0, 'dulce': 0, 'offshore': 0, 'gathered': 0, 'forever': 0, 'function': 0, 'happened': 0, 'sample': 0, 'easier': 0, 'aim': 0, 'pa': 0, 'expensive': 0, 'thinks': 0, 'maximum': 0, 'war': 0, 'mining': 0, 'drilling': 0, 'owned': 0, 'todd': 0, 'advanced': 0, 'provider': 0, 'pending': 0, 'providers': 0, 'silver': 0, 'cherry': 0, 'hundreds': 0, 'thoughts': 0, 'addresses': 0, 'beach': 0, 'baby': 0, 'requires': 0, 'caused': 0, 'variance': 0, 'extension': 0, 'carbide': 0, 'anytime': 0, 'adding': 0, 'triple': 0, 'dawn': 0, 'martinez': 0, 'entering': 0, 'login': 0, 'bretz': 0, 'ls': 0, 'writeoff': 0, 'locker': 0, 'wiil': 0, 'block': 0, 'blood': 0, 'romeo': 0, 'responsibility': 0, 'brennan': 0, 'btu': 0, 'venture': 0, 'connected': 0, 'nascar': 0, 'opinions': 0, 'executed': 0, 'cell': 0, 'flag': 0, 'doctors': 0, 'invoiced': 0, 'marlin': 0, 'coffey': 0, 'nice': 0, 'amazing': 0, 'ii': 0, 'determined': 0, 'handled': 0, 'keeping': 0, 'touch': 0, 'upgrade': 0, 'shipment': 0, 'brought': 0, 'forwarding': 0, 'confidence': 0, 'hesitate': 0, 'seem': 0, 'electronic': 0, 'appreciated': 0, 'deadline': 0, 'franklin': 0, 'heather': 0, 'reasons': 0, 'passed': 0, 'safety': 0, 'procedures': 0, 'payback': 0, 'networks': 0, 'utility': 0, 'count': 0, 'africa': 0, 'exact': 0, 'creating': 0, 'loading': 0, 'processed': 0, 'court': 0, 'tier': 0, 'sender': 0, 'att': 0, 'mailbox': 0, 'glad': 0, 'buddy': 0, 'profiles': 0, 'portion': 0, 'protection': 0, 'compressor': 0, 'okay': 0, 'oba': 0, 'finding': 0, 'heads': 0, 'bar': 0, 'turned': 0, 'remote': 0, 'illustrator': 0, 'oem': 0, 'noticed': 0, 'mails': 0, 'darron': 0, 'nick': 0, 'urbanek': 0, 'jerry': 0, 'barrett': 0, 'ehronline': 0, 'und': 0, 'abdv': 0, 'egm': 0, 'couid': 0, 'technoiogies': 0, 'owns': 0, 'improved': 0, 'eat': 0, 'moment': 0, 'owners': 0, 'develop': 0, 'installed': 0, 'videos': 0, 'frank': 0, 'hearing': 0, 'inches': 0, 'busy': 0, 'ref': 0, 'valuable': 0, 'et': 0, 'un': 0, 'url': 0, 'shawna': 0, 'iso': 0, 'capture': 0, 'extremely': 0, 'ya': 0, 'causing': 0, 'consent': 0, 'anyway': 0, 'round': 0, 'discrepancies': 0, 'cheapest': 0, 'confidentiality': 0, 'disclosure': 0, 'prohibited': 0, 'vol': 0, 'correction': 0, 'communicate': 0, 'processes': 0, 'spain': 0, 'shareholders': 0, 'supported': 0, 'smoking': 0, 'mine': 0, 'biggest': 0, 'erections': 0, 'platform': 0, 'miles': 0, 'exciting': 0, 'association': 0, 'die': 0, 'restricted': 0, 'ma': 0, 'income': 0, 'goal': 0, 'bane': 0, 'collection': 0, 'nathan': 0, 'wind': 0, 'piece': 0, 'familiar': 0, 'gore': 0, 'experiencing': 0, 'pico': 0, 'mai': 0, 'dewpoint': 0, 'tessie': 0, 'hair': 0, 'bussell': 0, 'diane': 0, 'delivering': 0, 'originally': 0, 'accurate': 0, 'began': 0, 'seven': 0, 'tracking': 0, 'randall': 0, 'gay': 0, 'emerging': 0, 'prescriptions': 0, 'story': 0, 'arial': 0, 'florida': 0, 'space': 0, 'ownership': 0, 'european': 0, 'sutton': 0, 'concerned': 0, 'male': 0, 'spent': 0, 'agreements': 0, 'industries': 0, 'picture': 0, 'filled': 0, 'continues': 0, 'death': 0, 'choate': 0, 'majeure': 0, 'device': 0, 'hence': 0, 'ten': 0, 'campaign': 0, 'massive': 0, 'eyes': 0, 'requesting': 0, 'lives': 0, 'reminder': 0, 'eliminate': 0, 'copied': 0, 'consemiu': 0, 'died': 0, 'sound': 0, 'offered': 0, 'expressed': 0, 'anti': 0, 'duplicate': 0, 'steps': 0, 'books': 0, 'improve': 0, 'implementation': 0, 'gives': 0, 'ac': 0, 'peggy': 0, 'proprietary': 0, 'ways': 0, 'advertisement': 0, 'published': 0, 'earnings': 0, 'mortgage': 0, 'consumer': 0, 'ct': 0, 'tape': 0, 'fl': 0, 'cia': 0, 'organizational': 0, 'agenda': 0, 'rental': 0, 'carriere': 0, 'moshou': 0, 'church': 0, 'trouble': 0, 'medium': 0, 'aggressive': 0, 'smart': 0, 'zajac': 0, 'ail': 0, 'participants': 0, 'gap': 0, 'earthlink': 0, 'wire': 0, 'trades': 0, 'messaging': 0, 'ut': 0, 'wil': 0, 'richardson': 0, 'blvd': 0, 'glo': 0, 'seneca': 0, 'pubiisher': 0, 'imited': 0, 'isc': 0, 'contacts': 0, 'sleep': 0, 'kyle': 0, 'cooperation': 0, 'possibly': 0, 'leaving': 0, 'motor': 0, 'hopefully': 0, 'tie': 0, 'speak': 0, 'mi': 0, 'suggested': 0, 'canadian': 0, 'uses': 0, 'connect': 0, 'pvr': 0, 'rich': 0, 'places': 0, 'auction': 0, 'po': 0, 'spacer': 0, 'client': 0, 'recommended': 0, 'royalty': 0, 'amended': 0, 'default': 0, 'living': 0, 'regardless': 0, 'human': 0, 'bringing': 0, 'focused': 0, 'stores': 0, 'variety': 0, 'netherlands': 0, 'leaders': 0, 'bowen': 0, 'salary': 0, 'signed': 0, 'penny': 0, 'loan': 0, 'desktop': 0, 'chase': 0, 'pleasure': 0, 'compare': 0, 'session': 0, 'overall': 0, 'stranger': 0, 'length': 0, 'planned': 0, 'sp': 0, 'darrel': 0, 'raise': 0, 'palestinian': 0, 'expiration': 0, 'serial': 0, 'premiere': 0, 'suzanne': 0, 'reduced': 0, 'players': 0, 'applicable': 0, 'impotence': 0, 'buckley': 0, 'wayne': 0, 'hansen': 0, 'indicative': 0, 'sabrae': 0, 'dating': 0, 'winners': 0, 'marshall': 0, 'highest': 0, 'ea': 0, 'presentation': 0, 'allowed': 0, 'square': 0, 'danny': 0, 'gepl': 0, 'hydrocarbon': 0, 'alpine': 0, 'christmas': 0, 'muscle': 0, 'souza': 0, 'relating': 0, 'begins': 0, 'ecf': 0, 'forth': 0, 'answers': 0, 'audit': 0, 'approve': 0, 'lunch': 0, 'types': 0, 'starts': 0, 'difficult': 0, 'le': 0, 'lasts': 0, 'series': 0, 'till': 0, 'edge': 0, 'growing': 0, 'covered': 0, 'shipper': 0, 'sometime': 0, 'republic': 0, 'filter': 0, 'sooner': 0, 'increasing': 0, 'nelson': 0, 'percentage': 0, 'returned': 0, 'pop': 0, 'interface': 0, 'kin': 0, 'experienced': 0, 'prime': 0, 'merger': 0, 'obtain': 0, 'ryan': 0, 'servers': 0, 'attachments': 0, 'achieve': 0, 'effects': 0, 'gov': 0, 'examples': 0, 'procedure': 0, 'explore': 0, 'caribbean': 0, 'rally': 0, 'amounts': 0, 'comfort': 0, 'attempt': 0, 'greatly': 0, 'amelia': 0, 'engel': 0, 'delay': 0, 'fare': 0, 'der': 0, 'cove': 0, 'filing': 0, 'fletcher': 0, 'leth': 0, 'undervalued': 0, 'cents': 0, 'esther': 0, 'hlavaty': 0, 'reid': 0, 'lls': 0, 'troy': 0, 'palmer': 0, 'metals': 0, 'las': 0, 'carter': 0, 'luis': 0, 'migration': 0, 'brief': 0, 'hess': 0, 'therein': 0, 'ur': 0, 'pond': 0, 'joanne': 0, 'community': 0, 'tglo': 0, 'eogi': 0, 'ml': 0, 'wysak': 0, 'felipe': 0, 'errors': 0, 'affect': 0, 'convenient': 0, 'minimal': 0, 'boost': 0, 'incremental': 0, 'decide': 0, 'reserve': 0, 'superior': 0, 'kerr': 0, 'willing': 0, 'quite': 0, 'wild': 0, 'unlimited': 0, 'sans': 0, 'mother': 0, 'computers': 0, 'unfortunately': 0, 'ordered': 0, 'satisfaction': 0, 'priority': 0, 'traded': 0, 'testing': 0, 'portal': 0, 'ward': 0, 'lets': 0, 'aren': 0, 'knows': 0, 'refer': 0, 'shot': 0, 'fda': 0, 'tue': 0, 'saying': 0, 'cancel': 0, 'forecast': 0, 'cousino': 0, 'bass': 0, 'permanent': 0, 'phones': 0, 'technical': 0, 'whose': 0, 'objective': 0, 'cards': 0, 'distributed': 0, 'learning': 0, 'fire': 0, 'drill': 0, 'towards': 0, 'forget': 0, 'explosion': 0, 'gloria': 0, 'formula': 0, 'redelivery': 0, 'audio': 0, 'visual': 0, 'encoding': 0, 'approach': 0, 'doubt': 0, 'staffing': 0, 'excite': 0, 'corel': 0, 'tm': 0, 'enronavailso': 0, 'contacting': 0, 'alland': 0, 'heavy': 0, 'economic': 0, 'nigeria': 0, 'milwaukee': 0, 'phillip': 0, 'curve': 0, 'returns': 0, 'padre': 0, 'kathy': 0, 'buttons': 0, 'sir': 0, 'vary': 0, 'sounds': 0, 'disclose': 0, 'authority': 0, 'flw': 0, 'straight': 0, 'worldnet': 0, 'beemer': 0, 'ooo': 0, 'defs': 0, 'thorough': 0, 'officers': 0, 'flight': 0, 'prefer': 0, 'awesome': 0, 'macintosh': 0, 'feet': 0, 'constitutes': 0, 'formosa': 0, 'porn': 0, 'armstrong': 0, 'driscoll': 0, 'watches': 0, 'newsietter': 0, 'twenty': 0, 'tommy': 0, 'fields': 0, 'method': 0, 'setup': 0, 'allocating': 0, 'initially': 0, 'missed': 0, 'clarification': 0, 'especially': 0, 'dorcheus': 0, 'del': 0, 'millions': 0, 'insurance': 0, 'pooling': 0, 'trial': 0, 'tennessee': 0, 'ellis': 0, 'direction': 0, 'bold': 0, 'catch': 0, 'performing': 0, 'accepted': 0, 'matters': 0, 'batch': 0, 'continuing': 0, 'winning': 0, 'symbol': 0, 'offsystem': 0, 'decisions': 0, 'produced': 0, 'ended': 0, 'greatest': 0, 'degree': 0, 'solmonson': 0, 'imbalances': 0, 'fall': 0, 'fear': 0, 'hate': 0, 'fight': 0, 'reallocated': 0, 'debt': 0, 'reform': 0, 'australia': 0, 'plain': 0, 'prompt': 0, 'remains': 0, 'ifhsc': 0, 'enhancements': 0, 'connevey': 0, 'jay': 0, 'valued': 0, 'lay': 0, 'infrastructure': 0, 'military': 0, 'allowing': 0, 'ff': 0, 'dry': 0, 'Prediction': 0}\n"
     ]
    }
   ],
   "source": [
    "count = {}\n",
    "for i in headings:\n",
    "    count[i] = 0\n",
    "print(count)"
   ]
  },
  {
   "cell_type": "code",
   "execution_count": 28,
   "id": "cded95e2",
   "metadata": {},
   "outputs": [
    {
     "name": "stdout",
     "output_type": "stream",
     "text": [
      "_________________________________________\n",
      "subj: test\n",
      "from: Siva Adithya <sivamj14@gmail.com>\n"
     ]
    }
   ],
   "source": [
    "import imaplib\n",
    "import email\n",
    "'''import yaml  #To load saved login credentials from a yaml file\n",
    "with open(\"credentials.yml\") as f:\n",
    "    content = f.read()\n",
    "''' \n",
    "#my_credentials = yaml.load(content, Loader=yaml.FullLoader)\n",
    "#user, password = my_credentials[\"user\"], my_credentials[\"password\"]\n",
    "user, password = 'tempmail5729121@gmail.com', 'cnspfdbopefnmfhp'\n",
    "imap_url = 'imap.gmail.com'\n",
    "my_mail = imaplib.IMAP4_SSL(imap_url)\n",
    "my_mail.login(user, password)\n",
    "my_mail.select('Inbox')\n",
    "key = 'FROM'\n",
    "value = 'sivamj14@gmail.com'\n",
    "_, data = my_mail.search(None, key, value)  \n",
    "mail_id_list = data[0].split()  \n",
    "\n",
    "msgs = [] \n",
    "\n",
    "for num in mail_id_list:\n",
    "    typ, data = my_mail.fetch(num, '(RFC822)') \n",
    "    msgs.append(data)\n",
    "\n",
    "for msg in msgs[::-1]:\n",
    "    for response_part in msg:\n",
    "        if type(response_part) is tuple:\n",
    "            my_msg=email.message_from_bytes((response_part[1]))\n",
    "            print(\"_________________________________________\")\n",
    "            print (\"subj:\", my_msg['subject'])\n",
    "            print (\"from:\", my_msg['from'])\n",
    "            #print (\"body:\")\n",
    "            for part in my_msg.walk():  \n",
    "                #print(part.get_content_type())\n",
    "                if part.get_content_type() == 'text/plain':\n",
    "                    #print (part.get_payload())\n",
    "                    body = part.get_payload()"
   ]
  },
  {
   "cell_type": "code",
   "execution_count": 29,
   "id": "4d448749",
   "metadata": {},
   "outputs": [
    {
     "name": "stdout",
     "output_type": "stream",
     "text": [
      "{'the': 39, 'to': 20, 'ect': 0, 'and': 24, 'for': 3, 'of': 26, 'a': 13, 'you': 3, 'hou': 0, 'in': 7, 'on': 4, 'is': 15, 'this': 4, 'enron': 0, 'i': 0, 'be': 1, 'that': 5, 'will': 0, 'have': 4, 'with': 3, 'your': 0, 'at': 2, 'we': 5, 's': 0, 'are': 9, 'it': 10, 'by': 0, 'com': 0, 'as': 2, 'from': 3, 'gas': 0, 'or': 2, 'not': 3, 'me': 0, 'deal': 0, 'if': 2, 'meter': 0, 'hpl': 0, 'please': 0, 're': 0, 'e': 0, 'any': 0, 'our': 0, 'corp': 0, 'can': 1, 'd': 0, 'all': 4, 'has': 4, 'was': 1, 'know': 0, 'need': 0, 'an': 0, 'forwarded': 0, 'new': 0, 't': 0, 'may': 1, 'up': 0, 'j': 0, 'mmbtu': 0, 'should': 0, 'do': 1, 'am': 0, 'get': 0, 'out': 1, 'see': 1, 'no': 0, 'there': 1, 'price': 0, 'daren': 0, 'but': 0, 'been': 1, 'company': 0, 'l': 0, 'these': 1, 'let': 0, 'so': 0, 'would': 0, 'm': 0, 'into': 3, 'xls': 0, 'farmer': 0, 'attached': 0, 'us': 0, 'information': 1, 'they': 1, 'message': 0, 'day': 0, 'time': 0, 'my': 0, 'one': 7, 'what': 4, 'only': 0, 'http': 0, 'th': 0, 'volume': 0, 'mail': 1, 'contract': 0, 'which': 4, 'month': 0, 'more': 5, 'robert': 0, 'sitara': 0, 'about': 3, 'texas': 0, 'nom': 0, 'energy': 0, 'pec': 0, 'questions': 0, 'www': 0, 'deals': 0, 'volumes': 0, 'pm': 0, 'ena': 0, 'now': 0, 'their': 7, 'file': 0, 'some': 1, 'email': 0, 'just': 0, 'also': 1, 'call': 0, 'change': 0, 'other': 1, 'here': 0, 'like': 1, 'b': 0, 'flow': 0, 'net': 0, 'following': 0, 'p': 0, 'production': 0, 'when': 2, 'over': 0, 'back': 0, 'want': 0, 'original': 0, 'them': 0, 'below': 0, 'o': 0, 'ticket': 0, 'c': 0, 'he': 0, 'could': 0, 'make': 0, 'inc': 0, 'report': 0, 'march': 0, 'contact': 0, 'were': 0, 'days': 0, 'list': 0, 'nomination': 0, 'system': 0, 'who': 1, 'april': 0, 'number': 0, 'sale': 0, 'don': 0, 'its': 1, 'first': 0, 'thanks': 0, 'business': 0, 'help': 0, 'per': 0, 'through': 0, 'july': 0, 'forward': 0, 'font': 0, 'free': 0, 'daily': 0, 'use': 5, 'order': 0, 'today': 0, 'r': 0, 'had': 1, 'fw': 0, 'set': 1, 'plant': 0, 'statements': 0, 'go': 0, 'gary': 0, 'oil': 0, 'line': 0, 'sales': 0, 'w': 0, 'effective': 0, 'well': 2, 'tenaska': 0, 'take': 0, 'june': 0, 'x': 0, 'within': 0, 'nbsp': 0, 'she': 0, 'how': 8, 'north': 0, 'america': 0, 'being': 0, 'under': 0, 'next': 0, 'week': 0, 'than': 1, 'january': 0, 'last': 0, 'two': 0, 'service': 0, 'purchase': 0, 'name': 0, 'less': 0, 'height': 0, 'off': 0, 'agreement': 0, 'k': 0, 'work': 0, 'tap': 0, 'group': 1, 'year': 0, 'based': 0, 'transport': 0, 'after': 0, 'think': 0, 'made': 0, 'each': 1, 'available': 0, 'changes': 1, 'due': 0, 'f': 0, 'h': 0, 'services': 0, 'smith': 0, 'send': 0, 'management': 0, 'stock': 0, 'sent': 0, 'll': 0, 'co': 0, 'office': 0, 'needs': 2, 'cotten': 0, 'did': 0, 'actuals': 0, 'u': 0, 'money': 0, 'before': 0, 'looking': 0, 'then': 0, 'pills': 0, 'online': 0, 'request': 0, 'look': 0, 'desk': 0, 'ami': 0, 'his': 0, 'same': 0, 'george': 0, 'chokshi': 0, 'point': 0, 'delivery': 0, 'friday': 0, 'does': 2, 'size': 0, 'august': 0, 'product': 0, 'pat': 0, 'width': 0, 'iv': 0, 'noms': 0, 'address': 0, 'above': 0, 'sure': 0, 'give': 0, 'october': 0, 'future': 0, 'find': 0, 'market': 0, 'n': 0, 'mary': 0, 'vance': 0, 'melissa': 0, 'said': 0, 'internet': 0, 'still': 1, 'account': 0, 'those': 0, 'down': 0, 'link': 0, 'hsc': 0, 'rate': 0, 'people': 7, 'pipeline': 0, 'best': 0, 'actual': 0, 'very': 0, 'end': 0, 'home': 0, 'houston': 0, 'tu': 0, 'high': 0, 'her': 0, 'team': 0, 'products': 0, 'many': 2, 'currently': 0, 'spot': 0, 'receive': 0, 'good': 0, 'such': 0, 'going': 0, 'process': 0, 'feb': 0, 'monday': 0, 'info': 0, 'david': 0, 'lloyd': 0, 'again': 0, 'both': 2, 'click': 0, 'subject': 0, 'jackie': 0, 'december': 0, 'total': 0, 'na': 0, 'lisa': 0, 've': 0, 'september': 0, 'hours': 0, 'until': 0, 'resources': 0, 'because': 0, 'aol': 0, 'february': 0, 'where': 0, 'g': 0, 'investment': 0, 'issue': 0, 'duke': 0, 'since': 0, 'pay': 0, 'show': 0, 'way': 2, 'global': 0, 'computron': 0, 'further': 0, 'most': 0, 'place': 0, 'offer': 0, 'natural': 0, 'activity': 0, 'eastrans': 0, 'graves': 0, 'right': 0, 'prices': 0, 'date': 0, 'john': 0, 'utilities': 0, 'november': 0, 'clynes': 0, 'jan': 0, 'securities': 0, 'meeting': 0, 'susan': 0, 'hplc': 0, 'julie': 0, 'able': 0, 'received': 0, 'align': 0, 'term': 0, 'id': 0, 'revised': 0, 'thursday': 0, 'pg': 0, 'fee': 0, 'hplno': 0, 'trading': 0, 'additional': 0, 'site': 0, 'txu': 0, 'data': 0, 'wellhead': 0, 'reply': 0, 'taylor': 0, 'news': 0, 'unify': 0, 'michael': 0, 'provide': 0, 'note': 0, 'much': 1, 'access': 1, 'lannou': 0, 'every': 0, 'between': 1, 'keep': 0, 'tuesday': 0, 'review': 0, 'great': 0, 'tom': 0, 'put': 0, 'done': 0, 'long': 0, 'save': 0, 'section': 0, 'must': 2, 'v': 0, 'part': 2, 'nd': 0, 'million': 0, 'check': 1, 'trade': 0, 'bob': 0, 'created': 0, 'steve': 0, 'prior': 0, 'copy': 0, 'continue': 0, 'numbers': 0, 'via': 0, 'world': 1, 'demand': 0, 'hanks': 0, 'contracts': 0, 'phone': 0, 'transaction': 0, 'customer': 0, 'possible': 0, 'pefs': 0, 'meyers': 0, 'months': 0, 'special': 0, 'without': 0, 'used': 0, 'regarding': 0, 'software': 0, 'howard': 0, 'support': 0, 'buy': 0, 'young': 0, 'meters': 0, 'thru': 0, 'believe': 0, 'gcs': 0, 'cec': 0, 'entered': 0, 'control': 0, 'dec': 0, 'face': 0, 'create': 0, 'weissman': 0, 'st': 0, 'color': 0, 'come': 1, 'supply': 0, 'brian': 0, 'hplo': 0, 'own': 1, 'correct': 0, 'customers': 0, 'web': 0, 'allocation': 0, 'soon': 0, 'using': 0, 'development': 0, 'mark': 0, 'low': 0, 'power': 2, 'problem': 0, 'once': 0, 'however': 0, 'tickets': 0, 'border': 0, 'performance': 0, 'manager': 0, 'rates': 0, 'center': 0, 'companies': 0, 'risk': 0, 'details': 0, 'needed': 0, 'international': 0, 'field': 0, 'even': 0, 'someone': 0, 'doc': 0, 'fuel': 0, 'lee': 0, 'paid': 0, 'while': 1, 'start': 0, 'index': 0, 'include': 0, 'nominations': 0, 'act': 0, 'pricing': 0, 'scheduled': 0, 'gathering': 0, 'type': 0, 'href': 0, 'during': 0, 'aimee': 0, 'anything': 0, 'feel': 0, 'fuels': 0, 'getting': 0, 'advice': 0, 'why': 0, 'increase': 0, 'path': 0, 'sell': 0, 'works': 0, 'issues': 0, 'three': 0, 'enronxgate': 0, 'camp': 0, 'either': 1, 'form': 0, 'security': 0, 'interest': 0, 'financial': 0, 'family': 0, 'xp': 0, 'plan': 0, 'current': 0, 'top': 0, 'another': 0, 'src': 0, 'spreadsheet': 0, 'allen': 0, 'wednesday': 0, 'read': 5, 'him': 0, 'working': 0, 'wynne': 0, 'add': 0, 'deliveries': 0, 'buyback': 0, 'allocated': 0, 'firm': 0, 'james': 0, 'marketing': 0, 'tx': 0, 'results': 0, 'got': 0, 'stocks': 0, 'calpine': 0, 'might': 0, 'operations': 0, 'position': 0, 'logistics': 0, 'fax': 0, 'cost': 0, 'party': 0, 'zero': 0, 'pops': 0, 'old': 0, 'pt': 0, 'scheduling': 0, 'flowed': 0, 'dollars': 0, 'update': 0, 'gco': 0, 'katy': 0, 'including': 0, 'follow': 0, 'yahoo': 0, 'already': 0, 'suite': 0, 'error': 0, 'past': 0, 'page': 0, 'stop': 0, 'changed': 0, 'book': 0, 'program': 0, 'few': 0, 'better': 0, 'operating': 0, 'equistar': 0, 'move': 0, 'cotton': 0, 'aep': 0, 'y': 0, 'state': 0, 'ees': 0, 'rita': 0, 'provided': 0, 'employees': 0, 'period': 0, 'morning': 0, 'cd': 0, 'hotmail': 0, 'entex': 0, 'swing': 0, 'real': 0, 'exchange': 2, 'tomorrow': 0, 'lst': 0, 'counterparty': 0, 'parker': 0, 'person': 0, 'follows': 0, 'valid': 0, 'visit': 0, 'little': 0, 'professional': 0, 'quality': 0, 'confirm': 0, 'something': 1, 'megan': 0, 'brenda': 0, 'around': 2, 'windows': 0, 'im': 0, 'storage': 0, 'accounting': 0, 'called': 0, 'ranch': 0, 'tax': 0, 'problems': 0, 'case': 1, 'teco': 0, 'fact': 0, 'always': 0, 'too': 0, 'unsubscribe': 0, 'amount': 0, 'coastal': 0, 'never': 0, 'rodriguez': 0, 'love': 0, 'acton': 0, 'shut': 0, 'pipe': 0, 'project': 0, 'hope': 0, 'limited': 0, 'invoice': 0, 'credit': 0, 'full': 0, 'survey': 0, 'ray': 0, 'carlos': 0, 'anyone': 0, 'wanted': 0, 'yet': 0, 'ic': 0, 'scott': 0, 'years': 0, 'charlie': 0, 'soft': 0, 'notice': 0, 'advise': 0, 'addition': 0, 'donald': 0, 'lsk': 0, 'wish': 0, 'katherine': 0, 'website': 0, 'hplnl': 0, 'schumack': 0, 'prescription': 0, 'cover': 0, 'shares': 0, 'cash': 0, 'imbalance': 0, 'united': 0, 'handle': 0, 'big': 0, 'everyone': 0, 'style': 0, 'clear': 0, 'producer': 0, 'weekend': 0, 'city': 0, 'requested': 0, 'stone': 0, 'left': 0, 'payment': 0, 'mobil': 0, 'shows': 0, 'small': 0, 'confirmed': 0, 'technology': 0, 'meet': 0, 'extend': 0, 'life': 2, 'intended': 0, 'sherlyn': 0, 'schedule': 0, 'else': 0, 'letter': 0, 'box': 0, 'bill': 0, 'richard': 0, 'lamphier': 0, 'complete': 0, 'ever': 0, 'release': 0, 'newsletter': 0, 'anita': 0, 'clem': 0, 'having': 0, 'herod': 0, 'beginning': 0, 'papayoti': 0, 'try': 0, 'mike': 0, 'enter': 0, 'estimates': 0, 'location': 0, 'cut': 0, 'question': 0, 'things': 0, 'personal': 0, 'feedback': 0, 'cialis': 0, 'found': 0, 'area': 0, 'dow': 0, 'terms': 0, 'central': 0, 'necessary': 1, 'man': 0, 'run': 0, 'reason': 1, 'third': 0, 'midcon': 0, 'charge': 0, 'president': 0, 'de': 0, 'listed': 0, 'meds': 0, 'thomas': 0, 'thought': 0, 'capital': 0, 'added': 0, 'ask': 0, 'weeks': 0, 'investing': 0, 'commercial': 0, 'star': 0, 'several': 0, 'easy': 0, 'view': 0, 'cannot': 0, 'extended': 0, 'lauri': 0, 'beaumont': 0, 'union': 0, 'times': 0, 'open': 0, 'cause': 0, 'monthly': 0, 'action': 0, 'offers': 0, 'industry': 0, 'states': 0, 'side': 1, 'mailto': 0, 'probably': 0, 'neal': 0, 'second': 0, 'stephanie': 0, 'download': 0, 'flash': 0, 'agree': 0, 'mcf': 0, 'transfer': 0, 'doing': 0, 'important': 0, 'basis': 0, 'different': 5, 'final': 0, 'koch': 0, 'exxon': 0, 'remove': 0, 'microsoft': 0, 'interested': 0, 'application': 0, 'sept': 0, 'mg': 0, 'write': 4, 'lp': 0, 'east': 0, 'requirements': 0, 'code': 1, 'value': 0, 'thank': 0, 'together': 0, 'exploration': 0, 'mid': 0, 'dfarmer': 0, 'everything': 0, 'receipt': 0, 'thu': 0, 'afternoon': 0, 'late': 0, 'enserch': 0, 'coming': 0, 'bank': 0, 'response': 0, 'tell': 0, 'shipping': 0, 'night': 0, 'events': 0, 'cynthia': 0, 'lsp': 0, 'close': 0, 'legal': 0, 'country': 0, 'direct': 0, 'expected': 0, 'ces': 0, 'corporation': 0, 'options': 0, 'really': 0, 'voip': 0, 'nominated': 0, 'etc': 0, 'latest': 0, 'potential': 0, 'priced': 0, 'edward': 0, 'valero': 0, 'material': 0, 'stack': 0, 'victor': 0, 'redeliveries': 0, 'loss': 0, 'remember': 0, 'baumbach': 0, 'option': 0, 'private': 1, 'longer': 0, 'aware': 0, 'included': 0, 'drugs': 0, 'public': 0, 'reinhardt': 0, 'version': 0, 'hesse': 0, 'discuss': 0, 'related': 0, 'asked': 0, 'say': 0, 'viagra': 0, 'revision': 0, 'bgcolor': 0, 'kind': 0, 'pro': 0, 'completed': 0, 'health': 0, 'ready': 0, 'plans': 0, 'registered': 0, 'regards': 0, 'carthage': 0, 'zone': 0, 'fill': 0, 'away': 0, 'computer': 0, 'systems': 0, 'industrial': 0, 'mentioned': 0, 'told': 1, 'therefore': 0, 'growth': 0, 'sold': 0, 'track': 0, 'reports': 0, 'south': 0, 'rd': 0, 'jim': 0, 'costs': 0, 'image': 0, 'expect': 0, 'return': 0, 'physical': 0, 'el': 0, 'browser': 0, 'donna': 0, 'stacey': 0, 'begin': 0, 'china': 0, 'duty': 0, 'approximately': 0, 'showing': 0, 'unit': 0, 'jones': 0, 'hard': 0, 'verify': 0, 'updated': 0, 'eol': 0, 'cs': 0, 'orders': 0, 'talk': 0, 'trying': 0, 'base': 0, 'given': 0, 'server': 0, 'source': 0, 'pathed': 0, 'strong': 0, 'bryan': 0, 'directly': 0, 'risks': 0, 'whole': 0, 'major': 0, 'users': 0, 'purchases': 0, 'oo': 0, 'karen': 0, 'luong': 0, 'level': 0, 'required': 0, 'delivered': 0, 'portfolio': 0, 'riley': 0, 'ali': 0, 'easttexas': 0, 'poorman': 0, 'bellamy': 0, 'assistance': 0, 'nothing': 0, 'gif': 0, 'thing': 0, 'retail': 0, 'didn': 0, 'valley': 0, 'department': 0, 'cleburne': 0, 'allow': 0, 'gpgfin': 0, 'answer': 0, 'items': 0, 'paste': 0, 'avila': 0, 'taken': 0, 'mm': 0, 'nguyen': 0, 'ensure': 0, 'reference': 0, 'hall': 0, 'later': 0, 'lone': 0, 'user': 0, 'methanol': 0, 'facility': 0, 'network': 0, 'spoke': 0, 'though': 0, 'tabs': 0, 'taking': 0, 'status': 0, 'considered': 0, 'purchased': 0, 'says': 0, 'yourself': 0, 'paliourg': 0, 'dy': 0, 'jeff': 0, 'businesses': 0, 'fred': 0, 'transportation': 0, 'apache': 0, 'morris': 0, 'nov': 0, 'ltd': 0, 'brand': 0, 'federal': 0, 'statement': 0, 'oasis': 0, 'reflect': 0, 'assets': 0, 'lamadrid': 0, 'general': 0, 'bridge': 0, 'ability': 1, 'oct': 0, 'play': 0, 'enrononline': 0, 'compliance': 0, 'spam': 0, 'availability': 0, 'king': 0, 'understanding': 0, 'chance': 0, 'quick': 0, 'effort': 0, 'points': 0, 'reliantenergy': 0, 'fixed': 0, 'short': 0, 'hill': 0, 'cheryl': 0, 'aepin': 0, 'key': 0, 'understand': 1, 'valign': 0, 'capacity': 0, 'game': 0, 'took': 0, 'bring': 0, 'guys': 0, 'god': 0, 'green': 0, 'care': 0, 'withers': 0, 'property': 0, 'hub': 0, 'johnson': 0, 'employee': 0, 'wants': 0, 'albrecht': 0, 'meaning': 2, 'expectations': 0, 'mx': 0, 'moved': 0, 'cernosek': 0, 'matter': 0, 'devon': 0, 'calls': 0, 'worldwide': 0, 'records': 0, 'removed': 0, 'lose': 0, 'large': 1, 'referenced': 0, 'walker': 0, 'iferc': 0, 'enw': 0, 'ponton': 0, 'eileen': 0, 'ship': 0, 'upon': 0, 'enerfin': 0, 'jennifer': 0, 'looks': 2, 'staff': 0, 'pc': 0, 'target': 0, 'waha': 0, 'making': 0, 'cp': 0, 'impact': 1, 'partner': 0, 'immediately': 0, 'shall': 0, 'channel': 0, 'takes': 0, 'sat': 0, 'others': 0, 'hear': 0, 'went': 0, 'travel': 0, 'listing': 0, 'approved': 0, 'processing': 0, 'early': 0, 'enough': 0, 'sally': 0, 'starting': 0, 'distribution': 0, 'tejas': 0, 'transactions': 0, 'stay': 0, 'earl': 0, 'superty': 0, 'doesn': 0, 'reserves': 0, 'includes': 2, 'choose': 0, 'adobe': 0, 'publisher': 0, 'paso': 0, 'cornhusker': 0, 'training': 0, 'markets': 0, 'content': 0, 'solution': 0, 'shell': 0, 'jpg': 0, 'print': 0, 'drive': 0, 'pain': 0, 'password': 0, 'half': 0, 'herrera': 0, 'saturday': 0, 'moopid': 0, 'hotlist': 0, 'balance': 0, 'super': 0, 'vacation': 0, 'sex': 0, 'happy': 0, 'excess': 0, 'existing': 0, 'fund': 0, 'stella': 0, 'share': 0, 'sign': 0, 'wells': 0, 'won': 0, 'four': 0, 'text': 0, 'card': 0, 'tisdale': 0, 'fwd': 0, 'appreciate': 0, 'non': 0, 'experience': 0, 'savings': 0, 'settlements': 0, 'draft': 0, 'couple': 0, 'informed': 0, 'biz': 0, 'watch': 0, 'plus': 0, 'sun': 0, 'expense': 0, 'images': 0, 'land': 0, 'occur': 0, 'flowing': 0, 'mar': 0, 'terry': 0, 'darren': 0, 'cheap': 0, 'weight': 0, 'dynegy': 0, 'activities': 0, 'become': 0, 'mr': 0, 'format': 0, 'attention': 0, 'entire': 0, 'photoshop': 0, 'williams': 0, 'instructions': 0, 'neon': 0, 'janet': 0, 'contains': 0, 'ago': 0, 'friends': 0, 'against': 0, 'boas': 0, 'music': 0, 'certain': 0, 'liz': 0, 'svcs': 0, 'record': 0, 'fast': 0, 'dave': 0, 'held': 0, 'mind': 0, 'ua': 0, 'publication': 0, 'differ': 0, 'comments': 0, 'fun': 0, 'rest': 0, 'instant': 0, 'agent': 0, 'communications': 0, 'director': 0, 'partners': 0, 'investors': 0, 'expedia': 0, 'kevin': 0, 'assist': 0, 'safe': 0, 'approval': 0, 'allocate': 0, 'black': 0, 'none': 0, 'intrastate': 0, 'document': 0, 'eric': 0, 'hakemack': 0, 'expired': 0, 'lower': 0, 'active': 0, 'secure': 1, 'cc': 0, 'five': 0, 'determine': 0, 'press': 0, 'colspan': 0, 'missing': 0, 'jill': 0, 'discussion': 0, 'relief': 0, 'respect': 0, 'specific': 0, 'technologies': 0, 'al': 0, 'holmes': 0, 'white': 0, 'yesterday': 0, 'medical': 0, 'pinion': 0, 'sorry': 0, 'men': 0, 'leave': 0, 'pass': 0, 'video': 0, 'gomes': 0, 'doctor': 0, 'projects': 0, 'limit': 0, 'air': 0, 'knle': 0, 'pharmacy': 0, 'confirmation': 0, 'opportunity': 0, 'involve': 0, 'notify': 0, 'gtc': 0, 'class': 0, 'ken': 0, 'started': 0, 'outage': 0, 'confidential': 1, 'room': 0, 'blue': 0, 'estimated': 0, 'officer': 0, 'reach': 0, 'messages': 0, 'database': 0, 'words': 0, 'prc': 0, 'tracked': 0, 'transition': 0, 'light': 0, 'national': 0, 'hot': 0, 'offering': 0, 'gulf': 0, 'provides': 0, 'iit': 0, 'demokritos': 0, 'mckay': 0, 'average': 0, 'wide': 0, 'heard': 0, 'files': 0, 'dan': 0, 'billed': 0, 'mccoy': 0, 'rc': 0, 'exactly': 0, 'middle': 0, 'select': 0, 'bruce': 0, 'louisiana': 0, 'receiving': 0, 'california': 0, 'event': 0, 'roll': 0, 'mops': 0, 'william': 0, 'appear': 0, 'perfect': 1, 'html': 0, 'features': 0, 'join': 0, 'greater': 0, 'sunday': 0, 'pick': 0, 'featured': 0, 'cdnow': 0, 'prize': 0, 'reveffo': 0, 'olsen': 0, 'expects': 0, 'estimate': 0, 'near': 0, 'common': 0, 'package': 0, 'title': 0, 'whether': 0, 'bought': 0, 'evergreen': 0, 'difference': 0, 'elizabeth': 0, 'history': 1, 'monitor': 0, 'advised': 0, 'result': 0, 'sources': 0, 'school': 0, 'unaccounted': 0, 'paragraph': 0, 'turn': 0, 'kimberly': 0, 'increased': 0, 'communication': 0, 'members': 0, 'concerns': 0, 'uncertainties': 0, 'associated': 0, 'reduce': 0, 'committed': 0, 'wi': 0, 'asap': 0, 'goes': 0, 'trader': 0, 'waiting': 0, 'canada': 0, 'worth': 0, 'representative': 0, 'claim': 1, 'ceo': 0, 'london': 0, 'discussions': 0, 'php': 0, 'brazos': 0, 'trevino': 0, 'calling': 0, 'involved': 0, 'la': 0, 'gift': 0, 'southern': 0, 'groups': 0, 'hour': 0, 'tufco': 0, 'previously': 0, 'voice': 0, 'normally': 0, 'resolve': 0, 'efforts': 0, 'nor': 0, 'recent': 0, 'purchasing': 0, 'county': 0, 'ok': 0, 'express': 0, 'generic': 0, 'according': 0, 'respond': 0, 'situation': 0, 'hold': 1, 'lot': 0, 'interconnect': 0, 'word': 0, 'came': 0, 'west': 0, 'role': 0, 'opportunities': 0, 'corporate': 0, 'remain': 0, 'similar': 0, 'readers': 0, 'suggestions': 0, 'subscribers': 0, 'projections': 0, 'lead': 0, 'learn': 3, 'resolved': 0, 'agreed': 0, 'sec': 0, 'head': 0, 'enjoy': 0, 'img': 0, 'rnd': 0, 'responsible': 0, 'outstanding': 0, 'member': 0, 'panenergy': 0, 'american': 0, 'cass': 0, 'register': 0, 'promotions': 0, 'parties': 0, 'winfree': 0, 'selling': 0, 'usage': 0, 'appropriate': 0, 'assignment': 0, 'media': 0, 'believes': 0, 'require': 0, 'submit': 0, 'model': 0, 'spinnaker': 0, 'copano': 0, 'facilities': 0, 'opinion': 0, 'factors': 0, 'identified': 0, 'beverly': 0, 'ews': 0, 'gdp': 0, 'deliver': 0, 'job': 0, 'profile': 0, 'across': 2, 'neuweiler': 0, 'suggest': 0, 'girls': 0, 'manage': 0, 'usa': 0, 'local': 1, 'bad': 0, 'greg': 0, 'vs': 0, 'fees': 0, 'digital': 0, 'cf': 0, 'strangers': 0, 'registration': 0, 'delta': 0, 'rolex': 0, 'goliad': 0, 'hesco': 0, 'success': 0, 'primary': 0, 'quarter': 0, 'course': 0, 'chairman': 0, 'petroleum': 0, 'notes': 0, 'medications': 0, 'ei': 0, 'instead': 0, 'fine': 0, 'lake': 0, 'pre': 0, 'force': 0, 'seek': 0, 'recipient': 0, 'gain': 0, 'placed': 0, 'age': 0, 'least': 0, 'body': 1, 'asking': 0, 'discussed': 0, 'hanson': 0, 'emails': 0, 'nominate': 0, 'ext': 0, 'known': 2, 'ones': 0, 'ed': 0, 'assigned': 0, 'htmlimg': 0, 'means': 0, 'present': 0, 'various': 0, 'invoices': 0, 'gd': 0, 'agency': 0, 'along': 0, 'located': 0, 'reflects': 0, 'solutions': 0, 'ex': 0, 'house': 0, 'cds': 0, 'br': 0, 'owner': 0, 'apr': 0, 'sullivan': 0, 'basin': 0, 'linda': 0, 'worked': 0, 'car': 0, 'seen': 1, 'properties': 0, 'booked': 0, 'higher': 0, 'store': 0, 'est': 0, 'revenue': 0, 'wait': 0, 'women': 0, 'far': 0, 'met': 0, 'wholesale': 0, 'range': 0, 'kcs': 0, 'recorded': 0, 'brown': 0, 'lots': 0, 'match': 0, 'input': 0, 'grant': 0, 'providing': 0, 'huge': 0, 'investor': 0, 'kelly': 0, 'apply': 0, 'paths': 0, 'handling': 0, 'pipes': 0, 'advantage': 0, 'analysis': 0, 'focus': 0, 'draw': 0, 'red': 0, 'origination': 0, 'connection': 0, 'planning': 0, 'wilson': 0, 'golf': 0, 'summary': 0, 'item': 0, 'bankruptcy': 0, 'expenses': 0, 'pgev': 0, 'encina': 0, 'beaty': 0, 'memo': 0, 'initial': 0, 'thousand': 0, 'mills': 0, 'penis': 0, 'friend': 0, 'conversation': 0, 'multiple': 0, 'martin': 0, 'names': 0, 'bit': 0, 'dth': 0, 'talked': 0, 'behalf': 0, 'preliminary': 0, 'button': 0, 'herein': 0, 'gisb': 0, 'coupon': 0, 'sa': 0, 'oi': 0, 'appears': 0, 'door': 0, 'texaco': 0, 'csikos': 0, 'arrangements': 0, 'cpr': 0, 'expires': 0, 'popular': 0, 'sending': 0, 'research': 0, 'conditions': 0, 'gb': 0, 'board': 0, 'ca': 0, 'applications': 0, 'tried': 0, 'paying': 0, 'acquisition': 0, 'reporting': 0, 'normal': 0, 'maintenance': 0, 'resume': 0, 'announced': 0, 'attachment': 0, 'buyer': 0, 'objectives': 0, 'prod': 0, 'represent': 0, 'sandi': 0, 'hplnol': 0, 'government': 0, 'committee': 0, 'running': 0, 'tetco': 0, 'discount': 0, 'jo': 0, 'holding': 0, 'earlier': 0, 'positions': 0, 'happen': 0, 'mailing': 0, 'decided': 0, 'recently': 0, 'chris': 0, 'xanax': 0, 'valium': 0, 'broadband': 0, 'individual': 0, 'station': 0, 'td': 0, 'financing': 0, 'somehow': 0, 'pena': 0, 'critical': 0, 'attend': 0, 'kristen': 0, 'inform': 0, 'highly': 0, 'hl': 0, 'phillips': 0, 'minutes': 0, 'titles': 0, 'affiliate': 0, 'wife': 0, 'lonestar': 0, 'charlotte': 0, 'quickly': 1, 'paper': 0, 'test': 1, 'comes': 1, 'mobile': 0, 'internal': 0, 'privacy': 0, 'ideas': 0, 'live': 0, 'gotten': 0, 'floor': 0, 'benefit': 0, 'percent': 0, 'ms': 0, 'dr': 0, 'ebs': 0, 'msn': 0, 'gave': 0, 'dallas': 0, 'enterprise': 0, 'rx': 0, 'spring': 0, 'ftar': 0, 'ooking': 0, 'hawkins': 0, 'exclusive': 0, 'selected': 0, 'baxter': 0, 'actually': 1, 'single': 0, 'shop': 0, 'nominates': 0, 'guarantee': 0, 'minute': 0, 'correctly': 0, 'unique': 2, 'bid': 0, 'building': 0, 'stated': 0, 'accept': 0, 'assumptions': 0, 'centana': 0, 'senior': 0, 'pill': 0, 'kinsey': 0, 'sap': 0, 'immediate': 0, 'goals': 0, 'category': 0, 'mitchell': 0, 'acceptance': 0, 'termination': 0, 'sweeney': 0, 'facts': 0, 'amazon': 0, 'arrangement': 0, 'josey': 0, 'funds': 0, 'among': 0, 'accuracy': 0, 'mean': 1, 'rather': 0, 'kim': 0, 'egmnom': 0, 'indicate': 0, 'updates': 0, 'extra': 0, 'adjustment': 0, 'accounts': 0, 'lowest': 0, 'gold': 0, 'purposes': 0, 'remaining': 0, 'talking': 0, 'entry': 0, 'road': 0, 'load': 0, 'simply': 0, 'europe': 0, 'lindley': 0, 'understood': 1, 'logos': 0, 'hi': 0, 'speed': 0, 'profit': 0, 'notified': 0, 'jackson': 0, 'z': 0, 'vols': 0, 'serve': 0, 'additionally': 0, 'shipped': 0, 'connor': 0, 'fontfont': 0, 'q': 0, 'kept': 0, 'dollar': 0, 'jr': 0, 'almost': 0, 'fri': 0, 'paul': 0, 'documents': 0, 'analyst': 0, 'crude': 0, 'cap': 0, 'shopping': 0, 'aug': 0, 'clearance': 0, 'schneider': 0, 'ftworth': 0, 'father': 0, 'anticipated': 0, 'resellers': 0, 'congress': 0, 'counterparties': 0, 'epgt': 0, 'buying': 0, 'san': 0, 'invest': 0, 'cartwheel': 0, 'brandywine': 0, 'wrong': 0, 'mtbe': 0, 'split': 0, 'submitted': 0, 'hull': 0, 'gra': 0, 'children': 0, 'leader': 0, 'true': 0, 'baseload': 0, 'mb': 0, 'letters': 0, 'billion': 0, 'rights': 0, 'mtr': 0, 'heidi': 0, 'clean': 0, 'historical': 0, 'asset': 0, 'foreign': 0, 'gr': 0, 'entity': 0, 'developed': 0, 'maybe': 0, 'jeffrey': 0, 'transmission': 0, 'outside': 0, 'lost': 0, 'membership': 0, 'invitation': 0, 'ocean': 0, 'legislation': 0, 'hernandez': 0, 'pep': 0, 'payments': 0, 'wallis': 0, 'rev': 0, 'kenneth': 0, 'seaman': 0, 'annual': 0, 'guess': 0, 'bammel': 0, 'lines': 0, 'guadalupe': 0, 'zivley': 0, 'exception': 0, 'example': 1, 'pathing': 0, 'revisions': 0, 'pipelines': 0, 'equity': 0, 'budget': 0, 'wed': 0, 'dealers': 0, 'window': 0, 'juno': 0, 'claims': 0, 'bottom': 0, 'standard': 0, 'alternative': 0, 'merchant': 0, 'braband': 0, 'topica': 0, 'telephone': 0, 'reliant': 0, 'speculative': 0, 'yes': 0, 'en': 0, 'morgan': 0, 'cable': 0, 'edmondson': 0, 'participate': 0, 'usb': 0, 'throughout': 0, 'checked': 0, 'myself': 0, 'contents': 0, 'fat': 0, 'investments': 0, 'six': 0, 'build': 0, 'giving': 0, 'calendar': 0, 'inherent': 0, 'edition': 0, 'darial': 0, 'hr': 0, 'trip': 0, 'pull': 0, 'moving': 0, 'concern': 0, 'proposed': 0, 'rm': 0, 'deer': 0, 'enquiries': 0, 'alt': 0, 'tammy': 0, 'front': 0, 'reduction': 0, 'evening': 0, 'concerning': 0, 'gets': 0, 'effect': 0, 'isn': 0, 'haven': 0, 'cowboy': 0, 'sea': 0, 'dvd': 0, 'launch': 0, 'minimum': 0, 'changing': 0, 'built': 0, 'avoid': 0, 'chief': 0, 'stephen': 0, 'chad': 0, 'manual': 0, 'finally': 0, 'strategy': 0, 'executive': 0, 'thousands': 1, 'conflict': 0, 'resulting': 0, 'policy': 0, 'commission': 0, 'stand': 0, 'positive': 0, 'quantity': 0, 'programs': 0, 'airmail': 0, 'texoma': 0, 'prepared': 0, 'austin': 0, 'matt': 0, 'intent': 0, 'uae': 0, 'citibank': 0, 'jaquet': 0, 'hol': 0, 'harris': 0, 'min': 0, 'hplr': 0, 'advance': 0, 'weather': 0, 'terminated': 0, 'whom': 0, 'sheet': 0, 'venturatos': 0, 'cellpadding': 0, 'hotel': 0, 'leading': 0, 'guaranteed': 0, 'idea': 0, 'announce': 0, 'pleased': 0, 'award': 0, 'operational': 0, 'prepare': 0, 'schedulers': 0, 'child': 0, 'sum': 0, 'quote': 0, 'adjusted': 0, 'warning': 0, 'issued': 0, 'ga': 0, 'cross': 0, 'detail': 0, 'pertaining': 0, 'tess': 0, 'owe': 0, 'crow': 0, 'availabilities': 0, 'griffin': 0, 'christy': 0, 'crosstex': 0, 'eel': 0, 'itoy': 0, 'heart': 0, 'licensed': 0, 'overnight': 0, 'cal': 0, 'otherwise': 0, 'luck': 0, 'stretch': 0, 'generation': 0, 'broker': 0, 'construed': 0, 'except': 0, 'traders': 0, 'carry': 0, 'column': 0, 'approx': 0, 'main': 0, 'alert': 0, 'charges': 0, 'step': 0, 'revenues': 0, 'games': 0, 'gottlob': 0, 'looked': 0, 'individuals': 2, 'beck': 0, 'stuff': 0, 'welcome': 0, 'port': 0, 'glover': 0, 'description': 0, 'daniel': 0, 'quantities': 0, 'park': 0, 'managing': 0, 'town': 0, 'seller': 0, 'summer': 0, 'tina': 0, 'dates': 0, 'eff': 0, 'dudley': 0, 'ferc': 0, 'robin': 0, 'charles': 0, 'customerservice': 0, 'zonedubai': 0, 'emirates': 0, 'aeor': 0, 'clickathome': 0, 'materia': 0, 'island': 0, 'vaughn': 0, 'sexual': 0, 'eiben': 0, 'forms': 0, 'delete': 0, 'realize': 0, 'tailgate': 0, 'behind': 0, 'villarreal': 0, 'lon': 0, 'benoit': 0, 'simple': 0, 'tech': 0, 'ahead': 0, 'double': 0, 'ordering': 0, 'se': 0, 'miss': 0, 'law': 0, 'eb': 0, 'post': 0, 'outlook': 0, 'equipment': 0, 'leslie': 0, 'reeves': 0, 'org': 0, 'tools': 1, 'cold': 0, 'adjustments': 0, 'contained': 0, 'saw': 0, 'edit': 0, 'deciding': 0, 'finance': 0, 'patti': 0, 'listbot': 0, 'river': 0, 'kathryn': 0, 'holiday': 0, 'successful': 0, 'unable': 0, 'advisor': 0, 'pool': 0, 'bryce': 0, 'outages': 0, 'adjust': 0, 'screen': 0, 'otc': 0, 'brent': 0, 'helps': 0, 'auto': 0, 'foot': 0, 'region': 0, 'links': 0, 'contain': 0, 'knowledge': 4, 'yvette': 0, 'dial': 0, 'pressure': 0, 'detailed': 0, 'indicated': 0, 'charged': 0, 'sites': 0, 'makes': 0, 'female': 0, 'mcmills': 0, 'cook': 0, 'mazowita': 0, 'meredith': 0, 'allocations': 0, 'meetings': 0, 'particular': 0, 'environment': 0, 'drug': 0, 'search': 0, 'mailings': 0, 'designed': 0, 'rock': 0, 'measurement': 0, 'art': 0, 'corrected': 0, 'kids': 0, 'benefits': 0, 'tv': 0, 'seems': 0, 'husband': 0, 'fix': 0, 'grow': 0, 'decision': 0, 'wireless': 0, 'mo': 0, 'conference': 0, 'interview': 0, 'levels': 0, 'copies': 0, 'cindy': 0, 'urgent': 0, 'regular': 0, 'payroll': 0, 'shown': 0, 'consumers': 0, 'reliable': 0, 'tr': 0, 'indicating': 0, 'coast': 0, 'greif': 0, 'severson': 0, 'tri': 0, 'vicodin': 0, 'liquids': 0, 'significant': 0, 'intend': 0, 'usd': 0, 'pager': 0, 'avails': 0, 'spencer': 0, 'ce': 0, 'charset': 0, 'verdana': 0, 'fully': 0, 'flynn': 0, 'da': 0, 'personnel': 0, 'multi': 0, 'closed': 0, 'vice': 0, 'administration': 0, 'gmt': 0, 'midstream': 0, 'eye': 0, 'speckels': 0, 'studio': 0, 'cilco': 0, 'likely': 0, 'managers': 0, 'structure': 0, 'sit': 0, 'parent': 0, 'preparation': 0, 'mix': 0, 'mmbtus': 0, 'timing': 0, 'happening': 0, 'lottery': 0, 'killing': 0, 'acquire': 1, 'mack': 0, 'pcx': 0, 'fares': 0, 'internationa': 0, 'notification': 0, 'swift': 0, 'identify': 0, 'areas': 0, 'separate': 1, 'unless': 0, 'producers': 0, 'allows': 2, 'pretty': 0, 'waste': 0, 'joanie': 0, 'drop': 0, 'taxes': 0, 'premium': 0, 'teams': 0, 'choice': 0, 'largest': 0, 'addressed': 0, 'dolphin': 0, 'ngo': 0, 'self': 0, 'davis': 0, 'htm': 0, 'ad': 0, 'graphics': 0, 'hit': 0, 'competitive': 0, 'thus': 0, 'incorrect': 0, 'ti': 0, 'acts': 0, 'previous': 0, 'edu': 0, 'proven': 0, 'electric': 0, 'pictures': 0, 'charlene': 0, 'benedict': 0, 'chevron': 0, 'treatment': 0, 'lesson': 0, 'player': 0, 'sds': 0, 'wc': 0, 'intraday': 0, 'assurance': 0, 'sdsnom': 0, 'rebecca': 0, 'quit': 0, 'netco': 0, 'intra': 0, 'whatever': 0, 'lyondell': 0, 'reviewed': 0, 'solicitation': 0, 'filings': 0, 'log': 0, 'noon': 0, 'locations': 0, 'joe': 0, 'completely': 0, 'rivers': 0, 'language': 7, 'street': 0, 'automatically': 0, 'ft': 0, 'powerful': 0, 'specials': 0, 'alone': 0, 'fyi': 0, 'properly': 0, 'proper': 0, 'explode': 0, 'decrease': 0, 'medication': 0, 'desks': 0, 'impacted': 0, 'anywhere': 0, 'completion': 0, 'banking': 0, 'consider': 1, 'certificate': 0, 'exercise': 0, 'zeroed': 0, 'websites': 0, 'tonight': 0, 'diligence': 0, 'education': 0, 'club': 0, 'vegas': 0, 'affordable': 0, 'sports': 0, 'predictions': 0, 'billing': 0, 'diamond': 0, 'posted': 0, 'prayer': 0, 'actions': 0, 'nomad': 0, 'resuits': 0, 'jason': 0, 'purpose': 0, 'deposit': 0, 'entertainment': 0, 'materially': 0, 'blank': 0, 'resolution': 0, 'anderson': 0, 'nat': 0, 'rom': 0, 'soma': 0, 'organization': 0, 'aquila': 0, 'solid': 0, 'affected': 0, 'transco': 0, 'spend': 0, 'responsibilities': 0, 'assume': 0, 'header': 0, 'accountant': 0, 'functionality': 0, 'meant': 0, 'killed': 0, 'analysts': 0, 'rick': 0, 'rolled': 0, 'noted': 0, 'discovered': 0, 'offices': 0, 'torch': 0, 'often': 1, 'york': 0, 'joint': 0, 'briley': 0, 'competition': 0, 'guide': 0, 'intercompany': 0, 'son': 0, 'settlement': 0, 'presently': 0, 'cart': 0, 'tim': 0, 'entries': 0, 'russ': 0, 'valadez': 0, 'rules': 0, 'molly': 0, 'apple': 0, 'atleast': 0, 'scheduler': 0, 'pi': 0, 'hector': 0, 'dell': 0, 'opm': 0, 'hottlist': 0, 'yap': 0, 'gone': 0, 'heal': 0, 'llc': 0, 'setting': 0, 'reached': 0, 'proposal': 0, 'hundred': 0, 'trust': 0, 'official': 0, 'table': 0, 'mcgee': 0, 'written': 0, 'operation': 0, 'cellspacing': 0, 'laptop': 0, 'feature': 0, 'ram': 0, 'victoria': 0, 'larry': 0, 'units': 0, 'requests': 0, 'continued': 0, 'external': 0, 'pack': 0, 'couldn': 0, 'lateral': 0, 'strictly': 0, 'resource': 0, 'although': 0, 'sr': 0, 'commodity': 0, 'pulled': 0, 'protocol': 0, 'bed': 0, 'generated': 0, 'redmond': 0, 'girl': 0, 'apparently': 0, 'tool': 1, 'reviews': 0, 'released': 0, 'movies': 0, 'inside': 0, 'shareholder': 0, 'rr': 0, 'compensation': 0, 'beliefs': 1, 'foresee': 0, 'lease': 0, 'rule': 0, 'marta': 0, 'chemical': 0, 'hillary': 0, 'hp': 0, 'tongue': 0, 'adonis': 0, 'advises': 0, 'master': 0, 'eight': 0, 'wasn': 0, 'itself': 0, 'documentation': 0, 'xl': 0, 'humble': 0, 'elsa': 0, 'pics': 0, 'hughes': 0, 'brokered': 0, 'distribute': 0, 'consultation': 0, 'sheri': 0, 'lists': 0, 'cannon': 0, 'treated': 0, 'factor': 0, 'putting': 0, 'verified': 0, 'releases': 0, 'enhanced': 0, 'controls': 0, 'craig': 0, 'worksheet': 0, 'conversion': 0, 'max': 0, 'hrs': 0, 'helpful': 0, 'hand': 0, 'producing': 0, 'dl': 0, 'developing': 0, 'design': 0, 'woman': 0, 'understands': 0, 'standards': 0, 'promotion': 0, 'sarco': 0, 'hospital': 0, 'ffffff': 0, 'respective': 0, 'richmond': 0, 'conoco': 0, 'driver': 0, 'easily': 0, 'sean': 0, 'den': 0, 'gateway': 0, 'holdings': 0, 'brad': 0, 'college': 0, 'gains': 0, 'adult': 0, 'dated': 0, 'em': 0, 'mcloughlin': 0, 'anticipates': 0, 'henderson': 0, 'julia': 0, 'negotiations': 0, 'sofftwaares': 0, 'garrick': 0, 'comstock': 0, 'trochta': 0, 'imceanotes': 0, 'ecom': 0, 'larger': 0, 'nommensen': 0, 'coordinate': 0, 'partnership': 0, 'otcbb': 0, 'announces': 0, 'louis': 0, 'dealer': 0, 'reliance': 0, 'season': 0, 'agua': 0, 'dulce': 0, 'offshore': 0, 'gathered': 0, 'forever': 0, 'function': 0, 'happened': 0, 'sample': 0, 'easier': 0, 'aim': 0, 'pa': 0, 'expensive': 0, 'thinks': 0, 'maximum': 0, 'war': 0, 'mining': 0, 'drilling': 0, 'owned': 0, 'todd': 0, 'advanced': 0, 'provider': 0, 'pending': 0, 'providers': 0, 'silver': 0, 'cherry': 0, 'hundreds': 0, 'thoughts': 0, 'addresses': 0, 'beach': 0, 'baby': 0, 'requires': 0, 'caused': 0, 'variance': 0, 'extension': 0, 'carbide': 0, 'anytime': 0, 'adding': 0, 'triple': 0, 'dawn': 0, 'martinez': 0, 'entering': 0, 'login': 0, 'bretz': 0, 'ls': 0, 'writeoff': 0, 'locker': 0, 'wiil': 0, 'block': 0, 'blood': 0, 'romeo': 0, 'responsibility': 0, 'brennan': 0, 'btu': 0, 'venture': 0, 'connected': 0, 'nascar': 0, 'opinions': 0, 'executed': 0, 'cell': 0, 'flag': 0, 'doctors': 0, 'invoiced': 0, 'marlin': 0, 'coffey': 0, 'nice': 0, 'amazing': 0, 'ii': 0, 'determined': 0, 'handled': 0, 'keeping': 0, 'touch': 0, 'upgrade': 0, 'shipment': 0, 'brought': 0, 'forwarding': 0, 'confidence': 0, 'hesitate': 0, 'seem': 0, 'electronic': 0, 'appreciated': 0, 'deadline': 0, 'franklin': 0, 'heather': 0, 'reasons': 0, 'passed': 0, 'safety': 0, 'procedures': 0, 'payback': 0, 'networks': 0, 'utility': 0, 'count': 0, 'africa': 0, 'exact': 0, 'creating': 0, 'loading': 0, 'processed': 0, 'court': 0, 'tier': 0, 'sender': 0, 'att': 0, 'mailbox': 0, 'glad': 0, 'buddy': 0, 'profiles': 0, 'portion': 0, 'protection': 0, 'compressor': 0, 'okay': 0, 'oba': 0, 'finding': 0, 'heads': 0, 'bar': 0, 'turned': 0, 'remote': 0, 'illustrator': 0, 'oem': 0, 'noticed': 0, 'mails': 0, 'darron': 0, 'nick': 0, 'urbanek': 0, 'jerry': 0, 'barrett': 0, 'ehronline': 0, 'und': 0, 'abdv': 0, 'egm': 0, 'couid': 0, 'technoiogies': 0, 'owns': 0, 'improved': 0, 'eat': 0, 'moment': 0, 'owners': 0, 'develop': 1, 'installed': 0, 'videos': 0, 'frank': 0, 'hearing': 0, 'inches': 0, 'busy': 0, 'ref': 0, 'valuable': 0, 'et': 0, 'un': 0, 'url': 0, 'shawna': 0, 'iso': 0, 'capture': 1, 'extremely': 1, 'ya': 0, 'causing': 0, 'consent': 0, 'anyway': 0, 'round': 0, 'discrepancies': 0, 'cheapest': 0, 'confidentiality': 0, 'disclosure': 0, 'prohibited': 0, 'vol': 0, 'correction': 0, 'communicate': 0, 'processes': 0, 'spain': 0, 'shareholders': 0, 'supported': 0, 'smoking': 0, 'mine': 0, 'biggest': 0, 'erections': 0, 'platform': 0, 'miles': 0, 'exciting': 0, 'association': 0, 'die': 0, 'restricted': 0, 'ma': 0, 'income': 0, 'goal': 0, 'bane': 0, 'collection': 0, 'nathan': 0, 'wind': 0, 'piece': 0, 'familiar': 0, 'gore': 0, 'experiencing': 0, 'pico': 0, 'mai': 0, 'dewpoint': 0, 'tessie': 0, 'hair': 0, 'bussell': 0, 'diane': 0, 'delivering': 0, 'originally': 0, 'accurate': 0, 'began': 0, 'seven': 0, 'tracking': 0, 'randall': 0, 'gay': 0, 'emerging': 0, 'prescriptions': 0, 'story': 0, 'arial': 0, 'florida': 0, 'space': 0, 'ownership': 0, 'european': 0, 'sutton': 0, 'concerned': 0, 'male': 0, 'spent': 0, 'agreements': 0, 'industries': 0, 'picture': 0, 'filled': 0, 'continues': 0, 'death': 0, 'choate': 0, 'majeure': 0, 'device': 0, 'hence': 0, 'ten': 0, 'campaign': 0, 'massive': 0, 'eyes': 0, 'requesting': 0, 'lives': 0, 'reminder': 0, 'eliminate': 0, 'copied': 0, 'consemiu': 0, 'died': 0, 'sound': 0, 'offered': 0, 'expressed': 0, 'anti': 0, 'duplicate': 0, 'steps': 0, 'books': 0, 'improve': 0, 'implementation': 0, 'gives': 0, 'ac': 0, 'peggy': 0, 'proprietary': 0, 'ways': 1, 'advertisement': 0, 'published': 0, 'earnings': 0, 'mortgage': 0, 'consumer': 0, 'ct': 0, 'tape': 0, 'fl': 0, 'cia': 0, 'organizational': 0, 'agenda': 0, 'rental': 0, 'carriere': 0, 'moshou': 0, 'church': 0, 'trouble': 0, 'medium': 0, 'aggressive': 0, 'smart': 0, 'zajac': 0, 'ail': 0, 'participants': 0, 'gap': 0, 'earthlink': 0, 'wire': 0, 'trades': 0, 'messaging': 0, 'ut': 0, 'wil': 0, 'richardson': 0, 'blvd': 0, 'glo': 0, 'seneca': 0, 'pubiisher': 0, 'imited': 0, 'isc': 0, 'contacts': 0, 'sleep': 0, 'kyle': 0, 'cooperation': 0, 'possibly': 0, 'leaving': 0, 'motor': 0, 'hopefully': 0, 'tie': 0, 'speak': 1, 'mi': 0, 'suggested': 0, 'canadian': 0, 'uses': 0, 'connect': 0, 'pvr': 0, 'rich': 0, 'places': 0, 'auction': 0, 'po': 0, 'spacer': 0, 'client': 0, 'recommended': 0, 'royalty': 0, 'amended': 0, 'default': 0, 'living': 0, 'regardless': 0, 'human': 0, 'bringing': 0, 'focused': 0, 'stores': 0, 'variety': 0, 'netherlands': 0, 'leaders': 0, 'bowen': 0, 'salary': 0, 'signed': 0, 'penny': 0, 'loan': 0, 'desktop': 0, 'chase': 0, 'pleasure': 0, 'compare': 0, 'session': 0, 'overall': 0, 'stranger': 0, 'length': 0, 'planned': 0, 'sp': 0, 'darrel': 0, 'raise': 0, 'palestinian': 0, 'expiration': 0, 'serial': 0, 'premiere': 0, 'suzanne': 0, 'reduced': 0, 'players': 0, 'applicable': 0, 'impotence': 0, 'buckley': 0, 'wayne': 0, 'hansen': 0, 'indicative': 0, 'sabrae': 0, 'dating': 0, 'winners': 0, 'marshall': 0, 'highest': 0, 'ea': 0, 'presentation': 0, 'allowed': 0, 'square': 0, 'danny': 0, 'gepl': 0, 'hydrocarbon': 0, 'alpine': 0, 'christmas': 0, 'muscle': 0, 'souza': 0, 'relating': 0, 'begins': 0, 'ecf': 0, 'forth': 0, 'answers': 0, 'audit': 0, 'approve': 0, 'lunch': 0, 'types': 0, 'starts': 0, 'difficult': 0, 'le': 0, 'lasts': 0, 'series': 0, 'till': 0, 'edge': 0, 'growing': 0, 'covered': 0, 'shipper': 0, 'sometime': 0, 'republic': 0, 'filter': 0, 'sooner': 0, 'increasing': 0, 'nelson': 0, 'percentage': 0, 'returned': 0, 'pop': 0, 'interface': 0, 'kin': 0, 'experienced': 0, 'prime': 0, 'merger': 0, 'obtain': 0, 'ryan': 0, 'servers': 0, 'attachments': 0, 'achieve': 0, 'effects': 0, 'gov': 0, 'examples': 0, 'procedure': 0, 'explore': 1, 'caribbean': 0, 'rally': 0, 'amounts': 0, 'comfort': 0, 'attempt': 0, 'greatly': 0, 'amelia': 0, 'engel': 0, 'delay': 0, 'fare': 0, 'der': 0, 'cove': 0, 'filing': 0, 'fletcher': 0, 'leth': 0, 'undervalued': 0, 'cents': 0, 'esther': 0, 'hlavaty': 0, 'reid': 0, 'lls': 0, 'troy': 0, 'palmer': 0, 'metals': 0, 'las': 0, 'carter': 0, 'luis': 0, 'migration': 0, 'brief': 0, 'hess': 0, 'therein': 0, 'ur': 0, 'pond': 0, 'joanne': 0, 'community': 0, 'tglo': 0, 'eogi': 0, 'ml': 0, 'wysak': 0, 'felipe': 0, 'errors': 0, 'affect': 0, 'convenient': 0, 'minimal': 0, 'boost': 0, 'incremental': 0, 'decide': 0, 'reserve': 0, 'superior': 0, 'kerr': 0, 'willing': 0, 'quite': 0, 'wild': 0, 'unlimited': 0, 'sans': 0, 'mother': 0, 'computers': 0, 'unfortunately': 0, 'ordered': 0, 'satisfaction': 0, 'priority': 0, 'traded': 0, 'testing': 0, 'portal': 0, 'ward': 0, 'lets': 0, 'aren': 0, 'knows': 0, 'refer': 0, 'shot': 0, 'fda': 0, 'tue': 0, 'saying': 0, 'cancel': 0, 'forecast': 0, 'cousino': 0, 'bass': 0, 'permanent': 0, 'phones': 0, 'technical': 0, 'whose': 0, 'objective': 0, 'cards': 0, 'distributed': 1, 'learning': 2, 'fire': 0, 'drill': 0, 'towards': 0, 'forget': 0, 'explosion': 0, 'gloria': 0, 'formula': 0, 'redelivery': 0, 'audio': 0, 'visual': 0, 'encoding': 0, 'approach': 0, 'doubt': 0, 'staffing': 0, 'excite': 0, 'corel': 0, 'tm': 0, 'enronavailso': 0, 'contacting': 0, 'alland': 0, 'heavy': 0, 'economic': 0, 'nigeria': 0, 'milwaukee': 0, 'phillip': 0, 'curve': 0, 'returns': 0, 'padre': 0, 'kathy': 0, 'buttons': 0, 'sir': 0, 'vary': 0, 'sounds': 0, 'disclose': 0, 'authority': 0, 'flw': 0, 'straight': 0, 'worldnet': 0, 'beemer': 0, 'ooo': 0, 'defs': 0, 'thorough': 0, 'officers': 0, 'flight': 0, 'prefer': 0, 'awesome': 0, 'macintosh': 0, 'feet': 0, 'constitutes': 0, 'formosa': 0, 'porn': 0, 'armstrong': 0, 'driscoll': 0, 'watches': 0, 'newsietter': 0, 'twenty': 0, 'tommy': 0, 'fields': 0, 'method': 0, 'setup': 0, 'allocating': 0, 'initially': 0, 'missed': 0, 'clarification': 0, 'especially': 0, 'dorcheus': 0, 'del': 0, 'millions': 0, 'insurance': 0, 'pooling': 0, 'trial': 0, 'tennessee': 0, 'ellis': 0, 'direction': 0, 'bold': 0, 'catch': 0, 'performing': 0, 'accepted': 0, 'matters': 0, 'batch': 0, 'continuing': 0, 'winning': 0, 'symbol': 0, 'offsystem': 0, 'decisions': 0, 'produced': 0, 'ended': 0, 'greatest': 0, 'degree': 0, 'solmonson': 0, 'imbalances': 0, 'fall': 0, 'fear': 0, 'hate': 0, 'fight': 0, 'reallocated': 0, 'debt': 0, 'reform': 0, 'australia': 0, 'plain': 0, 'prompt': 0, 'remains': 0, 'ifhsc': 0, 'enhancements': 0, 'connevey': 0, 'jay': 0, 'valued': 0, 'lay': 0, 'infrastructure': 0, 'military': 0, 'allowing': 0, 'ff': 0, 'dry': 0, 'Prediction': 0}\n"
     ]
    }
   ],
   "source": [
    "lst = body.split(' ')\n",
    "for wrd in lst:\n",
    "    if wrd in count.keys():\n",
    "        count[wrd] = count[wrd] + 1\n",
    "print(count)"
   ]
  },
  {
   "cell_type": "code",
   "execution_count": 21,
   "id": "d14c1e1c",
   "metadata": {},
   "outputs": [],
   "source": [
    "col_head = list(count.keys())\n",
    "col_val = list(count.values())"
   ]
  },
  {
   "cell_type": "code",
   "execution_count": 30,
   "id": "a3fe0e0c",
   "metadata": {},
   "outputs": [
    {
     "name": "stdout",
     "output_type": "stream",
     "text": [
      "['Email No.', 'the', 'to', 'ect', 'and', 'for', 'of', 'a', 'you', 'hou', 'in', 'on', 'is', 'this', 'enron', 'i', 'be', 'that', 'will', 'have', 'with', 'your', 'at', 'we', 's', 'are', 'it', 'by', 'com', 'as', 'from', 'gas', 'or', 'not', 'me', 'deal', 'if', 'meter', 'hpl', 'please', 're', 'e', 'any', 'our', 'corp', 'can', 'd', 'all', 'has', 'was', 'know', 'need', 'an', 'forwarded', 'new', 't', 'may', 'up', 'j', 'mmbtu', 'should', 'do', 'am', 'get', 'out', 'see', 'no', 'there', 'price', 'daren', 'but', 'been', 'company', 'l', 'these', 'let', 'so', 'would', 'm', 'into', 'xls', 'farmer', 'attached', 'us', 'information', 'they', 'message', 'day', 'time', 'my', 'one', 'what', 'only', 'http', 'th', 'volume', 'mail', 'contract', 'which', 'month', 'more', 'robert', 'sitara', 'about', 'texas', 'nom', 'energy', 'pec', 'questions', 'www', 'deals', 'volumes', 'pm', 'ena', 'now', 'their', 'file', 'some', 'email', 'just', 'also', 'call', 'change', 'other', 'here', 'like', 'b', 'flow', 'net', 'following', 'p', 'production', 'when', 'over', 'back', 'want', 'original', 'them', 'below', 'o', 'ticket', 'c', 'he', 'could', 'make', 'inc', 'report', 'march', 'contact', 'were', 'days', 'list', 'nomination', 'system', 'who', 'april', 'number', 'sale', 'don', 'its', 'first', 'thanks', 'business', 'help', 'per', 'through', 'july', 'forward', 'font', 'free', 'daily', 'use', 'order', 'today', 'r', 'had', 'fw', 'set', 'plant', 'statements', 'go', 'gary', 'oil', 'line', 'sales', 'w', 'effective', 'well', 'tenaska', 'take', 'june', 'x', 'within', 'nbsp', 'she', 'how', 'north', 'america', 'being', 'under', 'next', 'week', 'than', 'january', 'last', 'two', 'service', 'purchase', 'name', 'less', 'height', 'off', 'agreement', 'k', 'work', 'tap', 'group', 'year', 'based', 'transport', 'after', 'think', 'made', 'each', 'available', 'changes', 'due', 'f', 'h', 'services', 'smith', 'send', 'management', 'stock', 'sent', 'll', 'co', 'office', 'needs', 'cotten', 'did', 'actuals', 'u', 'money', 'before', 'looking', 'then', 'pills', 'online', 'request', 'look', 'desk', 'ami', 'his', 'same', 'george', 'chokshi', 'point', 'delivery', 'friday', 'does', 'size', 'august', 'product', 'pat', 'width', 'iv', 'noms', 'address', 'above', 'sure', 'give', 'october', 'future', 'find', 'market', 'n', 'mary', 'vance', 'melissa', 'said', 'internet', 'still', 'account', 'those', 'down', 'link', 'hsc', 'rate', 'people', 'pipeline', 'best', 'actual', 'very', 'end', 'home', 'houston', 'tu', 'high', 'her', 'team', 'products', 'many', 'currently', 'spot', 'receive', 'good', 'such', 'going', 'process', 'feb', 'monday', 'info', 'david', 'lloyd', 'again', 'both', 'click', 'subject', 'jackie', 'december', 'total', 'na', 'lisa', 've', 'september', 'hours', 'until', 'resources', 'because', 'aol', 'february', 'where', 'g', 'investment', 'issue', 'duke', 'since', 'pay', 'show', 'way', 'global', 'computron', 'further', 'most', 'place', 'offer', 'natural', 'activity', 'eastrans', 'graves', 'right', 'prices', 'date', 'john', 'utilities', 'november', 'clynes', 'jan', 'securities', 'meeting', 'susan', 'hplc', 'julie', 'able', 'received', 'align', 'term', 'id', 'revised', 'thursday', 'pg', 'fee', 'hplno', 'trading', 'additional', 'site', 'txu', 'data', 'wellhead', 'reply', 'taylor', 'news', 'unify', 'michael', 'provide', 'note', 'much', 'access', 'lannou', 'every', 'between', 'keep', 'tuesday', 'review', 'great', 'tom', 'put', 'done', 'long', 'save', 'section', 'must', 'v', 'part', 'nd', 'million', 'check', 'trade', 'bob', 'created', 'steve', 'prior', 'copy', 'continue', 'numbers', 'via', 'world', 'demand', 'hanks', 'contracts', 'phone', 'transaction', 'customer', 'possible', 'pefs', 'meyers', 'months', 'special', 'without', 'used', 'regarding', 'software', 'howard', 'support', 'buy', 'young', 'meters', 'thru', 'believe', 'gcs', 'cec', 'entered', 'control', 'dec', 'face', 'create', 'weissman', 'st', 'color', 'come', 'supply', 'brian', 'hplo', 'own', 'correct', 'customers', 'web', 'allocation', 'soon', 'using', 'development', 'mark', 'low', 'power', 'problem', 'once', 'however', 'tickets', 'border', 'performance', 'manager', 'rates', 'center', 'companies', 'risk', 'details', 'needed', 'international', 'field', 'even', 'someone', 'doc', 'fuel', 'lee', 'paid', 'while', 'start', 'index', 'include', 'nominations', 'act', 'pricing', 'scheduled', 'gathering', 'type', 'href', 'during', 'aimee', 'anything', 'feel', 'fuels', 'getting', 'advice', 'why', 'increase', 'path', 'sell', 'works', 'issues', 'three', 'enronxgate', 'camp', 'either', 'form', 'security', 'interest', 'financial', 'family', 'xp', 'plan', 'current', 'top', 'another', 'src', 'spreadsheet', 'allen', 'wednesday', 'read', 'him', 'working', 'wynne', 'add', 'deliveries', 'buyback', 'allocated', 'firm', 'james', 'marketing', 'tx', 'results', 'got', 'stocks', 'calpine', 'might', 'operations', 'position', 'logistics', 'fax', 'cost', 'party', 'zero', 'pops', 'old', 'pt', 'scheduling', 'flowed', 'dollars', 'update', 'gco', 'katy', 'including', 'follow', 'yahoo', 'already', 'suite', 'error', 'past', 'page', 'stop', 'changed', 'book', 'program', 'few', 'better', 'operating', 'equistar', 'move', 'cotton', 'aep', 'y', 'state', 'ees', 'rita', 'provided', 'employees', 'period', 'morning', 'cd', 'hotmail', 'entex', 'swing', 'real', 'exchange', 'tomorrow', 'lst', 'counterparty', 'parker', 'person', 'follows', 'valid', 'visit', 'little', 'professional', 'quality', 'confirm', 'something', 'megan', 'brenda', 'around', 'windows', 'im', 'storage', 'accounting', 'called', 'ranch', 'tax', 'problems', 'case', 'teco', 'fact', 'always', 'too', 'unsubscribe', 'amount', 'coastal', 'never', 'rodriguez', 'love', 'acton', 'shut', 'pipe', 'project', 'hope', 'limited', 'invoice', 'credit', 'full', 'survey', 'ray', 'carlos', 'anyone', 'wanted', 'yet', 'ic', 'scott', 'years', 'charlie', 'soft', 'notice', 'advise', 'addition', 'donald', 'lsk', 'wish', 'katherine', 'website', 'hplnl', 'schumack', 'prescription', 'cover', 'shares', 'cash', 'imbalance', 'united', 'handle', 'big', 'everyone', 'style', 'clear', 'producer', 'weekend', 'city', 'requested', 'stone', 'left', 'payment', 'mobil', 'shows', 'small', 'confirmed', 'technology', 'meet', 'extend', 'life', 'intended', 'sherlyn', 'schedule', 'else', 'letter', 'box', 'bill', 'richard', 'lamphier', 'complete', 'ever', 'release', 'newsletter', 'anita', 'clem', 'having', 'herod', 'beginning', 'papayoti', 'try', 'mike', 'enter', 'estimates', 'location', 'cut', 'question', 'things', 'personal', 'feedback', 'cialis', 'found', 'area', 'dow', 'terms', 'central', 'necessary', 'man', 'run', 'reason', 'third', 'midcon', 'charge', 'president', 'de', 'listed', 'meds', 'thomas', 'thought', 'capital', 'added', 'ask', 'weeks', 'investing', 'commercial', 'star', 'several', 'easy', 'view', 'cannot', 'extended', 'lauri', 'beaumont', 'union', 'times', 'open', 'cause', 'monthly', 'action', 'offers', 'industry', 'states', 'side', 'mailto', 'probably', 'neal', 'second', 'stephanie', 'download', 'flash', 'agree', 'mcf', 'transfer', 'doing', 'important', 'basis', 'different', 'final', 'koch', 'exxon', 'remove', 'microsoft', 'interested', 'application', 'sept', 'mg', 'write', 'lp', 'east', 'requirements', 'code', 'value', 'thank', 'together', 'exploration', 'mid', 'dfarmer', 'everything', 'receipt', 'thu', 'afternoon', 'late', 'enserch', 'coming', 'bank', 'response', 'tell', 'shipping', 'night', 'events', 'cynthia', 'lsp', 'close', 'legal', 'country', 'direct', 'expected', 'ces', 'corporation', 'options', 'really', 'voip', 'nominated', 'etc', 'latest', 'potential', 'priced', 'edward', 'valero', 'material', 'stack', 'victor', 'redeliveries', 'loss', 'remember', 'baumbach', 'option', 'private', 'longer', 'aware', 'included', 'drugs', 'public', 'reinhardt', 'version', 'hesse', 'discuss', 'related', 'asked', 'say', 'viagra', 'revision', 'bgcolor', 'kind', 'pro', 'completed', 'health', 'ready', 'plans', 'registered', 'regards', 'carthage', 'zone', 'fill', 'away', 'computer', 'systems', 'industrial', 'mentioned', 'told', 'therefore', 'growth', 'sold', 'track', 'reports', 'south', 'rd', 'jim', 'costs', 'image', 'expect', 'return', 'physical', 'el', 'browser', 'donna', 'stacey', 'begin', 'china', 'duty', 'approximately', 'showing', 'unit', 'jones', 'hard', 'verify', 'updated', 'eol', 'cs', 'orders', 'talk', 'trying', 'base', 'given', 'server', 'source', 'pathed', 'strong', 'bryan', 'directly', 'risks', 'whole', 'major', 'users', 'purchases', 'oo', 'karen', 'luong', 'level', 'required', 'delivered', 'portfolio', 'riley', 'ali', 'easttexas', 'poorman', 'bellamy', 'assistance', 'nothing', 'gif', 'thing', 'retail', 'didn', 'valley', 'department', 'cleburne', 'allow', 'gpgfin', 'answer', 'items', 'paste', 'avila', 'taken', 'mm', 'nguyen', 'ensure', 'reference', 'hall', 'later', 'lone', 'user', 'methanol', 'facility', 'network', 'spoke', 'though', 'tabs', 'taking', 'status', 'considered', 'purchased', 'says', 'yourself', 'paliourg', 'dy', 'jeff', 'businesses', 'fred', 'transportation', 'apache', 'morris', 'nov', 'ltd', 'brand', 'federal', 'statement', 'oasis', 'reflect', 'assets', 'lamadrid', 'general', 'bridge', 'ability', 'oct', 'play', 'enrononline', 'compliance', 'spam', 'availability', 'king', 'understanding', 'chance', 'quick', 'effort', 'points', 'reliantenergy', 'fixed', 'short', 'hill', 'cheryl', 'aepin', 'key', 'understand', 'valign', 'capacity', 'game', 'took', 'bring', 'guys', 'god', 'green', 'care', 'withers', 'property', 'hub', 'johnson', 'employee', 'wants', 'albrecht', 'meaning', 'expectations', 'mx', 'moved', 'cernosek', 'matter', 'devon', 'calls', 'worldwide', 'records', 'removed', 'lose', 'large', 'referenced', 'walker', 'iferc', 'enw', 'ponton', 'eileen', 'ship', 'upon', 'enerfin', 'jennifer', 'looks', 'staff', 'pc', 'target', 'waha', 'making', 'cp', 'impact', 'partner', 'immediately', 'shall', 'channel', 'takes', 'sat', 'others', 'hear', 'went', 'travel', 'listing', 'approved', 'processing', 'early', 'enough', 'sally', 'starting', 'distribution', 'tejas', 'transactions', 'stay', 'earl', 'superty', 'doesn', 'reserves', 'includes', 'choose', 'adobe', 'publisher', 'paso', 'cornhusker', 'training', 'markets', 'content', 'solution', 'shell', 'jpg', 'print', 'drive', 'pain', 'password', 'half', 'herrera', 'saturday', 'moopid', 'hotlist', 'balance', 'super', 'vacation', 'sex', 'happy', 'excess', 'existing', 'fund', 'stella', 'share', 'sign', 'wells', 'won', 'four', 'text', 'card', 'tisdale', 'fwd', 'appreciate', 'non', 'experience', 'savings', 'settlements', 'draft', 'couple', 'informed', 'biz', 'watch', 'plus', 'sun', 'expense', 'images', 'land', 'occur', 'flowing', 'mar', 'terry', 'darren', 'cheap', 'weight', 'dynegy', 'activities', 'become', 'mr', 'format', 'attention', 'entire', 'photoshop', 'williams', 'instructions', 'neon', 'janet', 'contains', 'ago', 'friends', 'against', 'boas', 'music', 'certain', 'liz', 'svcs', 'record', 'fast', 'dave', 'held', 'mind', 'ua', 'publication', 'differ', 'comments', 'fun', 'rest', 'instant', 'agent', 'communications', 'director', 'partners', 'investors', 'expedia', 'kevin', 'assist', 'safe', 'approval', 'allocate', 'black', 'none', 'intrastate', 'document', 'eric', 'hakemack', 'expired', 'lower', 'active', 'secure', 'cc', 'five', 'determine', 'press', 'colspan', 'missing', 'jill', 'discussion', 'relief', 'respect', 'specific', 'technologies', 'al', 'holmes', 'white', 'yesterday', 'medical', 'pinion', 'sorry', 'men', 'leave', 'pass', 'video', 'gomes', 'doctor', 'projects', 'limit', 'air', 'knle', 'pharmacy', 'confirmation', 'opportunity', 'involve', 'notify', 'gtc', 'class', 'ken', 'started', 'outage', 'confidential', 'room', 'blue', 'estimated', 'officer', 'reach', 'messages', 'database', 'words', 'prc', 'tracked', 'transition', 'light', 'national', 'hot', 'offering', 'gulf', 'provides', 'iit', 'demokritos', 'mckay', 'average', 'wide', 'heard', 'files', 'dan', 'billed', 'mccoy', 'rc', 'exactly', 'middle', 'select', 'bruce', 'louisiana', 'receiving', 'california', 'event', 'roll', 'mops', 'william', 'appear', 'perfect', 'html', 'features', 'join', 'greater', 'sunday', 'pick', 'featured', 'cdnow', 'prize', 'reveffo', 'olsen', 'expects', 'estimate', 'near', 'common', 'package', 'title', 'whether', 'bought', 'evergreen', 'difference', 'elizabeth', 'history', 'monitor', 'advised', 'result', 'sources', 'school', 'unaccounted', 'paragraph', 'turn', 'kimberly', 'increased', 'communication', 'members', 'concerns', 'uncertainties', 'associated', 'reduce', 'committed', 'wi', 'asap', 'goes', 'trader', 'waiting', 'canada', 'worth', 'representative', 'claim', 'ceo', 'london', 'discussions', 'php', 'brazos', 'trevino', 'calling', 'involved', 'la', 'gift', 'southern', 'groups', 'hour', 'tufco', 'previously', 'voice', 'normally', 'resolve', 'efforts', 'nor', 'recent', 'purchasing', 'county', 'ok', 'express', 'generic', 'according', 'respond', 'situation', 'hold', 'lot', 'interconnect', 'word', 'came', 'west', 'role', 'opportunities', 'corporate', 'remain', 'similar', 'readers', 'suggestions', 'subscribers', 'projections', 'lead', 'learn', 'resolved', 'agreed', 'sec', 'head', 'enjoy', 'img', 'rnd', 'responsible', 'outstanding', 'member', 'panenergy', 'american', 'cass', 'register', 'promotions', 'parties', 'winfree', 'selling', 'usage', 'appropriate', 'assignment', 'media', 'believes', 'require', 'submit', 'model', 'spinnaker', 'copano', 'facilities', 'opinion', 'factors', 'identified', 'beverly', 'ews', 'gdp', 'deliver', 'job', 'profile', 'across', 'neuweiler', 'suggest', 'girls', 'manage', 'usa', 'local', 'bad', 'greg', 'vs', 'fees', 'digital', 'cf', 'strangers', 'registration', 'delta', 'rolex', 'goliad', 'hesco', 'success', 'primary', 'quarter', 'course', 'chairman', 'petroleum', 'notes', 'medications', 'ei', 'instead', 'fine', 'lake', 'pre', 'force', 'seek', 'recipient', 'gain', 'placed', 'age', 'least', 'body', 'asking', 'discussed', 'hanson', 'emails', 'nominate', 'ext', 'known', 'ones', 'ed', 'assigned', 'htmlimg', 'means', 'present', 'various', 'invoices', 'gd', 'agency', 'along', 'located', 'reflects', 'solutions', 'ex', 'house', 'cds', 'br', 'owner', 'apr', 'sullivan', 'basin', 'linda', 'worked', 'car', 'seen', 'properties', 'booked', 'higher', 'store', 'est', 'revenue', 'wait', 'women', 'far', 'met', 'wholesale', 'range', 'kcs', 'recorded', 'brown', 'lots', 'match', 'input', 'grant', 'providing', 'huge', 'investor', 'kelly', 'apply', 'paths', 'handling', 'pipes', 'advantage', 'analysis', 'focus', 'draw', 'red', 'origination', 'connection', 'planning', 'wilson', 'golf', 'summary', 'item', 'bankruptcy', 'expenses', 'pgev', 'encina', 'beaty', 'memo', 'initial', 'thousand', 'mills', 'penis', 'friend', 'conversation', 'multiple', 'martin', 'names', 'bit', 'dth', 'talked', 'behalf', 'preliminary', 'button', 'herein', 'gisb', 'coupon', 'sa', 'oi', 'appears', 'door', 'texaco', 'csikos', 'arrangements', 'cpr', 'expires', 'popular', 'sending', 'research', 'conditions', 'gb', 'board', 'ca', 'applications', 'tried', 'paying', 'acquisition', 'reporting', 'normal', 'maintenance', 'resume', 'announced', 'attachment', 'buyer', 'objectives', 'prod', 'represent', 'sandi', 'hplnol', 'government', 'committee', 'running', 'tetco', 'discount', 'jo', 'holding', 'earlier', 'positions', 'happen', 'mailing', 'decided', 'recently', 'chris', 'xanax', 'valium', 'broadband', 'individual', 'station', 'td', 'financing', 'somehow', 'pena', 'critical', 'attend', 'kristen', 'inform', 'highly', 'hl', 'phillips', 'minutes', 'titles', 'affiliate', 'wife', 'lonestar', 'charlotte', 'quickly', 'paper', 'test', 'comes', 'mobile', 'internal', 'privacy', 'ideas', 'live', 'gotten', 'floor', 'benefit', 'percent', 'ms', 'dr', 'ebs', 'msn', 'gave', 'dallas', 'enterprise', 'rx', 'spring', 'ftar', 'ooking', 'hawkins', 'exclusive', 'selected', 'baxter', 'actually', 'single', 'shop', 'nominates', 'guarantee', 'minute', 'correctly', 'unique', 'bid', 'building', 'stated', 'accept', 'assumptions', 'centana', 'senior', 'pill', 'kinsey', 'sap', 'immediate', 'goals', 'category', 'mitchell', 'acceptance', 'termination', 'sweeney', 'facts', 'amazon', 'arrangement', 'josey', 'funds', 'among', 'accuracy', 'mean', 'rather', 'kim', 'egmnom', 'indicate', 'updates', 'extra', 'adjustment', 'accounts', 'lowest', 'gold', 'purposes', 'remaining', 'talking', 'entry', 'road', 'load', 'simply', 'europe', 'lindley', 'understood', 'logos', 'hi', 'speed', 'profit', 'notified', 'jackson', 'z', 'vols', 'serve', 'additionally', 'shipped', 'connor', 'fontfont', 'q', 'kept', 'dollar', 'jr', 'almost', 'fri', 'paul', 'documents', 'analyst', 'crude', 'cap', 'shopping', 'aug', 'clearance', 'schneider', 'ftworth', 'father', 'anticipated', 'resellers', 'congress', 'counterparties', 'epgt', 'buying', 'san', 'invest', 'cartwheel', 'brandywine', 'wrong', 'mtbe', 'split', 'submitted', 'hull', 'gra', 'children', 'leader', 'true', 'baseload', 'mb', 'letters', 'billion', 'rights', 'mtr', 'heidi', 'clean', 'historical', 'asset', 'foreign', 'gr', 'entity', 'developed', 'maybe', 'jeffrey', 'transmission', 'outside', 'lost', 'membership', 'invitation', 'ocean', 'legislation', 'hernandez', 'pep', 'payments', 'wallis', 'rev', 'kenneth', 'seaman', 'annual', 'guess', 'bammel', 'lines', 'guadalupe', 'zivley', 'exception', 'example', 'pathing', 'revisions', 'pipelines', 'equity', 'budget', 'wed', 'dealers', 'window', 'juno', 'claims', 'bottom', 'standard', 'alternative', 'merchant', 'braband', 'topica', 'telephone', 'reliant', 'speculative', 'yes', 'en', 'morgan', 'cable', 'edmondson', 'participate', 'usb', 'throughout', 'checked', 'myself', 'contents', 'fat', 'investments', 'six', 'build', 'giving', 'calendar', 'inherent', 'edition', 'darial', 'hr', 'trip', 'pull', 'moving', 'concern', 'proposed', 'rm', 'deer', 'enquiries', 'alt', 'tammy', 'front', 'reduction', 'evening', 'concerning', 'gets', 'effect', 'isn', 'haven', 'cowboy', 'sea', 'dvd', 'launch', 'minimum', 'changing', 'built', 'avoid', 'chief', 'stephen', 'chad', 'manual', 'finally', 'strategy', 'executive', 'thousands', 'conflict', 'resulting', 'policy', 'commission', 'stand', 'positive', 'quantity', 'programs', 'airmail', 'texoma', 'prepared', 'austin', 'matt', 'intent', 'uae', 'citibank', 'jaquet', 'hol', 'harris', 'min', 'hplr', 'advance', 'weather', 'terminated', 'whom', 'sheet', 'venturatos', 'cellpadding', 'hotel', 'leading', 'guaranteed', 'idea', 'announce', 'pleased', 'award', 'operational', 'prepare', 'schedulers', 'child', 'sum', 'quote', 'adjusted', 'warning', 'issued', 'ga', 'cross', 'detail', 'pertaining', 'tess', 'owe', 'crow', 'availabilities', 'griffin', 'christy', 'crosstex', 'eel', 'itoy', 'heart', 'licensed', 'overnight', 'cal', 'otherwise', 'luck', 'stretch', 'generation', 'broker', 'construed', 'except', 'traders', 'carry', 'column', 'approx', 'main', 'alert', 'charges', 'step', 'revenues', 'games', 'gottlob', 'looked', 'individuals', 'beck', 'stuff', 'welcome', 'port', 'glover', 'description', 'daniel', 'quantities', 'park', 'managing', 'town', 'seller', 'summer', 'tina', 'dates', 'eff', 'dudley', 'ferc', 'robin', 'charles', 'customerservice', 'zonedubai', 'emirates', 'aeor', 'clickathome', 'materia', 'island', 'vaughn', 'sexual', 'eiben', 'forms', 'delete', 'realize', 'tailgate', 'behind', 'villarreal', 'lon', 'benoit', 'simple', 'tech', 'ahead', 'double', 'ordering', 'se', 'miss', 'law', 'eb', 'post', 'outlook', 'equipment', 'leslie', 'reeves', 'org', 'tools', 'cold', 'adjustments', 'contained', 'saw', 'edit', 'deciding', 'finance', 'patti', 'listbot', 'river', 'kathryn', 'holiday', 'successful', 'unable', 'advisor', 'pool', 'bryce', 'outages', 'adjust', 'screen', 'otc', 'brent', 'helps', 'auto', 'foot', 'region', 'links', 'contain', 'knowledge', 'yvette', 'dial', 'pressure', 'detailed', 'indicated', 'charged', 'sites', 'makes', 'female', 'mcmills', 'cook', 'mazowita', 'meredith', 'allocations', 'meetings', 'particular', 'environment', 'drug', 'search', 'mailings', 'designed', 'rock', 'measurement', 'art', 'corrected', 'kids', 'benefits', 'tv', 'seems', 'husband', 'fix', 'grow', 'decision', 'wireless', 'mo', 'conference', 'interview', 'levels', 'copies', 'cindy', 'urgent', 'regular', 'payroll', 'shown', 'consumers', 'reliable', 'tr', 'indicating', 'coast', 'greif', 'severson', 'tri', 'vicodin', 'liquids', 'significant', 'intend', 'usd', 'pager', 'avails', 'spencer', 'ce', 'charset', 'verdana', 'fully', 'flynn', 'da', 'personnel', 'multi', 'closed', 'vice', 'administration', 'gmt', 'midstream', 'eye', 'speckels', 'studio', 'cilco', 'likely', 'managers', 'structure', 'sit', 'parent', 'preparation', 'mix', 'mmbtus', 'timing', 'happening', 'lottery', 'killing', 'acquire', 'mack', 'pcx', 'fares', 'internationa', 'notification', 'swift', 'identify', 'areas', 'separate', 'unless', 'producers', 'allows', 'pretty', 'waste', 'joanie', 'drop', 'taxes', 'premium', 'teams', 'choice', 'largest', 'addressed', 'dolphin', 'ngo', 'self', 'davis', 'htm', 'ad', 'graphics', 'hit', 'competitive', 'thus', 'incorrect', 'ti', 'acts', 'previous', 'edu', 'proven', 'electric', 'pictures', 'charlene', 'benedict', 'chevron', 'treatment', 'lesson', 'player', 'sds', 'wc', 'intraday', 'assurance', 'sdsnom', 'rebecca', 'quit', 'netco', 'intra', 'whatever', 'lyondell', 'reviewed', 'solicitation', 'filings', 'log', 'noon', 'locations', 'joe', 'completely', 'rivers', 'language', 'street', 'automatically', 'ft', 'powerful', 'specials', 'alone', 'fyi', 'properly', 'proper', 'explode', 'decrease', 'medication', 'desks', 'impacted', 'anywhere', 'completion', 'banking', 'consider', 'certificate', 'exercise', 'zeroed', 'websites', 'tonight', 'diligence', 'education', 'club', 'vegas', 'affordable', 'sports', 'predictions', 'billing', 'diamond', 'posted', 'prayer', 'actions', 'nomad', 'resuits', 'jason', 'purpose', 'deposit', 'entertainment', 'materially', 'blank', 'resolution', 'anderson', 'nat', 'rom', 'soma', 'organization', 'aquila', 'solid', 'affected', 'transco', 'spend', 'responsibilities', 'assume', 'header', 'accountant', 'functionality', 'meant', 'killed', 'analysts', 'rick', 'rolled', 'noted', 'discovered', 'offices', 'torch', 'often', 'york', 'joint', 'briley', 'competition', 'guide', 'intercompany', 'son', 'settlement', 'presently', 'cart', 'tim', 'entries', 'russ', 'valadez', 'rules', 'molly', 'apple', 'atleast', 'scheduler', 'pi', 'hector', 'dell', 'opm', 'hottlist', 'yap', 'gone', 'heal', 'llc', 'setting', 'reached', 'proposal', 'hundred', 'trust', 'official', 'table', 'mcgee', 'written', 'operation', 'cellspacing', 'laptop', 'feature', 'ram', 'victoria', 'larry', 'units', 'requests', 'continued', 'external', 'pack', 'couldn', 'lateral', 'strictly', 'resource', 'although', 'sr', 'commodity', 'pulled', 'protocol', 'bed', 'generated', 'redmond', 'girl', 'apparently', 'tool', 'reviews', 'released', 'movies', 'inside', 'shareholder', 'rr', 'compensation', 'beliefs', 'foresee', 'lease', 'rule', 'marta', 'chemical', 'hillary', 'hp', 'tongue', 'adonis', 'advises', 'master', 'eight', 'wasn', 'itself', 'documentation', 'xl', 'humble', 'elsa', 'pics', 'hughes', 'brokered', 'distribute', 'consultation', 'sheri', 'lists', 'cannon', 'treated', 'factor', 'putting', 'verified', 'releases', 'enhanced', 'controls', 'craig', 'worksheet', 'conversion', 'max', 'hrs', 'helpful', 'hand', 'producing', 'dl', 'developing', 'design', 'woman', 'understands', 'standards', 'promotion', 'sarco', 'hospital', 'ffffff', 'respective', 'richmond', 'conoco', 'driver', 'easily', 'sean', 'den', 'gateway', 'holdings', 'brad', 'college', 'gains', 'adult', 'dated', 'em', 'mcloughlin', 'anticipates', 'henderson', 'julia', 'negotiations', 'sofftwaares', 'garrick', 'comstock', 'trochta', 'imceanotes', 'ecom', 'larger', 'nommensen', 'coordinate', 'partnership', 'otcbb', 'announces', 'louis', 'dealer', 'reliance', 'season', 'agua', 'dulce', 'offshore', 'gathered', 'forever', 'function', 'happened', 'sample', 'easier', 'aim', 'pa', 'expensive', 'thinks', 'maximum', 'war', 'mining', 'drilling', 'owned', 'todd', 'advanced', 'provider', 'pending', 'providers', 'silver', 'cherry', 'hundreds', 'thoughts', 'addresses', 'beach', 'baby', 'requires', 'caused', 'variance', 'extension', 'carbide', 'anytime', 'adding', 'triple', 'dawn', 'martinez', 'entering', 'login', 'bretz', 'ls', 'writeoff', 'locker', 'wiil', 'block', 'blood', 'romeo', 'responsibility', 'brennan', 'btu', 'venture', 'connected', 'nascar', 'opinions', 'executed', 'cell', 'flag', 'doctors', 'invoiced', 'marlin', 'coffey', 'nice', 'amazing', 'ii', 'determined', 'handled', 'keeping', 'touch', 'upgrade', 'shipment', 'brought', 'forwarding', 'confidence', 'hesitate', 'seem', 'electronic', 'appreciated', 'deadline', 'franklin', 'heather', 'reasons', 'passed', 'safety', 'procedures', 'payback', 'networks', 'utility', 'count', 'africa', 'exact', 'creating', 'loading', 'processed', 'court', 'tier', 'sender', 'att', 'mailbox', 'glad', 'buddy', 'profiles', 'portion', 'protection', 'compressor', 'okay', 'oba', 'finding', 'heads', 'bar', 'turned', 'remote', 'illustrator', 'oem', 'noticed', 'mails', 'darron', 'nick', 'urbanek', 'jerry', 'barrett', 'ehronline', 'und', 'abdv', 'egm', 'couid', 'technoiogies', 'owns', 'improved', 'eat', 'moment', 'owners', 'develop', 'installed', 'videos', 'frank', 'hearing', 'inches', 'busy', 'ref', 'valuable', 'et', 'un', 'url', 'shawna', 'iso', 'capture', 'extremely', 'ya', 'causing', 'consent', 'anyway', 'round', 'discrepancies', 'cheapest', 'confidentiality', 'disclosure', 'prohibited', 'vol', 'correction', 'communicate', 'processes', 'spain', 'shareholders', 'supported', 'smoking', 'mine', 'biggest', 'erections', 'platform', 'miles', 'exciting', 'association', 'die', 'restricted', 'ma', 'income', 'goal', 'bane', 'collection', 'nathan', 'wind', 'piece', 'familiar', 'gore', 'experiencing', 'pico', 'mai', 'dewpoint', 'tessie', 'hair', 'bussell', 'diane', 'delivering', 'originally', 'accurate', 'began', 'seven', 'tracking', 'randall', 'gay', 'emerging', 'prescriptions', 'story', 'arial', 'florida', 'space', 'ownership', 'european', 'sutton', 'concerned', 'male', 'spent', 'agreements', 'industries', 'picture', 'filled', 'continues', 'death', 'choate', 'majeure', 'device', 'hence', 'ten', 'campaign', 'massive', 'eyes', 'requesting', 'lives', 'reminder', 'eliminate', 'copied', 'consemiu', 'died', 'sound', 'offered', 'expressed', 'anti', 'duplicate', 'steps', 'books', 'improve', 'implementation', 'gives', 'ac', 'peggy', 'proprietary', 'ways', 'advertisement', 'published', 'earnings', 'mortgage', 'consumer', 'ct', 'tape', 'fl', 'cia', 'organizational', 'agenda', 'rental', 'carriere', 'moshou', 'church', 'trouble', 'medium', 'aggressive', 'smart', 'zajac', 'ail', 'participants', 'gap', 'earthlink', 'wire', 'trades', 'messaging', 'ut', 'wil', 'richardson', 'blvd', 'glo', 'seneca', 'pubiisher', 'imited', 'isc', 'contacts', 'sleep', 'kyle', 'cooperation', 'possibly', 'leaving', 'motor', 'hopefully', 'tie', 'speak', 'mi', 'suggested', 'canadian', 'uses', 'connect', 'pvr', 'rich', 'places', 'auction', 'po', 'spacer', 'client', 'recommended', 'royalty', 'amended', 'default', 'living', 'regardless', 'human', 'bringing', 'focused', 'stores', 'variety', 'netherlands', 'leaders', 'bowen', 'salary', 'signed', 'penny', 'loan', 'desktop', 'chase', 'pleasure', 'compare', 'session', 'overall', 'stranger', 'length', 'planned', 'sp', 'darrel', 'raise', 'palestinian', 'expiration', 'serial', 'premiere', 'suzanne', 'reduced', 'players', 'applicable', 'impotence', 'buckley', 'wayne', 'hansen', 'indicative', 'sabrae', 'dating', 'winners', 'marshall', 'highest', 'ea', 'presentation', 'allowed', 'square', 'danny', 'gepl', 'hydrocarbon', 'alpine', 'christmas', 'muscle', 'souza', 'relating', 'begins', 'ecf', 'forth', 'answers', 'audit', 'approve', 'lunch', 'types', 'starts', 'difficult', 'le', 'lasts', 'series', 'till', 'edge', 'growing', 'covered', 'shipper', 'sometime', 'republic', 'filter', 'sooner', 'increasing', 'nelson', 'percentage', 'returned', 'pop', 'interface', 'kin', 'experienced', 'prime', 'merger', 'obtain', 'ryan', 'servers', 'attachments', 'achieve', 'effects', 'gov', 'examples', 'procedure', 'explore', 'caribbean', 'rally', 'amounts', 'comfort', 'attempt', 'greatly', 'amelia', 'engel', 'delay', 'fare', 'der', 'cove', 'filing', 'fletcher', 'leth', 'undervalued', 'cents', 'esther', 'hlavaty', 'reid', 'lls', 'troy', 'palmer', 'metals', 'las', 'carter', 'luis', 'migration', 'brief', 'hess', 'therein', 'ur', 'pond', 'joanne', 'community', 'tglo', 'eogi', 'ml', 'wysak', 'felipe', 'errors', 'affect', 'convenient', 'minimal', 'boost', 'incremental', 'decide', 'reserve', 'superior', 'kerr', 'willing', 'quite', 'wild', 'unlimited', 'sans', 'mother', 'computers', 'unfortunately', 'ordered', 'satisfaction', 'priority', 'traded', 'testing', 'portal', 'ward', 'lets', 'aren', 'knows', 'refer', 'shot', 'fda', 'tue', 'saying', 'cancel', 'forecast', 'cousino', 'bass', 'permanent', 'phones', 'technical', 'whose', 'objective', 'cards', 'distributed', 'learning', 'fire', 'drill', 'towards', 'forget', 'explosion', 'gloria', 'formula', 'redelivery', 'audio', 'visual', 'encoding', 'approach', 'doubt', 'staffing', 'excite', 'corel', 'tm', 'enronavailso', 'contacting', 'alland', 'heavy', 'economic', 'nigeria', 'milwaukee', 'phillip', 'curve', 'returns', 'padre', 'kathy', 'buttons', 'sir', 'vary', 'sounds', 'disclose', 'authority', 'flw', 'straight', 'worldnet', 'beemer', 'ooo', 'defs', 'thorough', 'officers', 'flight', 'prefer', 'awesome', 'macintosh', 'feet', 'constitutes', 'formosa', 'porn', 'armstrong', 'driscoll', 'watches', 'newsietter', 'twenty', 'tommy', 'fields', 'method', 'setup', 'allocating', 'initially', 'missed', 'clarification', 'especially', 'dorcheus', 'del', 'millions', 'insurance', 'pooling', 'trial', 'tennessee', 'ellis', 'direction', 'bold', 'catch', 'performing', 'accepted', 'matters', 'batch', 'continuing', 'winning', 'symbol', 'offsystem', 'decisions', 'produced', 'ended', 'greatest', 'degree', 'solmonson', 'imbalances', 'fall', 'fear', 'hate', 'fight', 'reallocated', 'debt', 'reform', 'australia', 'plain', 'prompt', 'remains', 'ifhsc', 'enhancements', 'connevey', 'jay', 'valued', 'lay', 'infrastructure', 'military', 'allowing', 'ff', 'dry', 'Prediction']\n",
      "[0, 39, 20, 0, 24, 3, 26, 13, 3, 0, 7, 4, 15, 4, 0, 0, 1, 5, 0, 4, 3, 0, 2, 5, 0, 9, 10, 0, 0, 2, 3, 0, 2, 3, 0, 0, 2, 0, 0, 0, 0, 0, 0, 0, 0, 1, 0, 4, 4, 1, 0, 0, 0, 0, 0, 0, 1, 0, 0, 0, 0, 1, 0, 0, 1, 1, 0, 1, 0, 0, 0, 1, 0, 0, 1, 0, 0, 0, 0, 3, 0, 0, 0, 0, 1, 1, 0, 0, 0, 0, 7, 4, 0, 0, 0, 0, 1, 0, 4, 0, 5, 0, 0, 3, 0, 0, 0, 0, 0, 0, 0, 0, 0, 0, 0, 7, 0, 1, 0, 0, 1, 0, 0, 1, 0, 1, 0, 0, 0, 0, 0, 0, 2, 0, 0, 0, 0, 0, 0, 0, 0, 0, 0, 0, 0, 0, 0, 0, 0, 0, 0, 0, 0, 0, 1, 0, 0, 0, 0, 1, 0, 0, 0, 0, 0, 0, 0, 0, 0, 0, 0, 5, 0, 0, 0, 1, 0, 1, 0, 0, 0, 0, 0, 0, 0, 0, 0, 2, 0, 0, 0, 0, 0, 0, 0, 8, 0, 0, 0, 0, 0, 0, 1, 0, 0, 0, 0, 0, 0, 0, 0, 0, 0, 0, 0, 0, 1, 0, 0, 0, 0, 0, 0, 1, 0, 1, 0, 0, 0, 0, 0, 0, 0, 0, 0, 0, 0, 0, 2, 0, 0, 0, 0, 0, 0, 0, 0, 0, 0, 0, 0, 0, 0, 0, 0, 0, 0, 0, 0, 0, 2, 0, 0, 0, 0, 0, 0, 0, 0, 0, 0, 0, 0, 0, 0, 0, 0, 0, 0, 0, 0, 0, 1, 0, 0, 0, 0, 0, 0, 7, 0, 0, 0, 0, 0, 0, 0, 0, 0, 0, 0, 0, 2, 0, 0, 0, 0, 0, 0, 0, 0, 0, 0, 0, 0, 0, 2, 0, 0, 0, 0, 0, 0, 0, 0, 0, 0, 0, 0, 0, 0, 0, 0, 0, 0, 0, 0, 0, 0, 0, 2, 0, 0, 0, 0, 0, 0, 0, 0, 0, 0, 0, 0, 0, 0, 0, 0, 0, 0, 0, 0, 0, 0, 0, 0, 0, 0, 0, 0, 0, 0, 0, 0, 0, 0, 0, 0, 0, 0, 0, 0, 0, 0, 0, 0, 0, 0, 1, 1, 0, 0, 1, 0, 0, 0, 0, 0, 0, 0, 0, 0, 0, 2, 0, 2, 0, 0, 1, 0, 0, 0, 0, 0, 0, 0, 0, 0, 1, 0, 0, 0, 0, 0, 0, 0, 0, 0, 0, 0, 0, 0, 0, 0, 0, 0, 0, 0, 0, 0, 0, 0, 0, 0, 0, 0, 0, 0, 0, 0, 0, 1, 0, 0, 0, 1, 0, 0, 0, 0, 0, 0, 0, 0, 0, 2, 0, 0, 0, 0, 0, 0, 0, 0, 0, 0, 0, 0, 0, 0, 0, 0, 0, 0, 0, 0, 0, 1, 0, 0, 0, 0, 0, 0, 0, 0, 0, 0, 0, 0, 0, 0, 0, 0, 0, 0, 0, 0, 0, 0, 0, 0, 0, 0, 1, 0, 0, 0, 0, 0, 0, 0, 0, 0, 0, 0, 0, 0, 0, 5, 0, 0, 0, 0, 0, 0, 0, 0, 0, 0, 0, 0, 0, 0, 0, 0, 0, 0, 0, 0, 0, 0, 0, 0, 0, 0, 0, 0, 0, 0, 0, 0, 0, 0, 0, 0, 0, 0, 0, 0, 0, 0, 0, 0, 0, 0, 0, 0, 0, 0, 0, 0, 0, 0, 0, 0, 0, 0, 0, 0, 0, 0, 0, 0, 2, 0, 0, 0, 0, 0, 0, 0, 0, 0, 0, 0, 0, 1, 0, 0, 2, 0, 0, 0, 0, 0, 0, 0, 0, 1, 0, 0, 0, 0, 0, 0, 0, 0, 0, 0, 0, 0, 0, 0, 0, 0, 0, 0, 0, 0, 0, 0, 0, 0, 0, 0, 0, 0, 0, 0, 0, 0, 0, 0, 0, 0, 0, 0, 0, 0, 0, 0, 0, 0, 0, 0, 0, 0, 0, 0, 0, 0, 0, 0, 0, 0, 0, 0, 0, 0, 0, 0, 0, 0, 0, 2, 0, 0, 0, 0, 0, 0, 0, 0, 0, 0, 0, 0, 0, 0, 0, 0, 0, 0, 0, 0, 0, 0, 0, 0, 0, 0, 0, 0, 0, 0, 0, 0, 0, 0, 0, 1, 0, 0, 1, 0, 0, 0, 0, 0, 0, 0, 0, 0, 0, 0, 0, 0, 0, 0, 0, 0, 0, 0, 0, 0, 0, 0, 0, 0, 0, 0, 0, 0, 0, 0, 0, 1, 0, 0, 0, 0, 0, 0, 0, 0, 0, 0, 0, 0, 0, 5, 0, 0, 0, 0, 0, 0, 0, 0, 0, 4, 0, 0, 0, 1, 0, 0, 0, 0, 0, 0, 0, 0, 0, 0, 0, 0, 0, 0, 0, 0, 0, 0, 0, 0, 0, 0, 0, 0, 0, 0, 0, 0, 0, 0, 0, 0, 0, 0, 0, 0, 0, 0, 0, 0, 0, 0, 0, 0, 0, 0, 1, 0, 0, 0, 0, 0, 0, 0, 0, 0, 0, 0, 0, 0, 0, 0, 0, 0, 0, 0, 0, 0, 0, 0, 0, 0, 0, 0, 0, 0, 0, 0, 1, 0, 0, 0, 0, 0, 0, 0, 0, 0, 0, 0, 0, 0, 0, 0, 0, 0, 0, 0, 0, 0, 0, 0, 0, 0, 0, 0, 0, 0, 0, 0, 0, 0, 0, 0, 0, 0, 0, 0, 0, 0, 0, 0, 0, 0, 0, 0, 0, 0, 0, 0, 0, 0, 0, 0, 0, 0, 0, 0, 0, 0, 0, 0, 0, 0, 0, 0, 0, 0, 0, 0, 0, 0, 0, 0, 0, 0, 0, 0, 0, 0, 0, 0, 0, 0, 0, 0, 0, 0, 0, 0, 0, 0, 0, 0, 0, 0, 0, 0, 0, 0, 0, 0, 0, 0, 0, 0, 0, 0, 0, 0, 0, 1, 0, 0, 0, 0, 0, 0, 0, 0, 0, 0, 0, 0, 0, 0, 0, 0, 0, 0, 0, 1, 0, 0, 0, 0, 0, 0, 0, 0, 0, 0, 0, 0, 0, 0, 0, 0, 2, 0, 0, 0, 0, 0, 0, 0, 0, 0, 0, 0, 1, 0, 0, 0, 0, 0, 0, 0, 0, 0, 0, 2, 0, 0, 0, 0, 0, 0, 1, 0, 0, 0, 0, 0, 0, 0, 0, 0, 0, 0, 0, 0, 0, 0, 0, 0, 0, 0, 0, 0, 0, 0, 0, 0, 2, 0, 0, 0, 0, 0, 0, 0, 0, 0, 0, 0, 0, 0, 0, 0, 0, 0, 0, 0, 0, 0, 0, 0, 0, 0, 0, 0, 0, 0, 0, 0, 0, 0, 0, 0, 0, 0, 0, 0, 0, 0, 0, 0, 0, 0, 0, 0, 0, 0, 0, 0, 0, 0, 0, 0, 0, 0, 0, 0, 0, 0, 0, 0, 0, 0, 0, 0, 0, 0, 0, 0, 0, 0, 0, 0, 0, 0, 0, 0, 0, 0, 0, 0, 0, 0, 0, 0, 0, 0, 0, 0, 0, 0, 0, 0, 0, 0, 0, 0, 0, 0, 0, 0, 0, 0, 0, 0, 0, 0, 0, 0, 0, 0, 1, 0, 0, 0, 0, 0, 0, 0, 0, 0, 0, 0, 0, 0, 0, 0, 0, 0, 0, 0, 0, 0, 0, 0, 0, 0, 0, 0, 0, 0, 0, 0, 0, 0, 0, 0, 0, 0, 0, 0, 1, 0, 0, 0, 0, 0, 0, 0, 0, 0, 0, 0, 0, 0, 0, 0, 0, 0, 0, 0, 0, 0, 0, 0, 0, 0, 0, 0, 0, 0, 0, 0, 0, 0, 0, 0, 0, 0, 0, 0, 0, 1, 0, 0, 0, 0, 0, 0, 0, 0, 0, 0, 0, 0, 0, 0, 0, 0, 0, 0, 0, 0, 0, 0, 1, 0, 0, 0, 0, 0, 0, 0, 0, 0, 0, 0, 0, 0, 0, 0, 0, 0, 0, 0, 0, 0, 0, 0, 0, 0, 1, 0, 0, 0, 0, 0, 0, 0, 0, 0, 0, 0, 0, 0, 0, 0, 0, 0, 0, 0, 0, 0, 0, 0, 0, 0, 0, 0, 0, 0, 1, 0, 0, 0, 0, 0, 0, 0, 0, 0, 0, 0, 0, 0, 0, 0, 3, 0, 0, 0, 0, 0, 0, 0, 0, 0, 0, 0, 0, 0, 0, 0, 0, 0, 0, 0, 0, 0, 0, 0, 0, 0, 0, 0, 0, 0, 0, 0, 0, 0, 0, 0, 0, 0, 0, 2, 0, 0, 0, 0, 0, 1, 0, 0, 0, 0, 0, 0, 0, 0, 0, 0, 0, 0, 0, 0, 0, 0, 0, 0, 0, 0, 0, 0, 0, 0, 0, 0, 0, 0, 0, 0, 0, 0, 1, 0, 0, 0, 0, 0, 0, 2, 0, 0, 0, 0, 0, 0, 0, 0, 0, 0, 0, 0, 0, 0, 0, 0, 0, 0, 0, 0, 0, 0, 0, 0, 0, 1, 0, 0, 0, 0, 0, 0, 0, 0, 0, 0, 0, 0, 0, 0, 0, 0, 0, 0, 0, 0, 0, 0, 0, 0, 0, 0, 0, 0, 0, 0, 0, 0, 0, 0, 0, 0, 0, 0, 0, 0, 0, 0, 0, 0, 0, 0, 0, 0, 0, 0, 0, 0, 0, 0, 0, 0, 0, 0, 0, 0, 0, 0, 0, 0, 0, 0, 0, 0, 0, 0, 0, 0, 0, 0, 0, 0, 0, 0, 0, 0, 0, 0, 0, 0, 0, 0, 0, 0, 0, 0, 0, 0, 0, 0, 0, 0, 0, 0, 0, 0, 0, 0, 0, 0, 0, 0, 0, 0, 0, 0, 0, 0, 0, 0, 0, 0, 0, 0, 0, 0, 0, 0, 0, 0, 0, 0, 0, 0, 0, 0, 0, 1, 0, 1, 1, 0, 0, 0, 0, 0, 0, 0, 0, 0, 0, 0, 0, 0, 0, 0, 0, 0, 0, 0, 0, 0, 0, 0, 0, 1, 0, 0, 0, 0, 0, 0, 2, 0, 0, 0, 0, 0, 0, 0, 0, 0, 0, 0, 0, 0, 0, 0, 0, 0, 0, 0, 0, 0, 0, 0, 0, 1, 0, 0, 0, 0, 0, 0, 0, 0, 0, 0, 0, 0, 0, 0, 0, 0, 0, 0, 0, 1, 0, 0, 0, 0, 0, 0, 0, 0, 0, 0, 0, 0, 0, 0, 0, 0, 0, 0, 0, 0, 0, 0, 0, 0, 0, 0, 0, 0, 0, 0, 0, 0, 0, 0, 0, 0, 0, 0, 0, 0, 0, 0, 0, 0, 0, 0, 0, 0, 0, 0, 0, 0, 0, 0, 0, 0, 0, 0, 0, 0, 0, 0, 0, 0, 0, 0, 0, 0, 0, 0, 0, 0, 0, 0, 0, 0, 0, 0, 0, 0, 0, 0, 0, 0, 0, 0, 1, 0, 0, 0, 0, 0, 0, 0, 0, 0, 0, 0, 0, 0, 0, 0, 0, 0, 0, 0, 0, 0, 0, 0, 0, 0, 0, 0, 0, 0, 0, 0, 0, 0, 0, 0, 0, 0, 0, 0, 0, 0, 0, 0, 0, 0, 0, 0, 0, 0, 0, 0, 0, 0, 0, 0, 0, 0, 0, 0, 0, 0, 0, 0, 0, 0, 0, 0, 0, 0, 0, 0, 0, 0, 1, 0, 0, 0, 0, 0, 0, 0, 0, 0, 0, 0, 0, 0, 0, 0, 0, 0, 0, 0, 0, 0, 0, 0, 0, 0, 0, 0, 0, 0, 0, 0, 0, 0, 0, 0, 0, 0, 0, 0, 0, 0, 0, 0, 0, 0, 0, 0, 0, 0, 0, 0, 0, 0, 0, 0, 0, 0, 0, 0, 0, 0, 0, 0, 0, 0, 0, 0, 0, 0, 0, 0, 0, 0, 0, 0, 0, 0, 0, 0, 0, 2, 0, 0, 0, 0, 0, 0, 0, 0, 0, 0, 0, 0, 0, 0, 0, 0, 0, 0, 0, 0, 0, 0, 0, 0, 0, 0, 0, 0, 0, 0, 0, 0, 0, 0, 0, 0, 0, 0, 0, 0, 0, 0, 0, 0, 0, 0, 0, 0, 0, 0, 0, 0, 0, 1, 0, 0, 0, 0, 0, 0, 0, 0, 0, 0, 0, 0, 0, 0, 0, 0, 0, 0, 0, 0, 0, 0, 0, 0, 0, 0, 0, 0, 4, 0, 0, 0, 0, 0, 0, 0, 0, 0, 0, 0, 0, 0, 0, 0, 0, 0, 0, 0, 0, 0, 0, 0, 0, 0, 0, 0, 0, 0, 0, 0, 0, 0, 0, 0, 0, 0, 0, 0, 0, 0, 0, 0, 0, 0, 0, 0, 0, 0, 0, 0, 0, 0, 0, 0, 0, 0, 0, 0, 0, 0, 0, 0, 0, 0, 0, 0, 0, 0, 0, 0, 0, 0, 0, 0, 0, 0, 0, 0, 0, 0, 0, 0, 0, 0, 0, 0, 0, 0, 1, 0, 0, 0, 0, 0, 0, 0, 0, 1, 0, 0, 2, 0, 0, 0, 0, 0, 0, 0, 0, 0, 0, 0, 0, 0, 0, 0, 0, 0, 0, 0, 0, 0, 0, 0, 0, 0, 0, 0, 0, 0, 0, 0, 0, 0, 0, 0, 0, 0, 0, 0, 0, 0, 0, 0, 0, 0, 0, 0, 0, 0, 0, 0, 0, 0, 0, 7, 0, 0, 0, 0, 0, 0, 0, 0, 0, 0, 0, 0, 0, 0, 0, 0, 0, 1, 0, 0, 0, 0, 0, 0, 0, 0, 0, 0, 0, 0, 0, 0, 0, 0, 0, 0, 0, 0, 0, 0, 0, 0, 0, 0, 0, 0, 0, 0, 0, 0, 0, 0, 0, 0, 0, 0, 0, 0, 0, 0, 0, 0, 0, 0, 0, 0, 0, 0, 1, 0, 0, 0, 0, 0, 0, 0, 0, 0, 0, 0, 0, 0, 0, 0, 0, 0, 0, 0, 0, 0, 0, 0, 0, 0, 0, 0, 0, 0, 0, 0, 0, 0, 0, 0, 0, 0, 0, 0, 0, 0, 0, 0, 0, 0, 0, 0, 0, 0, 0, 0, 0, 0, 0, 0, 0, 0, 0, 0, 0, 0, 0, 0, 1, 0, 0, 0, 0, 0, 0, 0, 1, 0, 0, 0, 0, 0, 0, 0, 0, 0, 0, 0, 0, 0, 0, 0, 0, 0, 0, 0, 0, 0, 0, 0, 0, 0, 0, 0, 0, 0, 0, 0, 0, 0, 0, 0, 0, 0, 0, 0, 0, 0, 0, 0, 0, 0, 0, 0, 0, 0, 0, 0, 0, 0, 0, 0, 0, 0, 0, 0, 0, 0, 0, 0, 0, 0, 0, 0, 0, 0, 0, 0, 0, 0, 0, 0, 0, 0, 0, 0, 0, 0, 0, 0, 0, 0, 0, 0, 0, 0, 0, 0, 0, 0, 0, 0, 0, 0, 0, 0, 0, 0, 0, 0, 0, 0, 0, 0, 0, 0, 0, 0, 0, 0, 0, 0, 0, 0, 0, 0, 0, 0, 0, 0, 0, 0, 0, 0, 0, 0, 0, 0, 0, 0, 0, 0, 0, 0, 0, 0, 0, 0, 0, 0, 0, 0, 0, 0, 0, 0, 0, 0, 0, 0, 0, 0, 0, 0, 0, 0, 0, 0, 0, 0, 0, 0, 0, 0, 0, 0, 0, 0, 0, 0, 0, 0, 0, 0, 0, 0, 0, 0, 0, 0, 0, 0, 0, 0, 0, 0, 0, 0, 0, 0, 0, 0, 0, 0, 0, 0, 0, 0, 0, 0, 0, 0, 0, 0, 0, 0, 0, 0, 0, 0, 0, 0, 0, 0, 0, 0, 0, 0, 1, 0, 0, 0, 0, 0, 0, 0, 0, 0, 0, 0, 0, 0, 1, 1, 0, 0, 0, 0, 0, 0, 0, 0, 0, 0, 0, 0, 0, 0, 0, 0, 0, 0, 0, 0, 0, 0, 0, 0, 0, 0, 0, 0, 0, 0, 0, 0, 0, 0, 0, 0, 0, 0, 0, 0, 0, 0, 0, 0, 0, 0, 0, 0, 0, 0, 0, 0, 0, 0, 0, 0, 0, 0, 0, 0, 0, 0, 0, 0, 0, 0, 0, 0, 0, 0, 0, 0, 0, 0, 0, 0, 0, 0, 0, 0, 0, 0, 0, 0, 0, 0, 0, 0, 0, 0, 0, 0, 0, 0, 0, 0, 0, 0, 0, 1, 0, 0, 0, 0, 0, 0, 0, 0, 0, 0, 0, 0, 0, 0, 0, 0, 0, 0, 0, 0, 0, 0, 0, 0, 0, 0, 0, 0, 0, 0, 0, 0, 0, 0, 0, 0, 0, 0, 0, 0, 0, 0, 0, 0, 0, 1, 0, 0, 0, 0, 0, 0, 0, 0, 0, 0, 0, 0, 0, 0, 0, 0, 0, 0, 0, 0, 0, 0, 0, 0, 0, 0, 0, 0, 0, 0, 0, 0, 0, 0, 0, 0, 0, 0, 0, 0, 0, 0, 0, 0, 0, 0, 0, 0, 0, 0, 0, 0, 0, 0, 0, 0, 0, 0, 0, 0, 0, 0, 0, 0, 0, 0, 0, 0, 0, 0, 0, 0, 0, 0, 0, 0, 0, 0, 0, 0, 0, 0, 0, 0, 0, 0, 0, 0, 0, 0, 0, 0, 0, 0, 0, 0, 0, 0, 0, 0, 0, 0, 0, 0, 0, 0, 0, 0, 0, 0, 0, 0, 0, 1, 0, 0, 0, 0, 0, 0, 0, 0, 0, 0, 0, 0, 0, 0, 0, 0, 0, 0, 0, 0, 0, 0, 0, 0, 0, 0, 0, 0, 0, 0, 0, 0, 0, 0, 0, 0, 0, 0, 0, 0, 0, 0, 0, 0, 0, 0, 0, 0, 0, 0, 0, 0, 0, 0, 0, 0, 0, 0, 0, 0, 0, 0, 0, 0, 0, 0, 0, 0, 0, 0, 0, 0, 0, 0, 0, 0, 0, 0, 0, 0, 0, 0, 0, 1, 2, 0, 0, 0, 0, 0, 0, 0, 0, 0, 0, 0, 0, 0, 0, 0, 0, 0, 0, 0, 0, 0, 0, 0, 0, 0, 0, 0, 0, 0, 0, 0, 0, 0, 0, 0, 0, 0, 0, 0, 0, 0, 0, 0, 0, 0, 0, 0, 0, 0, 0, 0, 0, 0, 0, 0, 0, 0, 0, 0, 0, 0, 0, 0, 0, 0, 0, 0, 0, 0, 0, 0, 0, 0, 0, 0, 0, 0, 0, 0, 0, 0, 0, 0, 0, 0, 0, 0, 0, 0, 0, 0, 0, 0, 0, 0, 0, 0, 0, 0, 0, 0, 0, 0, 0, 0, 0, 0, 0, 0, 0, 0, 0, 0, 0]\n"
     ]
    }
   ],
   "source": [
    "print(col_head)\n",
    "print(col_val)"
   ]
  },
  {
   "cell_type": "code",
   "execution_count": null,
   "id": "7e25c39c",
   "metadata": {},
   "outputs": [],
   "source": []
  }
 ],
 "metadata": {
  "kernelspec": {
   "display_name": "Python 3 (ipykernel)",
   "language": "python",
   "name": "python3"
  },
  "language_info": {
   "codemirror_mode": {
    "name": "ipython",
    "version": 3
   },
   "file_extension": ".py",
   "mimetype": "text/x-python",
   "name": "python",
   "nbconvert_exporter": "python",
   "pygments_lexer": "ipython3",
   "version": "3.9.13"
  }
 },
 "nbformat": 4,
 "nbformat_minor": 5
}
